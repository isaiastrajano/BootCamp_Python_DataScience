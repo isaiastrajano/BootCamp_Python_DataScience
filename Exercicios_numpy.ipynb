{
  "nbformat": 4,
  "nbformat_minor": 0,
  "metadata": {
    "colab": {
      "name": "Exercicios_numpy.ipynb",
      "provenance": [],
      "collapsed_sections": [],
      "toc_visible": true,
      "authorship_tag": "ABX9TyMvcbnp7Rir0vEA3VFiwQpD",
      "include_colab_link": true
    },
    "kernelspec": {
      "name": "python3",
      "display_name": "Python 3"
    },
    "language_info": {
      "name": "python"
    }
  },
  "cells": [
    {
      "cell_type": "markdown",
      "metadata": {
        "id": "view-in-github",
        "colab_type": "text"
      },
      "source": [
        "<a href=\"https://colab.research.google.com/github/isaiastrajano/BootCamp_Python_DataScience/blob/main/Exercicios_numpy.ipynb\" target=\"_parent\"><img src=\"https://colab.research.google.com/assets/colab-badge.svg\" alt=\"Open In Colab\"/></a>"
      ]
    },
    {
      "cell_type": "markdown",
      "metadata": {
        "id": "OF7kVK8PGjit"
      },
      "source": [
        "Exercícios da biblioteca Numpy de Python\n"
      ]
    },
    {
      "cell_type": "markdown",
      "metadata": {
        "id": "F3gIHrT3CSBs"
      },
      "source": [
        "# Exercício 1"
      ]
    },
    {
      "cell_type": "markdown",
      "metadata": {
        "id": "zoyL8zDNtFs9"
      },
      "source": [
        "Exercícios 1\n",
        "\n",
        "Inspecionando um Array NumPy\n",
        "\n",
        "Um objeto numpy possui atributos e métodos, herdados da classe (numpy.ndarray). Crie um array  e inspecione os seguintes atributos:\n",
        "\n",
        "shape: uma tupla que contém o número de elementos (tamanho) em cada dimensão do array;\n",
        "\n",
        "size: número total de elementos do array;\n",
        "\n",
        "ndim: número de dimensões (eixos);\n",
        "\n",
        "nbytes: número de bytes utilizado no armazenamento dos dados;\n",
        "\n",
        "dtype: data type dos elementos do array."
      ]
    },
    {
      "cell_type": "code",
      "metadata": {
        "id": "xqSRI1glsR6p"
      },
      "source": [
        "import numpy as np"
      ],
      "execution_count": null,
      "outputs": []
    },
    {
      "cell_type": "code",
      "metadata": {
        "colab": {
          "base_uri": "https://localhost:8080/"
        },
        "id": "iJV2U8aUsuFq",
        "outputId": "33acf6f8-76f1-4eba-852f-917571713f1f"
      },
      "source": [
        "array = np.array([1, 2, 3, 4])\n",
        "array"
      ],
      "execution_count": null,
      "outputs": [
        {
          "output_type": "execute_result",
          "data": {
            "text/plain": [
              "array([1, 2, 3, 4])"
            ]
          },
          "metadata": {},
          "execution_count": 2
        }
      ]
    },
    {
      "cell_type": "code",
      "metadata": {
        "id": "H1CYs4CUs-x0",
        "colab": {
          "base_uri": "https://localhost:8080/"
        },
        "outputId": "be18eae1-6b5e-4f04-edf2-1c57d02f9bea"
      },
      "source": [
        "print(\"O shape do array: \", array.shape)"
      ],
      "execution_count": null,
      "outputs": [
        {
          "output_type": "stream",
          "name": "stdout",
          "text": [
            "O shape do array:  (4,)\n"
          ]
        }
      ]
    },
    {
      "cell_type": "code",
      "metadata": {
        "id": "3aHTH_uHtIta",
        "colab": {
          "base_uri": "https://localhost:8080/"
        },
        "outputId": "64c4e17d-96f5-49ac-9a76-e449dbdb20be"
      },
      "source": [
        "array.size"
      ],
      "execution_count": null,
      "outputs": [
        {
          "output_type": "execute_result",
          "data": {
            "text/plain": [
              "4"
            ]
          },
          "metadata": {},
          "execution_count": 4
        }
      ]
    },
    {
      "cell_type": "code",
      "metadata": {
        "id": "iQRme4fJtMya",
        "colab": {
          "base_uri": "https://localhost:8080/"
        },
        "outputId": "feb95929-34fd-4c95-99dd-4cf6c50ae0cc"
      },
      "source": [
        "array.ndim"
      ],
      "execution_count": null,
      "outputs": [
        {
          "output_type": "execute_result",
          "data": {
            "text/plain": [
              "1"
            ]
          },
          "metadata": {},
          "execution_count": 5
        }
      ]
    },
    {
      "cell_type": "code",
      "metadata": {
        "id": "Fdl8tqDItTAW",
        "colab": {
          "base_uri": "https://localhost:8080/"
        },
        "outputId": "05f382d7-cfd8-4244-e99a-90767f1ee2c4"
      },
      "source": [
        "array.dtype"
      ],
      "execution_count": null,
      "outputs": [
        {
          "output_type": "execute_result",
          "data": {
            "text/plain": [
              "dtype('int64')"
            ]
          },
          "metadata": {},
          "execution_count": 6
        }
      ]
    },
    {
      "cell_type": "markdown",
      "metadata": {
        "id": "Hjb9jSmCCl23"
      },
      "source": [
        "# Exercício 2"
      ]
    },
    {
      "cell_type": "markdown",
      "metadata": {
        "id": "ej1CNtAZt3LK"
      },
      "source": [
        "Exercício 2\n",
        "\n",
        "Com base no exercício anterior crie uma função que receba um array e mostre na tela seus atributos. Verifique se o argumento inserido é de fato um objeto numpy. Use também a função built-in type() para verificar a classe do objeto."
      ]
    },
    {
      "cell_type": "code",
      "metadata": {
        "id": "SJXp5teUt4YS"
      },
      "source": [
        "def funcao (array):\n",
        "    if isinstance(array, np.ndarray):\n",
        "       print(\"O shape : \", array.shape)\n",
        "       print(\"O tamanho : \", array.size)\n",
        "       print(\"Dimensões : \", array.ndim)\n",
        "       print(\"Dtipo de arquivo : \", array.dtype)\n",
        "       print(\"O tipo do arquivo : \", type(array))\n",
        "       print(array)\n",
        "    else:\n",
        "       return 'valor não é tipo np.array'"
      ],
      "execution_count": null,
      "outputs": []
    },
    {
      "cell_type": "code",
      "metadata": {
        "id": "dq0PtbupuBp5",
        "colab": {
          "base_uri": "https://localhost:8080/"
        },
        "outputId": "f63adecb-3c22-4f67-ae71-32b6dc3fa672"
      },
      "source": [
        "print(funcao(array))"
      ],
      "execution_count": null,
      "outputs": [
        {
          "output_type": "stream",
          "name": "stdout",
          "text": [
            "O shape :  (4,)\n",
            "O tamanho :  4\n",
            "Dimensões :  1\n",
            "Dtipo de arquivo :  int64\n",
            "O tipo do arquivo :  <class 'numpy.ndarray'>\n",
            "[1 2 3 4]\n",
            "None\n"
          ]
        }
      ]
    },
    {
      "cell_type": "code",
      "metadata": {
        "id": "bp4lGQSSynlI",
        "colab": {
          "base_uri": "https://localhost:8080/"
        },
        "outputId": "b0ffa297-3456-4556-b3ab-4ed0dbe14227"
      },
      "source": [
        "print(funcao(5))"
      ],
      "execution_count": null,
      "outputs": [
        {
          "output_type": "stream",
          "name": "stdout",
          "text": [
            "valor não é tipo np.array\n"
          ]
        }
      ]
    },
    {
      "cell_type": "markdown",
      "metadata": {
        "id": "y_6XRjXhCzRt"
      },
      "source": [
        "# Exercício 3"
      ]
    },
    {
      "cell_type": "markdown",
      "metadata": {
        "id": "xEEEOiXG0_BD"
      },
      "source": [
        "Exercício 3\n",
        "\n",
        "Use a função np.array() para criar os arrays unidimensionais listados abaixo:\n",
        "\n",
        "a) Use uma lista como argumento e obtenha:\n",
        "\n",
        "array([-1,  4,  7,  9])\n",
        "\n",
        "b) Use a função range() e obtenha:\n",
        "      \n",
        "array([ 1,  2,  3,  4,  5,  6,  7,  8,  9, 10])\n",
        "\n",
        "c)Use uma tupla como argumento e obtenha:\n",
        "    \n",
        "array([10, 11, 12, 13, 14])\n",
        "\n",
        "d) Use a função range() e obtenha:\n",
        "\n",
        "array([1990, 1995, 2000, 2005, 2010, 2015, 2020])\n",
        "\n",
        "e) Use a função range() e obtenha:"
      ]
    },
    {
      "cell_type": "code",
      "metadata": {
        "id": "0xkgusFMuS-t"
      },
      "source": [
        "#a\n",
        "array = np.array([-1, 4, 7, 9])"
      ],
      "execution_count": null,
      "outputs": []
    },
    {
      "cell_type": "code",
      "metadata": {
        "id": "cDzI0yf4xCpw"
      },
      "source": [
        "#b\n",
        "array1 = np.array(range(1, 11))"
      ],
      "execution_count": null,
      "outputs": []
    },
    {
      "cell_type": "code",
      "metadata": {
        "id": "Sj9RYjtoclrJ",
        "colab": {
          "base_uri": "https://localhost:8080/"
        },
        "outputId": "1a7b5107-07ca-4f54-8033-b1233dd03589"
      },
      "source": [
        "#c\n",
        "val = (10, 11, 12, 23, 14)\n",
        "array2 = np.array(val)\n",
        "array2"
      ],
      "execution_count": null,
      "outputs": [
        {
          "output_type": "execute_result",
          "data": {
            "text/plain": [
              "array([10, 11, 12, 23, 14])"
            ]
          },
          "metadata": {},
          "execution_count": 12
        }
      ]
    },
    {
      "cell_type": "code",
      "metadata": {
        "id": "GnFPkwOxdA73",
        "colab": {
          "base_uri": "https://localhost:8080/"
        },
        "outputId": "4b948524-c26a-4bf4-b677-f827265a787f"
      },
      "source": [
        "#d\n",
        "array3 = np.array(range(1990, 2025, 5))\n",
        "array3"
      ],
      "execution_count": null,
      "outputs": [
        {
          "output_type": "execute_result",
          "data": {
            "text/plain": [
              "array([1990, 1995, 2000, 2005, 2010, 2015, 2020])"
            ]
          },
          "metadata": {},
          "execution_count": 13
        }
      ]
    },
    {
      "cell_type": "code",
      "metadata": {
        "id": "aa3961chdmf2",
        "colab": {
          "base_uri": "https://localhost:8080/"
        },
        "outputId": "61523105-0e6b-4400-9fba-fb9bd7e79cdb"
      },
      "source": [
        "#e\n",
        "array4 = np.array(range(2020, 1890, -10))\n",
        "array4"
      ],
      "execution_count": null,
      "outputs": [
        {
          "output_type": "execute_result",
          "data": {
            "text/plain": [
              "array([2020, 2010, 2000, 1990, 1980, 1970, 1960, 1950, 1940, 1930, 1920,\n",
              "       1910, 1900])"
            ]
          },
          "metadata": {},
          "execution_count": 14
        }
      ]
    },
    {
      "cell_type": "markdown",
      "metadata": {
        "id": "O5s7Q0llDEwO"
      },
      "source": [
        "# Exercício 4"
      ]
    },
    {
      "cell_type": "markdown",
      "metadata": {
        "id": "IomHpIbqeKfG"
      },
      "source": [
        "Exercício 4\n",
        "\n",
        "A função np.ones() permite criar um array preenchido com o número 1 em todas as suas entradas. Podemos especificar como argumentos o shape e o tipo de dado dtype do array. Use esta função para criar os arrays a seguir:\n",
        "\n",
        "a)\n",
        "array([1., 1., 1., 1., 1., 1., 1., 1., 1., 1.])\n",
        "\n",
        "\n",
        "b)\n",
        "array([[1., 1., 1., 1.],\n",
        "           [1., 1., 1., 1.],\n",
        "           [1., 1., 1., 1.],\n",
        "           [1., 1., 1., 1.]])\n",
        "\n",
        "c)\n",
        "array([[1, 1],\n",
        "           [1, 1],\n",
        "           [1, 1]])"
      ]
    },
    {
      "cell_type": "code",
      "metadata": {
        "id": "Q5JVZZFyeKCX"
      },
      "source": [
        "\n",
        "#a\n",
        "array5 = np.ones(3)\n",
        "array6 = np.ones(shape = (4, 4))"
      ],
      "execution_count": null,
      "outputs": []
    },
    {
      "cell_type": "code",
      "metadata": {
        "id": "63gxtoUa2c_-",
        "colab": {
          "base_uri": "https://localhost:8080/"
        },
        "outputId": "757d5eea-0484-4a8a-d4ab-9d7f983d0c4a"
      },
      "source": [
        "array5"
      ],
      "execution_count": null,
      "outputs": [
        {
          "output_type": "execute_result",
          "data": {
            "text/plain": [
              "array([1., 1., 1.])"
            ]
          },
          "metadata": {},
          "execution_count": 16
        }
      ]
    },
    {
      "cell_type": "code",
      "metadata": {
        "id": "T4QH5WRb2eQy",
        "colab": {
          "base_uri": "https://localhost:8080/"
        },
        "outputId": "c7a55fbc-4d11-4e7e-c4e9-0c6566d026fa"
      },
      "source": [
        "array6"
      ],
      "execution_count": null,
      "outputs": [
        {
          "output_type": "execute_result",
          "data": {
            "text/plain": [
              "array([[1., 1., 1., 1.],\n",
              "       [1., 1., 1., 1.],\n",
              "       [1., 1., 1., 1.],\n",
              "       [1., 1., 1., 1.]])"
            ]
          },
          "metadata": {},
          "execution_count": 17
        }
      ]
    },
    {
      "cell_type": "code",
      "metadata": {
        "id": "P9HJR8Kv2hkG",
        "colab": {
          "base_uri": "https://localhost:8080/"
        },
        "outputId": "1a17bf66-41ce-4e23-cf1a-0fa6201ca73a"
      },
      "source": [
        "\n",
        "#b\n",
        "array7 = np.ones((3, 2), dtype=float)\n",
        "array7"
      ],
      "execution_count": null,
      "outputs": [
        {
          "output_type": "execute_result",
          "data": {
            "text/plain": [
              "array([[1., 1.],\n",
              "       [1., 1.],\n",
              "       [1., 1.]])"
            ]
          },
          "metadata": {},
          "execution_count": 18
        }
      ]
    },
    {
      "cell_type": "markdown",
      "metadata": {
        "id": "CHVBCNJADVVy"
      },
      "source": [
        "# Exercício 5\n"
      ]
    },
    {
      "cell_type": "markdown",
      "metadata": {
        "id": "-35O-Myc3OW9"
      },
      "source": [
        "Exercício 5\n",
        "\n",
        "A função np.zeros() permite criar um array preenchido com o número 0 em todas as suas entradas. Podemos especificar como argumentos o shape e o tipo de dado dtype do array (default é o float). Use esta função para criar os arrays a seguir:\n",
        "\n",
        "a)\n",
        "array([0., 0., 0., 0., 0., 0., 0., 0., 0., 0.])\n",
        "\n",
        "b)\n",
        "array([[0., 0.],\n",
        "      [0., 0.]])  \n",
        "\n",
        "c)\n",
        "array([[0., 0., 0., 0., 0., 0.],\n",
        "           [0., 0., 0., 0., 0., 0.],\n",
        "           [0., 0., 0., 0., 0., 0.],\n",
        "           [0., 0., 0., 0., 0., 0.]])"
      ]
    },
    {
      "cell_type": "code",
      "metadata": {
        "id": "75_Yomgu3SyW",
        "colab": {
          "base_uri": "https://localhost:8080/"
        },
        "outputId": "6fda7425-03ea-40a8-ade6-688df194c98b"
      },
      "source": [
        "#a\n",
        "array8 = np.zeros(10)\n",
        "array8"
      ],
      "execution_count": null,
      "outputs": [
        {
          "output_type": "execute_result",
          "data": {
            "text/plain": [
              "array([0., 0., 0., 0., 0., 0., 0., 0., 0., 0.])"
            ]
          },
          "metadata": {},
          "execution_count": 19
        }
      ]
    },
    {
      "cell_type": "code",
      "metadata": {
        "id": "Zey5Bb623w0-",
        "colab": {
          "base_uri": "https://localhost:8080/"
        },
        "outputId": "52564e8c-05cf-47f3-c06b-7da1ba19eb76"
      },
      "source": [
        "#b\n",
        "array9 = np.zeros(shape = (2, 2))\n",
        "array9"
      ],
      "execution_count": null,
      "outputs": [
        {
          "output_type": "execute_result",
          "data": {
            "text/plain": [
              "array([[0., 0.],\n",
              "       [0., 0.]])"
            ]
          },
          "metadata": {},
          "execution_count": 20
        }
      ]
    },
    {
      "cell_type": "code",
      "metadata": {
        "id": "hzNqrFwD4EUI",
        "colab": {
          "base_uri": "https://localhost:8080/"
        },
        "outputId": "da7479fa-2d71-465c-ad76-f7565f6bc22c"
      },
      "source": [
        "#c\n",
        "array10 = np.zeros(shape = (4, 6))\n",
        "array10"
      ],
      "execution_count": null,
      "outputs": [
        {
          "output_type": "execute_result",
          "data": {
            "text/plain": [
              "array([[0., 0., 0., 0., 0., 0.],\n",
              "       [0., 0., 0., 0., 0., 0.],\n",
              "       [0., 0., 0., 0., 0., 0.],\n",
              "       [0., 0., 0., 0., 0., 0.]])"
            ]
          },
          "metadata": {},
          "execution_count": 21
        }
      ]
    },
    {
      "cell_type": "markdown",
      "metadata": {
        "id": "oRvn8vyLDlTQ"
      },
      "source": [
        "# Exercício 6"
      ]
    },
    {
      "cell_type": "markdown",
      "metadata": {
        "id": "I7bPMofj4UXV"
      },
      "source": [
        "Exercício 6\n",
        "\n",
        "Crie os arrays a seguir:\n",
        "\n",
        "   \n",
        "\n",
        "a)\n",
        "array([[10],\n",
        "           [15],\n",
        "           [20],\n",
        "           [25],\n",
        "           [30],\n",
        "           [35],\n",
        "           [40],\n",
        "           [45]])\n",
        "\n",
        "b)\n",
        "array([-50, -45, -40, -35, -30, -25, -20, -15, -10,  -5])\n",
        "\n",
        "\n",
        "c)\n",
        "array([[ 50,  52,  54,  56,  58,  60,  62,  64,  66,  68],\n",
        "      [ 70,  72,  74,  76,  78,  80,  82,  84,  86,  88],\n",
        "      [ 90,  92,  94,  96,  98, 100, 102, 104, 106, 108],\n",
        "      [110, 112, 114, 116, 118, 120, 122, 124, 126, 128],\n",
        "      [130, 132, 134, 136, 138, 140, 142, 144, 146, 148]])\n",
        "\n",
        "Dica: use np.arange() ou np.array(range())."
      ]
    },
    {
      "cell_type": "code",
      "metadata": {
        "colab": {
          "base_uri": "https://localhost:8080/"
        },
        "id": "0MhPAhZP4XZt",
        "outputId": "38c49d7a-9b40-4fd4-dc1a-43d78c81bd2d"
      },
      "source": [
        "\n",
        "#a\n",
        "array11 = np.arange(10, 46, 5)\n",
        "array11 = np.split(array11, len(array11))\n",
        "array11\n",
        "\n",
        "#ou\n",
        "\n",
        "#a = np.arange(10, 50, 5).reshape(-1, 1)"
      ],
      "execution_count": null,
      "outputs": [
        {
          "output_type": "execute_result",
          "data": {
            "text/plain": [
              "[array([10]),\n",
              " array([15]),\n",
              " array([20]),\n",
              " array([25]),\n",
              " array([30]),\n",
              " array([35]),\n",
              " array([40]),\n",
              " array([45])]"
            ]
          },
          "metadata": {},
          "execution_count": 22
        }
      ]
    },
    {
      "cell_type": "code",
      "metadata": {
        "id": "KKhTVwut4-eO",
        "colab": {
          "base_uri": "https://localhost:8080/"
        },
        "outputId": "549aef70-4522-4551-92d6-198b854a3157"
      },
      "source": [
        "#b\n",
        "array12 = np.arange(-50, -4, 5)\n",
        "array12"
      ],
      "execution_count": null,
      "outputs": [
        {
          "output_type": "execute_result",
          "data": {
            "text/plain": [
              "array([-50, -45, -40, -35, -30, -25, -20, -15, -10,  -5])"
            ]
          },
          "metadata": {},
          "execution_count": 23
        }
      ]
    },
    {
      "cell_type": "code",
      "metadata": {
        "id": "rwpDYwve5QW-",
        "colab": {
          "base_uri": "https://localhost:8080/"
        },
        "outputId": "cd7ed8ab-6c73-4649-b1c3-c5cf21b1a6c1"
      },
      "source": [
        "#c\n",
        "\n",
        "array13 = np.array(range(50, 149, 2)).reshape(5, 10)\n",
        "array13\n",
        "#np.array(range(12)).reshape(3,4)"
      ],
      "execution_count": null,
      "outputs": [
        {
          "output_type": "execute_result",
          "data": {
            "text/plain": [
              "array([[ 50,  52,  54,  56,  58,  60,  62,  64,  66,  68],\n",
              "       [ 70,  72,  74,  76,  78,  80,  82,  84,  86,  88],\n",
              "       [ 90,  92,  94,  96,  98, 100, 102, 104, 106, 108],\n",
              "       [110, 112, 114, 116, 118, 120, 122, 124, 126, 128],\n",
              "       [130, 132, 134, 136, 138, 140, 142, 144, 146, 148]])"
            ]
          },
          "metadata": {},
          "execution_count": 24
        }
      ]
    },
    {
      "cell_type": "markdown",
      "metadata": {
        "id": "nE4X5xpaD3_I"
      },
      "source": [
        "# Exercício 7"
      ]
    },
    {
      "cell_type": "markdown",
      "metadata": {
        "id": "J-9-qs2BA3kP"
      },
      "source": [
        "Exercício 7\n",
        "\n",
        "Utilize a função np.full(shape, fill_value, dtype) para criar os arrays a seguir. Esta função permite criar um array com um shape e dtype definidos pelo usuário, preenchido com um determinado valor.\n",
        "\n",
        "a)\n",
        "array([5., 5., 5., 5., 5., 5., 5., 5., 5., 5.])\n",
        "\n",
        "b)\n",
        "array([[-5., -5., -5., -5.],\n",
        "           [-5., -5., -5., -5.],\n",
        "           [-5., -5., -5., -5.],\n",
        "           [-5., -5., -5., -5.]])\n",
        "\n",
        "\n",
        "c)\n",
        "array([[3, 3, 3],\n",
        "      [3, 3, 3],\n",
        "      [3, 3, 3]])\n",
        "\n",
        "d)\n",
        "array([[50, 50, 50, 50, 50, 50, 50, 50, 50, 50],\n",
        "           [50, 50, 50, 50, 50, 50, 50, 50, 50, 50],\n",
        "           [50, 50, 50, 50, 50, 50, 50, 50, 50, 50],\n",
        "           [50, 50, 50, 50, 50, 50, 50, 50, 50, 50],\n",
        "           [50, 50, 50, 50, 50, 50, 50, 50, 50, 50],\n",
        "           [50, 50, 50, 50, 50, 50, 50, 50, 50, 50],\n",
        "           [50, 50, 50, 50, 50, 50, 50, 50, 50, 50],\n",
        "           [50, 50, 50, 50, 50, 50, 50, 50, 50, 50],\n",
        "           [50, 50, 50, 50, 50, 50, 50, 50, 50, 50],\n",
        "           [50, 50, 50, 50, 50, 50, 50, 50, 50, 50]])"
      ]
    },
    {
      "cell_type": "code",
      "metadata": {
        "id": "e9Ivd5NBBR4c",
        "colab": {
          "base_uri": "https://localhost:8080/"
        },
        "outputId": "4432455b-1cda-4506-91bb-f459cc4ee295"
      },
      "source": [
        "\n",
        "#a\n",
        "array14 = np.full(shape = (10), fill_value = 5, dtype = float)\n",
        "array14"
      ],
      "execution_count": null,
      "outputs": [
        {
          "output_type": "execute_result",
          "data": {
            "text/plain": [
              "array([5., 5., 5., 5., 5., 5., 5., 5., 5., 5.])"
            ]
          },
          "metadata": {},
          "execution_count": 25
        }
      ]
    },
    {
      "cell_type": "code",
      "metadata": {
        "id": "Jc6ZAJIrDQCe",
        "colab": {
          "base_uri": "https://localhost:8080/"
        },
        "outputId": "7df845ab-c2c7-43bd-e521-cbbf9dca2fbe"
      },
      "source": [
        "#b\n",
        "array15 = np.full(shape = (4, 4), fill_value = -5, dtype = float)\n",
        "array15"
      ],
      "execution_count": null,
      "outputs": [
        {
          "output_type": "execute_result",
          "data": {
            "text/plain": [
              "array([[-5., -5., -5., -5.],\n",
              "       [-5., -5., -5., -5.],\n",
              "       [-5., -5., -5., -5.],\n",
              "       [-5., -5., -5., -5.]])"
            ]
          },
          "metadata": {},
          "execution_count": 26
        }
      ]
    },
    {
      "cell_type": "code",
      "metadata": {
        "id": "s7rKCVIPDryb",
        "colab": {
          "base_uri": "https://localhost:8080/"
        },
        "outputId": "60b97e53-453a-40cf-c62a-115e7d3e0781"
      },
      "source": [
        "array16 = np.full((3, 3), 3, int)\n",
        "array16"
      ],
      "execution_count": null,
      "outputs": [
        {
          "output_type": "execute_result",
          "data": {
            "text/plain": [
              "array([[3, 3, 3],\n",
              "       [3, 3, 3],\n",
              "       [3, 3, 3]])"
            ]
          },
          "metadata": {},
          "execution_count": 27
        }
      ]
    },
    {
      "cell_type": "code",
      "metadata": {
        "id": "NFQCP6zaEGj4",
        "colab": {
          "base_uri": "https://localhost:8080/"
        },
        "outputId": "b5c31f34-bf95-4292-b490-f1ce4ebc5879"
      },
      "source": [
        "array17 = np.full((10, 10), 50, int)\n",
        "array17"
      ],
      "execution_count": null,
      "outputs": [
        {
          "output_type": "execute_result",
          "data": {
            "text/plain": [
              "array([[50, 50, 50, 50, 50, 50, 50, 50, 50, 50],\n",
              "       [50, 50, 50, 50, 50, 50, 50, 50, 50, 50],\n",
              "       [50, 50, 50, 50, 50, 50, 50, 50, 50, 50],\n",
              "       [50, 50, 50, 50, 50, 50, 50, 50, 50, 50],\n",
              "       [50, 50, 50, 50, 50, 50, 50, 50, 50, 50],\n",
              "       [50, 50, 50, 50, 50, 50, 50, 50, 50, 50],\n",
              "       [50, 50, 50, 50, 50, 50, 50, 50, 50, 50],\n",
              "       [50, 50, 50, 50, 50, 50, 50, 50, 50, 50],\n",
              "       [50, 50, 50, 50, 50, 50, 50, 50, 50, 50],\n",
              "       [50, 50, 50, 50, 50, 50, 50, 50, 50, 50]])"
            ]
          },
          "metadata": {},
          "execution_count": 28
        }
      ]
    },
    {
      "cell_type": "markdown",
      "metadata": {
        "id": "m2hMTJAaED_e"
      },
      "source": [
        "# Exercício 8"
      ]
    },
    {
      "cell_type": "markdown",
      "metadata": {
        "id": "wxGSh5oUFLSY"
      },
      "source": [
        "Exercício 8\n",
        "\n",
        "Defina o array K e verifique se há dados ausentes (missing data). Use a função np.isnan().\n",
        "\n",
        "array([[ nan,   1.,  10.,   0.],\n",
        "      [ nan,  nan,  nan,  nan],\n",
        "      [100.,  50.,  nan, -25.],\n",
        "      [ 30.,  nan,  nan, 130.]])"
      ]
    },
    {
      "cell_type": "code",
      "metadata": {
        "id": "XZ3B_z0jFNr_",
        "colab": {
          "base_uri": "https://localhost:8080/"
        },
        "outputId": "23885d55-a1ce-42a9-dcac-b071d227104f"
      },
      "source": [
        "k = np.array =([[np.nan, 1., 10., 0.], [np.nan, np.nan, np.nan, np.nan], [100, 50, np.nan, -25], [30, np.nan, np.nan, 130]])\n",
        "y = np.isnan(k)\n",
        "y"
      ],
      "execution_count": null,
      "outputs": [
        {
          "output_type": "execute_result",
          "data": {
            "text/plain": [
              "array([[ True, False, False, False],\n",
              "       [ True,  True,  True,  True],\n",
              "       [False, False,  True, False],\n",
              "       [False,  True,  True, False]])"
            ]
          },
          "metadata": {},
          "execution_count": 29
        }
      ]
    },
    {
      "cell_type": "code",
      "metadata": {
        "colab": {
          "base_uri": "https://localhost:8080/"
        },
        "id": "jkKwDpT1pR5o",
        "outputId": "6bbdbbab-5842-4edd-a466-d0bb6f5ae220"
      },
      "source": [
        "print(f'O somatório de valores nulos é: {y.sum()}')"
      ],
      "execution_count": null,
      "outputs": [
        {
          "output_type": "stream",
          "name": "stdout",
          "text": [
            "O somatório de valores nulos é: 8\n"
          ]
        }
      ]
    },
    {
      "cell_type": "markdown",
      "metadata": {
        "id": "3PUI5x5WEQD6"
      },
      "source": [
        "# Exercício 9"
      ]
    },
    {
      "cell_type": "markdown",
      "metadata": {
        "id": "cZz5bR-BeewD"
      },
      "source": [
        "Exercício 9\n",
        "\n",
        "A função np.linspace() retorna um array com números contendo espaçamento uniforme em um intervalo definido. Crie um array com números dentro do intervalo [1,21] em 5 partes.\n",
        "\n",
        "Retorno esperado:\n",
        "array([ 1.,  6., 11., 16., 21.])"
      ]
    },
    {
      "cell_type": "code",
      "metadata": {
        "id": "TXrs2kilegKe",
        "colab": {
          "base_uri": "https://localhost:8080/"
        },
        "outputId": "9f24908d-29cb-482a-bca2-25c512191a01"
      },
      "source": [
        "array18 = np.linspace(1, 2, 5)\n",
        "array18\n",
        "#np.linspace(início, fim , partes(qtd de elementos)"
      ],
      "execution_count": null,
      "outputs": [
        {
          "output_type": "execute_result",
          "data": {
            "text/plain": [
              "array([1.  , 1.25, 1.5 , 1.75, 2.  ])"
            ]
          },
          "metadata": {},
          "execution_count": 38
        }
      ]
    },
    {
      "cell_type": "markdown",
      "metadata": {
        "id": "IRNMC5SUEZMI"
      },
      "source": [
        "# Exercício 10"
      ]
    },
    {
      "cell_type": "markdown",
      "metadata": {
        "id": "OcTFDOM8FdC6"
      },
      "source": [
        "Exercício 10\n",
        "\n",
        "A função np.logspace() retorna números com espaçamento uniforme em uma escala logarítmica. Crie um array com números dentro do intervalo [1, 51] em 10 partes com a função np.logspace().\n",
        "\n",
        "Retorno esperado:\n",
        "\n",
        "array([[1.00000000e+01],\n",
        "      [3.59381366e+06],\n",
        "      [1.29154967e+12],\n",
        "      [4.64158883e+17],\n",
        "      [1.66810054e+23],\n",
        "      [5.99484250e+28],\n",
        "      [2.15443469e+34],\n",
        "      [7.74263683e+39],\n",
        "      [2.78255940e+45],\n",
        "      [1.00000000e+51]])"
      ]
    },
    {
      "cell_type": "code",
      "metadata": {
        "colab": {
          "base_uri": "https://localhost:8080/"
        },
        "id": "_GyPeW2SFeSc",
        "outputId": "d0bd3833-76db-4630-806a-38c8933e3900"
      },
      "source": [
        "array19 = np.logspace(1, 51, 10).reshape(-1,1)\n",
        "array19"
      ],
      "execution_count": null,
      "outputs": [
        {
          "output_type": "execute_result",
          "data": {
            "text/plain": [
              "array([[1.00000000e+01],\n",
              "       [3.59381366e+06],\n",
              "       [1.29154967e+12],\n",
              "       [4.64158883e+17],\n",
              "       [1.66810054e+23],\n",
              "       [5.99484250e+28],\n",
              "       [2.15443469e+34],\n",
              "       [7.74263683e+39],\n",
              "       [2.78255940e+45],\n",
              "       [1.00000000e+51]])"
            ]
          },
          "metadata": {},
          "execution_count": 43
        }
      ]
    },
    {
      "cell_type": "markdown",
      "metadata": {
        "id": "57ORK0ZFEoBo"
      },
      "source": [
        "# Exercício 11"
      ]
    },
    {
      "cell_type": "markdown",
      "metadata": {
        "id": "m5bNppIMRg2w"
      },
      "source": [
        "Exercício 11"
      ]
    },
    {
      "cell_type": "code",
      "metadata": {
        "id": "RpR_OLTkRiLy"
      },
      "source": [
        ""
      ],
      "execution_count": null,
      "outputs": []
    }
  ]
}