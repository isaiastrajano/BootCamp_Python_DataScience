{
  "nbformat": 4,
  "nbformat_minor": 0,
  "metadata": {
    "colab": {
      "name": "Exercicios_numpy_random.ipynb",
      "provenance": [],
      "collapsed_sections": [],
      "authorship_tag": "ABX9TyMzfjV+vF7anlvDQPLmZ/5O",
      "include_colab_link": true
    },
    "kernelspec": {
      "name": "python3",
      "display_name": "Python 3"
    },
    "language_info": {
      "name": "python"
    }
  },
  "cells": [
    {
      "cell_type": "markdown",
      "metadata": {
        "id": "view-in-github",
        "colab_type": "text"
      },
      "source": [
        "<a href=\"https://colab.research.google.com/github/isaiastrajano/BootCamp_Python_DataScience/blob/main/Exercicios_numpy_random.ipynb\" target=\"_parent\"><img src=\"https://colab.research.google.com/assets/colab-badge.svg\" alt=\"Open In Colab\"/></a>"
      ]
    },
    {
      "cell_type": "code",
      "metadata": {
        "id": "blgcKcjr80yq"
      },
      "source": [
        "import random\n",
        "import numpy as np\n",
        "from numpy import random\n",
        "import pandas as pd\n",
        "import seaborn as sns"
      ],
      "execution_count": null,
      "outputs": []
    },
    {
      "cell_type": "markdown",
      "metadata": {
        "id": "Yj6ORAAaoFv5"
      },
      "source": [
        "# Exercicio 1"
      ]
    },
    {
      "cell_type": "markdown",
      "metadata": {
        "id": "e_ILOFvABRwG"
      },
      "source": [
        "Exercício 1\n",
        "\n",
        "Gere uma distribuição normal aleatória de ordem 4 x 5. Armazene o resultado em uma variável."
      ]
    },
    {
      "cell_type": "code",
      "metadata": {
        "id": "L6wExjPz9Sw7"
      },
      "source": [
        "ex1 = random.randint(20, size = (4,5))"
      ],
      "execution_count": null,
      "outputs": []
    },
    {
      "cell_type": "code",
      "metadata": {
        "colab": {
          "base_uri": "https://localhost:8080/"
        },
        "id": "poSCEWqAdzOe",
        "outputId": "034882c4-9d89-49c4-a80c-475738cc0d55"
      },
      "source": [
        "ex1"
      ],
      "execution_count": null,
      "outputs": [
        {
          "output_type": "execute_result",
          "data": {
            "text/plain": [
              "array([[ 9, 17, 11,  0, 16],\n",
              "       [ 4,  8,  2, 10, 15],\n",
              "       [10,  6,  6,  2,  1],\n",
              "       [ 3, 12, 14, 15,  3]])"
            ]
          },
          "metadata": {},
          "execution_count": 3
        }
      ]
    },
    {
      "cell_type": "markdown",
      "metadata": {
        "id": "w_0V3rBJoJkb"
      },
      "source": [
        "# Exercicio 2"
      ]
    },
    {
      "cell_type": "markdown",
      "metadata": {
        "id": "lpnQN5D-Mp6p"
      },
      "source": [
        "Exercício 2\n",
        "\n",
        "Gere uma distribuição normal aleatória com de ordem 20 x 5, com média 10 e desvio padrão 3. Armazene o resultado em uma variável. Em seguida crie um DataFrame a partir dos dados criados."
      ]
    },
    {
      "cell_type": "code",
      "metadata": {
        "colab": {
          "base_uri": "https://localhost:8080/"
        },
        "id": "egSxJ2CWMSqQ",
        "outputId": "5cdef087-6fc6-4afc-95c9-a29b760f994f"
      },
      "source": [
        "ex2 = random.normal(loc = 10, scale = 3, size = (20, 5))\n",
        "ex2"
      ],
      "execution_count": null,
      "outputs": [
        {
          "output_type": "execute_result",
          "data": {
            "text/plain": [
              "array([[11.79281634, 11.80740877, 10.314518  , 10.60888645, 14.15999092],\n",
              "       [10.67347062, 13.78852913, 12.71771049,  8.63248558, 13.49239846],\n",
              "       [ 7.0172683 , 10.23451501, 11.08331863, 10.93687106, 10.78380184],\n",
              "       [14.07147223,  6.00813943, 12.78909252, 12.57164198,  7.51631328],\n",
              "       [ 9.90178036,  8.60592111, 14.43556773, 14.33264246, 13.38971288],\n",
              "       [10.52420955,  6.92748147, 12.55348565, 10.90629416,  8.99043381],\n",
              "       [10.73830258, 13.85498369,  7.9904796 , 11.25620734, 14.16123249],\n",
              "       [ 3.04991344, 14.02287113, 12.71658996,  7.1708131 ,  8.76014978],\n",
              "       [ 8.1639638 , 15.16514951, 10.94020966, 11.66128175,  7.35192795],\n",
              "       [ 6.82772121, 14.09986122, 15.39820754, 10.45100872, 14.04258438],\n",
              "       [ 5.12918332, 12.39221055,  9.05522704, 13.96031133, 11.00646425],\n",
              "       [ 6.64601843, 13.0698025 ,  5.32315761, 12.79694258, 15.09779442],\n",
              "       [ 5.58880988,  5.06928626,  6.46634447, 12.7431931 ,  3.54577115],\n",
              "       [ 7.63540524,  7.90876322,  8.84472431, 13.91332479, 13.38520018],\n",
              "       [ 7.83629066, 11.41695932, 11.25903321,  7.87680671,  8.48987999],\n",
              "       [12.24891699,  7.67318903, 10.20181943,  1.15439691, 14.42430644],\n",
              "       [14.58718918, 11.81931977,  8.91543038,  8.18626807,  8.6242555 ],\n",
              "       [11.37728482,  6.69974413,  6.67897753, 11.00126991, 10.43248124],\n",
              "       [11.84326426,  4.59058715,  5.66106517, 12.48815423, 11.949125  ],\n",
              "       [ 3.14455293,  5.31040068,  8.43324897,  8.04425507,  8.75156521]])"
            ]
          },
          "metadata": {},
          "execution_count": 4
        }
      ]
    },
    {
      "cell_type": "code",
      "metadata": {
        "id": "ncnGRgUDc8Bq"
      },
      "source": [
        "dtex2 = pd.DataFrame(ex2)"
      ],
      "execution_count": null,
      "outputs": []
    },
    {
      "cell_type": "markdown",
      "metadata": {
        "id": "8FRR8lkSpqLp"
      },
      "source": [
        "# Exercicio 3"
      ]
    },
    {
      "cell_type": "markdown",
      "metadata": {
        "id": "N-g5ebHpp-hX"
      },
      "source": [
        "Exercício 3\n",
        "\n",
        "Gere uma distribuição normal padrão e utilize o módulo Seaborn para construir uma visualização dos dados. A amostra deve conter 3000 números. Use a função distplot() do módulo Seaborn e importe também"
      ]
    },
    {
      "cell_type": "code",
      "metadata": {
        "id": "Y9fsgq-fa6GO"
      },
      "source": [
        "ex3 = random.normal(size = (300, 10))"
      ],
      "execution_count": null,
      "outputs": []
    },
    {
      "cell_type": "code",
      "metadata": {
        "colab": {
          "base_uri": "https://localhost:8080/"
        },
        "id": "KSZgnWNxcUXl",
        "outputId": "b401a9f2-64fa-4432-a38c-1b69e794bc01"
      },
      "source": [
        "ex3"
      ],
      "execution_count": null,
      "outputs": [
        {
          "output_type": "execute_result",
          "data": {
            "text/plain": [
              "array([[ 0.13564243,  1.2713188 , -0.6613584 , ...,  0.51057963,\n",
              "         0.94631377,  0.44121232],\n",
              "       [ 1.28631762, -0.26919388, -0.60698265, ..., -0.04983628,\n",
              "         0.68512252, -1.38653087],\n",
              "       [-0.92790556,  1.48917458,  2.78575098, ..., -0.1299929 ,\n",
              "        -0.44572147, -0.66100674],\n",
              "       ...,\n",
              "       [-0.32589693,  2.49153038,  0.14443861, ...,  0.06748912,\n",
              "         0.34891886,  0.38223354],\n",
              "       [-0.8753074 , -0.7384735 ,  1.4312307 , ...,  0.06599524,\n",
              "         0.41688695, -0.52196728],\n",
              "       [-1.34370174,  1.09754276, -0.45919211, ...,  0.08686782,\n",
              "        -0.73055385,  0.1216617 ]])"
            ]
          },
          "metadata": {},
          "execution_count": 7
        }
      ]
    },
    {
      "cell_type": "code",
      "metadata": {
        "colab": {
          "base_uri": "https://localhost:8080/",
          "height": 290
        },
        "id": "FEWyi6ZSqowd",
        "outputId": "17d78365-2bc6-4163-d937-152e7a77de2b"
      },
      "source": [
        "sns.distplot(ex3, axlabel=\"ex3 histograma\")"
      ],
      "execution_count": null,
      "outputs": [
        {
          "output_type": "stream",
          "name": "stderr",
          "text": [
            "/usr/local/lib/python3.7/dist-packages/seaborn/distributions.py:2619: FutureWarning: `distplot` is a deprecated function and will be removed in a future version. Please adapt your code to use either `displot` (a figure-level function with similar flexibility) or `histplot` (an axes-level function for histograms).\n",
            "  warnings.warn(msg, FutureWarning)\n"
          ]
        },
        {
          "output_type": "execute_result",
          "data": {
            "text/plain": [
              "<matplotlib.axes._subplots.AxesSubplot at 0x7f2a4c855410>"
            ]
          },
          "metadata": {},
          "execution_count": 8
        },
        {
          "output_type": "display_data",
          "data": {
            "image/png": "[encoded data removed]",
            "text/plain": [
              "<Figure size 432x288 with 1 Axes>"
            ]
          },
          "metadata": {
            "needs_background": "light"
          }
        }
      ]
    },
    {
      "cell_type": "markdown",
      "metadata": {
        "id": "HT7opfy2ryst"
      },
      "source": [
        "# Exercicio 4"
      ]
    },
    {
      "cell_type": "markdown",
      "metadata": {
        "id": "hmunuvmTr2ev"
      },
      "source": [
        "Exercicio 4\n",
        "\n",
        "A distribuição binomial é uma distribuição discreta de probabilidade e descreve resultados binários, como sucesso e fracasso ou cara e coroa, por exemplo. Podemos criar dados aleatórios para esta distribuição com a função np.random.binomial().Sendo:\n",
        "\n",
        "n: número de tentativas;\n",
        "\n",
        "p: probabilidade de ocorrência de cada tentativa;\n",
        "\n",
        "size: tamanho do vetor retornado (shape).\n",
        "\n",
        "Com base nestas informações:\n",
        "\n",
        "Gere números aleatórios seguindo uma distribuição binomial, com 6 tentativas, em que a probabilidade de ocorrência de cada tentativa é 0.5, e tamanho 100. Armazene os dados em uma variável, 'data1'.\n",
        "\n",
        "Gere números aleatórios seguindo uma distribuição binomial, com 2 tentativas, em que a probabilidade de ocorrência de cada tentativa é 0.8, e tamanho 1000. Armazene os dados em uma variável, 'data2'.\n",
        "\n"
      ]
    },
    {
      "cell_type": "code",
      "metadata": {
        "id": "P2YXwvMuxX7s"
      },
      "source": [
        "\n",
        "n, p = 30, 0.5\n",
        "data1 = np.random.binomial(n, p, size=(5, 5))"
      ],
      "execution_count": null,
      "outputs": []
    },
    {
      "cell_type": "code",
      "metadata": {
        "id": "GlJVdN4vyA1w"
      },
      "source": [
        "n2, p2 = 40, 0.8\n",
        "data2 = np.random.binomial(n2, p2, size=(5, 5))"
      ],
      "execution_count": null,
      "outputs": []
    },
    {
      "cell_type": "code",
      "metadata": {
        "colab": {
          "base_uri": "https://localhost:8080/"
        },
        "id": "uCnCCD4zyuV6",
        "outputId": "705aba62-2658-4f82-ccf9-dd86dada2ecc"
      },
      "source": [
        "print(f'resultado de data 1: {data1}')\n",
        "print(f'resultado de data 1: {data2}')"
      ],
      "execution_count": null,
      "outputs": [
        {
          "output_type": "stream",
          "name": "stdout",
          "text": [
            "resultado de data 1: [[17 18 13 15 17]\n",
            " [11 18 17  9 17]\n",
            " [13 19 12 16 15]\n",
            " [12 17 18 15 16]\n",
            " [15 13 16 15 17]]\n",
            "resultado de data 1: [[36 35 31 36 29]\n",
            " [34 32 36 28 36]\n",
            " [36 32 32 30 34]\n",
            " [29 33 26 30 34]\n",
            " [32 33 35 30 29]]\n"
          ]
        }
      ]
    },
    {
      "cell_type": "markdown",
      "metadata": {
        "id": "eML4rJhczIIA"
      },
      "source": [
        "# Exercício 5"
      ]
    },
    {
      "cell_type": "markdown",
      "metadata": {
        "id": "d2fBdVvHzF4n"
      },
      "source": [
        "Exercício 5"
      ]
    },
    {
      "cell_type": "code",
      "metadata": {
        "id": "Grf1-0IMzwRY",
        "colab": {
          "base_uri": "https://localhost:8080/",
          "height": 320
        },
        "outputId": "f52ce1a4-2616-4f0f-92f7-bf0974aab7a6"
      },
      "source": [
        "sns.displot(data1, )"
      ],
      "execution_count": null,
      "outputs": [
        {
          "output_type": "execute_result",
          "data": {
            "text/plain": [
              "<seaborn.axisgrid.FacetGrid at 0x7f2a49994d50>"
            ]
          },
          "metadata": {},
          "execution_count": 12
        },
        {
          "output_type": "display_data",
          "data": {
            "image/png": "[encoded data removed]",
            "text/plain": [
              "<Figure size 402.375x360 with 1 Axes>"
            ]
          },
          "metadata": {
            "needs_background": "light"
          }
        }
      ]
    },
    {
      "cell_type": "code",
      "metadata": {
        "id": "V0M_JhTSz8JS",
        "colab": {
          "base_uri": "https://localhost:8080/",
          "height": 320
        },
        "outputId": "2c7368b4-d215-4823-f56f-2640c02ea711"
      },
      "source": [
        "sns.displot(data2)"
      ],
      "execution_count": null,
      "outputs": [
        {
          "output_type": "execute_result",
          "data": {
            "text/plain": [
              "<seaborn.axisgrid.FacetGrid at 0x7f2a3d925bd0>"
            ]
          },
          "metadata": {},
          "execution_count": 13
        },
        {
          "output_type": "display_data",
          "data": {
            "image/png": "[encoded data removed]",
            "text/plain": [
              "<Figure size 402.375x360 with 1 Axes>"
            ]
          },
          "metadata": {
            "needs_background": "light"
          }
        }
      ]
    },
    {
      "cell_type": "markdown",
      "metadata": {
        "id": "zw3Am4tK1i3n"
      },
      "source": [
        "# Exercício 6"
      ]
    },
    {
      "cell_type": "markdown",
      "metadata": {
        "id": "B--4H2P-1dCk"
      },
      "source": [
        "Exercício 6"
      ]
    },
    {
      "cell_type": "code",
      "metadata": {
        "id": "tYi-C7561hem"
      },
      "source": [
        "ex6 = np.random.uniform(1, 10, size = (3, 3))"
      ],
      "execution_count": null,
      "outputs": []
    },
    {
      "cell_type": "code",
      "metadata": {
        "colab": {
          "base_uri": "https://localhost:8080/"
        },
        "id": "YC8YpsnA2XjQ",
        "outputId": "d6622c7e-b425-498b-c289-0df280b3e7a3"
      },
      "source": [
        "print(ex6)"
      ],
      "execution_count": null,
      "outputs": [
        {
          "output_type": "stream",
          "name": "stdout",
          "text": [
            "[[3.09851677 1.29870116 7.07101342]\n",
            " [7.72984585 9.84146902 9.8109993 ]\n",
            " [9.10919692 7.02874893 1.85762796]]\n"
          ]
        }
      ]
    },
    {
      "cell_type": "markdown",
      "metadata": {
        "id": "ABIMVS4U2-J0"
      },
      "source": [
        "# Exercício 7"
      ]
    },
    {
      "cell_type": "markdown",
      "metadata": {
        "id": "Bn78Kh1N25SN"
      },
      "source": [
        "Exercício 7"
      ]
    },
    {
      "cell_type": "code",
      "metadata": {
        "id": "plwCYuZS3DEA"
      },
      "source": [
        "ex7 = np.random.uniform(1, 100, size = (1000))"
      ],
      "execution_count": null,
      "outputs": []
    },
    {
      "cell_type": "code",
      "metadata": {
        "colab": {
          "base_uri": "https://localhost:8080/",
          "height": 356
        },
        "id": "Y9j1BBay3Yj3",
        "outputId": "25b23d78-33b2-4a69-de56-0afeec0af8f0"
      },
      "source": [
        "sns.displot(ex7)"
      ],
      "execution_count": null,
      "outputs": [
        {
          "output_type": "execute_result",
          "data": {
            "text/plain": [
              "<seaborn.axisgrid.FacetGrid at 0x7f2a3d813250>"
            ]
          },
          "metadata": {},
          "execution_count": 17
        },
        {
          "output_type": "display_data",
          "data": {
            "image/png": "[encoded data removed]",
            "text/plain": [
              "<Figure size 360x360 with 1 Axes>"
            ]
          },
          "metadata": {
            "needs_background": "light"
          }
        }
      ]
    },
    {
      "cell_type": "markdown",
      "metadata": {
        "id": "h9y9LJrI3urd"
      },
      "source": [
        "# Exercício 8"
      ]
    },
    {
      "cell_type": "markdown",
      "metadata": {
        "id": "Um7eunPQ3qW4"
      },
      "source": [
        "Exercício 8"
      ]
    },
    {
      "cell_type": "code",
      "metadata": {
        "id": "0Pete4H73s0j"
      },
      "source": [
        "ex8 = np.random.randint(-1000, 3000, size=(30, 5))"
      ],
      "execution_count": null,
      "outputs": []
    },
    {
      "cell_type": "code",
      "metadata": {
        "colab": {
          "base_uri": "https://localhost:8080/"
        },
        "id": "qI8TNmS75ybu",
        "outputId": "cf0647c7-1fd1-41e3-8685-59ad154bb0cc"
      },
      "source": [
        "ex8"
      ],
      "execution_count": null,
      "outputs": [
        {
          "output_type": "execute_result",
          "data": {
            "text/plain": [
              "array([[-813,  427,   38, -510, 2790],\n",
              "       [-207,  749,  994, 2713, -519],\n",
              "       [ 298, 1488,  841,  485, -216],\n",
              "       [1384,  852,  409, 2765, 1777],\n",
              "       [   6, 2415,  685,    9, 1737],\n",
              "       [ 178,  284, 2080, 1234, 1685],\n",
              "       [1019,  321,  800,  841, 1743],\n",
              "       [-920, 1011, 2135,  478,  133],\n",
              "       [2166,  746,   54, -161, 2739],\n",
              "       [  58, 1203,  847,  186, 1229],\n",
              "       [1975, -576, 1952,  790, 1520],\n",
              "       [-972, 1175,  659, 1609, 2985],\n",
              "       [-297, -107, 2878, -993,  857],\n",
              "       [-186,  -41, -159, -368, -316],\n",
              "       [-533, 1613, 1293, -650, 1654],\n",
              "       [1000,  849, 1609, 1593, 2743],\n",
              "       [1314, 1628,  401,  241,  571],\n",
              "       [2177,  422,  296, 2443, 2638],\n",
              "       [ -43,   41, 1708, -552, 2914],\n",
              "       [1303, -944,  449,  398, 1828],\n",
              "       [-677,  824, 2101, -927, 2035],\n",
              "       [-903, -758, -473, 1388, 1220],\n",
              "       [-148, 2319, 1258, 1082, 2855],\n",
              "       [ 765, 2076, 1487, -311, 1541],\n",
              "       [-350,  -61, 1135, 2825, 2558],\n",
              "       [1705, 1796,  286, 1966, 1682],\n",
              "       [2185,  917, 1380, 1981, -151],\n",
              "       [ 544, 1850, -130, 2713, -378],\n",
              "       [-665, 1884, 2775, 1714, 1800],\n",
              "       [ 190,  -90, -848, 1459, 1082]])"
            ]
          },
          "metadata": {},
          "execution_count": 19
        }
      ]
    },
    {
      "cell_type": "markdown",
      "metadata": {
        "id": "GoqZires6DVN"
      },
      "source": [
        "# Exercício 9"
      ]
    },
    {
      "cell_type": "markdown",
      "metadata": {
        "id": "eE3VQ2Cm6AYQ"
      },
      "source": [
        "Exercício 9"
      ]
    },
    {
      "cell_type": "code",
      "metadata": {
        "id": "pdBIZ1Rl6B7p"
      },
      "source": [
        "ex9 = np.random.normal(0, 4, size=(30,3))"
      ],
      "execution_count": null,
      "outputs": []
    },
    {
      "cell_type": "code",
      "metadata": {
        "colab": {
          "base_uri": "https://localhost:8080/"
        },
        "id": "71zIuIvN6RSh",
        "outputId": "a5bdf9f7-e091-4008-c981-c5bd6f76a234"
      },
      "source": [
        "ex9"
      ],
      "execution_count": null,
      "outputs": [
        {
          "output_type": "execute_result",
          "data": {
            "text/plain": [
              "array([[ 0.8763786 ,  7.191398  ,  0.24167277],\n",
              "       [ 1.9890899 , -3.97954105, -2.65395449],\n",
              "       [-1.20017789, -0.44251023,  1.45765592],\n",
              "       [-2.69688041, -3.23963351,  3.43075576],\n",
              "       [-4.45124765,  2.93562028, -2.52244744],\n",
              "       [ 3.56106851, -1.71960619, -8.20996312],\n",
              "       [-1.95267569,  4.30477105, -7.31555897],\n",
              "       [ 5.87124561,  1.28297051, -2.72482609],\n",
              "       [-2.78108905,  1.70670572, -2.0759079 ],\n",
              "       [-1.66126328,  3.87439802,  2.45557574],\n",
              "       [ 3.52582839, -2.82895761,  1.17505742],\n",
              "       [-0.52701984,  1.39258838,  3.29879862],\n",
              "       [ 2.52352585, -3.9723609 , -2.05214012],\n",
              "       [ 0.50065272,  1.86708111,  4.34887614],\n",
              "       [-4.33074633, -2.90451175,  8.33119085],\n",
              "       [-8.32885778, -1.41922614, -5.99460844],\n",
              "       [-1.12461095,  2.55144069,  6.0305174 ],\n",
              "       [ 1.38263431,  0.36242252, -0.80285086],\n",
              "       [ 0.64872555, -2.30643501,  1.38286422],\n",
              "       [-3.62489806,  1.85735973,  4.1519011 ],\n",
              "       [-0.78484227, -0.15835135,  0.24682134],\n",
              "       [ 4.4230809 , -5.94895696,  3.68467768],\n",
              "       [ 1.84567009, -1.36737509, -3.6671625 ],\n",
              "       [ 4.82271924,  1.96075315, -1.36073518],\n",
              "       [ 8.70701876, -0.50977388, -1.81599273],\n",
              "       [-2.04143299,  3.39827624, -3.95507329],\n",
              "       [-1.55637608, -2.63337302, -0.73968467],\n",
              "       [10.81655661, -0.81357659,  6.73399805],\n",
              "       [-4.73845027, -2.66419164, -1.13409568],\n",
              "       [ 1.58135315, -7.32688293, -2.65424846]])"
            ]
          },
          "metadata": {},
          "execution_count": 21
        }
      ]
    },
    {
      "cell_type": "markdown",
      "metadata": {
        "id": "G5FT_Vf48FlU"
      },
      "source": [
        "# Exercício 10"
      ]
    },
    {
      "cell_type": "markdown",
      "metadata": {
        "id": "5jPrV3RK7un2"
      },
      "source": [
        "Exercício 10"
      ]
    },
    {
      "cell_type": "code",
      "metadata": {
        "id": "sAzP_EZj7zr8"
      },
      "source": [
        ""
      ],
      "execution_count": null,
      "outputs": []
    },
    {
      "cell_type": "markdown",
      "metadata": {
        "id": "C1ez-S_NF7FY"
      },
      "source": [
        "# Exercício 11"
      ]
    },
    {
      "cell_type": "markdown",
      "metadata": {
        "id": "Ih2J1S-8D4ZA"
      },
      "source": [
        "Exercício 11"
      ]
    },
    {
      "cell_type": "code",
      "metadata": {
        "colab": {
          "base_uri": "https://localhost:8080/"
        },
        "id": "mt-0GntlD6Gx",
        "outputId": "1eb44d9f-829f-42f2-bb7f-8f9db32815e7"
      },
      "source": [
        "ex11 = np.random.rand(10, 5)\n",
        "ex11"
      ],
      "execution_count": null,
      "outputs": [
        {
          "output_type": "execute_result",
          "data": {
            "text/plain": [
              "array([[0.80719372, 0.95726401, 0.92930353, 0.64113284, 0.14342645],\n",
              "       [0.40530479, 0.44871665, 0.33750531, 0.4252598 , 0.01085508],\n",
              "       [0.61216952, 0.24737002, 0.33295217, 0.36964689, 0.15442896],\n",
              "       [0.80626166, 0.67164466, 0.44090672, 0.54957864, 0.00979647],\n",
              "       [0.22821539, 0.88675563, 0.81904806, 0.83503787, 0.52358206],\n",
              "       [0.94851155, 0.27938385, 0.94651892, 0.38959357, 0.27719341],\n",
              "       [0.30506125, 0.21227531, 0.47562951, 0.26240005, 0.90090969],\n",
              "       [0.17709973, 0.21303359, 0.14124962, 0.70708362, 0.31678095],\n",
              "       [0.14351076, 0.72346611, 0.53771172, 0.96403144, 0.68110778],\n",
              "       [0.22997868, 0.93828969, 0.44396265, 0.29040023, 0.53287082]])"
            ]
          },
          "metadata": {},
          "execution_count": 28
        }
      ]
    },
    {
      "cell_type": "code",
      "metadata": {
        "colab": {
          "base_uri": "https://localhost:8080/"
        },
        "id": "ZIIZgCjME1jb",
        "outputId": "86d8a516-93b6-4292-ffeb-a99a0bff8363"
      },
      "source": [
        "print(f' A média de ex11 é: {ex11.mean()}')\n",
        "print(f' O desvio padrão de ex11 é: {ex11.std()}')\n",
        "print(f' A mediana de ex11 é: {np.median(ex11)}')"
      ],
      "execution_count": null,
      "outputs": [
        {
          "output_type": "stream",
          "name": "stdout",
          "text": [
            " A média de ex11 é: 0.49262822765270664\n",
            " O desvio padrão de ex11 é: 0.28086786191739543\n",
            " A mediana de ex11 é: 0.44243468372709804\n"
          ]
        }
      ]
    }
  ]
}