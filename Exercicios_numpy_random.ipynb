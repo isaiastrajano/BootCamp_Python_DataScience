{
  "nbformat": 4,
  "nbformat_minor": 0,
  "metadata": {
    "colab": {
      "name": "Exercicios_numpy_random.ipynb",
      "provenance": [],
      "collapsed_sections": [],
      "toc_visible": true,
      "authorship_tag": "ABX9TyO+IPHT1z6U4RPg0yoNczsj",
      "include_colab_link": true
    },
    "kernelspec": {
      "name": "python3",
      "display_name": "Python 3"
    },
    "language_info": {
      "name": "python"
    }
  },
  "cells": [
    {
      "cell_type": "markdown",
      "metadata": {
        "id": "view-in-github",
        "colab_type": "text"
      },
      "source": [
        "<a href=\"https://colab.research.google.com/github/isaiastrajano/BootCamp_Python_DataScience/blob/main/Exercicios_numpy_random.ipynb\" target=\"_parent\"><img src=\"https://colab.research.google.com/assets/colab-badge.svg\" alt=\"Open In Colab\"/></a>"
      ]
    },
    {
      "cell_type": "code",
      "metadata": {
        "id": "blgcKcjr80yq"
      },
      "source": [
        "import random\n",
        "import numpy as np\n",
        "from numpy import random\n",
        "import pandas as pd\n",
        "import seaborn as sns"
      ],
      "execution_count": 18,
      "outputs": []
    },
    {
      "cell_type": "markdown",
      "metadata": {
        "id": "Yj6ORAAaoFv5"
      },
      "source": [
        "# Exercicio 1"
      ]
    },
    {
      "cell_type": "markdown",
      "metadata": {
        "id": "e_ILOFvABRwG"
      },
      "source": [
        "Exercício 1\n",
        "\n",
        "Gere uma distribuição normal aleatória de ordem 4 x 5. Armazene o resultado em uma variável."
      ]
    },
    {
      "cell_type": "code",
      "metadata": {
        "id": "L6wExjPz9Sw7"
      },
      "source": [
        "ex1 = random.randint(20, size = (4,5))"
      ],
      "execution_count": 2,
      "outputs": []
    },
    {
      "cell_type": "code",
      "metadata": {
        "colab": {
          "base_uri": "https://localhost:8080/"
        },
        "id": "poSCEWqAdzOe",
        "outputId": "ff1c74c2-7972-4869-c1e8-d94b750761bf"
      },
      "source": [
        "ex1"
      ],
      "execution_count": 3,
      "outputs": [
        {
          "output_type": "execute_result",
          "data": {
            "text/plain": [
              "array([[15,  4, 10,  5,  7],\n",
              "       [ 8, 15,  5, 15,  7],\n",
              "       [12, 17, 16, 12,  4],\n",
              "       [ 7, 14,  3,  5,  3]])"
            ]
          },
          "metadata": {},
          "execution_count": 3
        }
      ]
    },
    {
      "cell_type": "markdown",
      "metadata": {
        "id": "w_0V3rBJoJkb"
      },
      "source": [
        "# Exercicio 2"
      ]
    },
    {
      "cell_type": "markdown",
      "metadata": {
        "id": "lpnQN5D-Mp6p"
      },
      "source": [
        "Exercício 2\n",
        "\n",
        "Gere uma distribuição normal aleatória com de ordem 20 x 5, com média 10 e desvio padrão 3. Armazene o resultado em uma variável. Em seguida crie um DataFrame a partir dos dados criados."
      ]
    },
    {
      "cell_type": "code",
      "metadata": {
        "colab": {
          "base_uri": "https://localhost:8080/"
        },
        "id": "egSxJ2CWMSqQ",
        "outputId": "44b503b3-2403-4753-d704-f52193935108"
      },
      "source": [
        "ex2 = random.normal(loc = 10, scale = 3, size = (20, 5))\n",
        "ex2"
      ],
      "execution_count": 6,
      "outputs": [
        {
          "output_type": "execute_result",
          "data": {
            "text/plain": [
              "array([[14.2607069 ,  9.39767199, 11.00821139, 10.7586143 ,  8.56703855],\n",
              "       [ 5.50026206,  6.27822007,  9.91808596,  8.44035225, 12.71044695],\n",
              "       [ 8.04258544,  8.09436497, 11.00757359, 11.22163807, 17.51562153],\n",
              "       [ 8.22132493, 13.89845864,  6.05856638,  8.85432591, 12.01857143],\n",
              "       [14.32365708,  8.82333488,  3.91126605,  7.95696117,  9.34490356],\n",
              "       [13.55915953,  7.56771485,  9.68313051, 10.46987412, 11.08513752],\n",
              "       [ 4.78252935,  8.44589075,  7.40681112,  5.89273662, 15.46206169],\n",
              "       [ 8.38011323, 11.52198316,  9.59364808, 10.63241742, 13.84682487],\n",
              "       [ 9.36207849,  9.37897229, 10.7377384 , 14.52710345, 10.63544703],\n",
              "       [12.2545554 , 14.06927925,  4.3337647 , 11.34026042, 12.34904986],\n",
              "       [ 9.71701159, 12.37159153, 11.08538771, 10.84183304,  8.83547504],\n",
              "       [10.0259386 ,  8.46942046,  6.58747451, 11.1129016 ,  5.83727375],\n",
              "       [ 7.0238122 ,  9.65848116,  9.68059108, 12.61095808,  9.94439407],\n",
              "       [ 7.80294767, 10.22442494, 12.75763301, 10.64983285,  5.97734487],\n",
              "       [ 3.71254246,  3.29353946,  4.29937639, 10.4119924 , 12.55085203],\n",
              "       [12.97012962,  7.70150618,  6.84374179, 15.19823881, 11.30508983],\n",
              "       [ 7.42776996,  7.53902475,  9.1303838 , 11.62649432,  8.65911053],\n",
              "       [13.42864311, 10.09160059,  8.20714541, 14.41365632, 11.10194396],\n",
              "       [ 7.85141418, 11.65743482, 14.22626726,  5.36825953, 13.66035178],\n",
              "       [ 7.29945688,  7.44622161, 12.60021466,  9.31071166,  6.4484873 ]])"
            ]
          },
          "metadata": {},
          "execution_count": 6
        }
      ]
    },
    {
      "cell_type": "code",
      "metadata": {
        "id": "ncnGRgUDc8Bq"
      },
      "source": [
        "dtex2 = pd.DataFrame(ex2)"
      ],
      "execution_count": 9,
      "outputs": []
    },
    {
      "cell_type": "markdown",
      "metadata": {
        "id": "8FRR8lkSpqLp"
      },
      "source": [
        "# Exercicio 3"
      ]
    },
    {
      "cell_type": "markdown",
      "metadata": {
        "id": "N-g5ebHpp-hX"
      },
      "source": [
        "Exercício 3\n",
        "\n",
        "Gere uma distribuição normal padrão e utilize o módulo Seaborn para construir uma visualização dos dados. A amostra deve conter 3000 números. Use a função distplot() do módulo Seaborn e importe também"
      ]
    },
    {
      "cell_type": "code",
      "metadata": {
        "id": "Y9fsgq-fa6GO"
      },
      "source": [
        "ex3 = random.normal(size = (300, 10))"
      ],
      "execution_count": 15,
      "outputs": []
    },
    {
      "cell_type": "code",
      "metadata": {
        "colab": {
          "base_uri": "https://localhost:8080/"
        },
        "id": "KSZgnWNxcUXl",
        "outputId": "1b4df434-c40f-43d0-a719-f1e1c74aa41d"
      },
      "source": [
        "ex3"
      ],
      "execution_count": 16,
      "outputs": [
        {
          "output_type": "execute_result",
          "data": {
            "text/plain": [
              "array([[-0.89355908, -0.29209462,  0.85049418, ...,  0.46345893,\n",
              "        -0.1757418 , -1.21117339],\n",
              "       [ 0.09953361,  0.38479303,  1.54307178, ...,  0.34153173,\n",
              "        -0.29273738, -0.16317403],\n",
              "       [ 0.84903468,  1.01318201, -0.65079831, ..., -0.34144767,\n",
              "         2.11644948,  0.71135493],\n",
              "       ...,\n",
              "       [-1.30723637,  0.12433218,  0.24227237, ...,  0.88984713,\n",
              "         0.09702587,  0.270728  ],\n",
              "       [-0.5275303 , -0.56955953, -1.09007943, ..., -0.6357078 ,\n",
              "        -0.00581523, -1.05276545],\n",
              "       [-1.29050527, -0.41823975, -0.23907903, ..., -0.27379615,\n",
              "        -0.33302964, -0.24405353]])"
            ]
          },
          "metadata": {},
          "execution_count": 16
        }
      ]
    },
    {
      "cell_type": "code",
      "metadata": {
        "colab": {
          "base_uri": "https://localhost:8080/",
          "height": 354
        },
        "id": "FEWyi6ZSqowd",
        "outputId": "38fd14ff-8221-41b2-8cc3-0769ca038e89"
      },
      "source": [
        "sns.distplot(ex3, axlabel=\"ex3 histograma\")"
      ],
      "execution_count": 22,
      "outputs": [
        {
          "output_type": "stream",
          "name": "stderr",
          "text": [
            "/usr/local/lib/python3.7/dist-packages/seaborn/distributions.py:2619: FutureWarning: `distplot` is a deprecated function and will be removed in a future version. Please adapt your code to use either `displot` (a figure-level function with similar flexibility) or `histplot` (an axes-level function for histograms).\n",
            "  warnings.warn(msg, FutureWarning)\n"
          ]
        },
        {
          "output_type": "execute_result",
          "data": {
            "text/plain": [
              "<matplotlib.axes._subplots.AxesSubplot at 0x7fb3c48de650>"
            ]
          },
          "metadata": {},
          "execution_count": 22
        },
        {
          "output_type": "display_data",
          "data": {
            "image/png": "[encoded data removed]",
            "text/plain": [
              "<Figure size 432x288 with 1 Axes>"
            ]
          },
          "metadata": {
            "needs_background": "light"
          }
        }
      ]
    },
    {
      "cell_type": "markdown",
      "metadata": {
        "id": "HT7opfy2ryst"
      },
      "source": [
        "# Exercicio 4"
      ]
    },
    {
      "cell_type": "markdown",
      "metadata": {
        "id": "hmunuvmTr2ev"
      },
      "source": [
        "Exercicio 4\n",
        "\n",
        "A distribuição binomial é uma distribuição discreta de probabilidade e descreve resultados binários, como sucesso e fracasso ou cara e coroa, por exemplo. Podemos criar dados aleatórios para esta distribuição com a função np.random.binomial().Sendo:\n",
        "\n",
        "n: número de tentativas;\n",
        "\n",
        "p: probabilidade de ocorrência de cada tentativa;\n",
        "\n",
        "size: tamanho do vetor retornado (shape).\n",
        "\n",
        "Com base nestas informações:\n",
        "\n",
        "Gere números aleatórios seguindo uma distribuição binomial, com 6 tentativas, em que a probabilidade de ocorrência de cada tentativa é 0.5, e tamanho 100. Armazene os dados em uma variável, 'data1'.\n",
        "\n",
        "Gere números aleatórios seguindo uma distribuição binomial, com 2 tentativas, em que a probabilidade de ocorrência de cada tentativa é 0.8, e tamanho 1000. Armazene os dados em uma variável, 'data2'.\n",
        "\n"
      ]
    }
  ]
}