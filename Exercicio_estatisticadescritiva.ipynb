{
  "nbformat": 4,
  "nbformat_minor": 0,
  "metadata": {
    "colab": {
      "name": "Exercicio_estatisticadescritiva.ipynb",
      "provenance": [],
      "collapsed_sections": [],
      "toc_visible": true,
      "mount_file_id": "1dSgd2wsJfZIJSBIYd2YEqwGzYCDxqt-L",
      "authorship_tag": "ABX9TyPyRl1t5uL7+kWQ/uieqr+N",
      "include_colab_link": true
    },
    "kernelspec": {
      "name": "python3",
      "display_name": "Python 3"
    },
    "language_info": {
      "name": "python"
    }
  },
  "cells": [
    {
      "cell_type": "markdown",
      "metadata": {
        "id": "view-in-github",
        "colab_type": "text"
      },
      "source": [
        "<a href=\"https://colab.research.google.com/github/isaiastrajano/BootCamp_Python_DataScience/blob/main/Exercicio_estatisticadescritiva.ipynb\" target=\"_parent\"><img src=\"https://colab.research.google.com/assets/colab-badge.svg\" alt=\"Open In Colab\"/></a>"
      ]
    },
    {
      "cell_type": "markdown",
      "metadata": {
        "id": "C8gn-7OcVhyW"
      },
      "source": [
        "Exercícios de estatística descritiva"
      ]
    },
    {
      "cell_type": "code",
      "metadata": {
        "id": "men68Xx-VVD9"
      },
      "source": [
        "import pandas as pd\n",
        "import numpy as np\n",
        "import matplotlib.pyplot as plt"
      ],
      "execution_count": 1,
      "outputs": []
    },
    {
      "cell_type": "markdown",
      "metadata": {
        "id": "UAMsaDGKTe8i"
      },
      "source": [
        "# Exercicio 1"
      ]
    },
    {
      "cell_type": "markdown",
      "metadata": {
        "id": "924Y9aLrVhRM"
      },
      "source": [
        "\n",
        "\n",
        "Os dados abaixo referem-se a quantidade produzida de lavouras permanentes no Brasil, entre 2017 e 2019. Construa o DataFrame abaixo e seguidamente faça:\n",
        "\n",
        "a) obtenha a quantidade total produzida pelas lavouras em cada ano;\n",
        "\n",
        "b) obtenha a quantidade total produzida por cada lavoura ao longo do tempo;\n",
        "\n",
        "c) mostre um resumo das estatísticas descritivas;\n",
        "\n",
        "d) converta o banco de dados para csv."
      ]
    },
    {
      "cell_type": "code",
      "metadata": {
        "id": "Jd0TzIQ7GgUS"
      },
      "source": [
        "dados = { 'Abacate':{ 2017: 212873, 2018: 236177, 2019: 242932 }, 'Açaí':{ 2017:1335040, 2018:1301472, 2019:1398328 }, 'Banana':{ 2017:6584967, 2018:6723590, 2019:6812708 }, 'Cacau':{ 2017:235809, 2018:239318, 2019:259425 }, 'Laranja':{ 2017:17492882, 2018:16841549, 2019:17073593 }, 'Maçã':{ 2017:1307642, 2018:1203007, 2019:1222970 }, 'Mamão':{ 2017:1058487, 2018:1065421, 2019:1161808 }, 'Manga':{ 2017:1089882, 2018:1320458, 2019:1414338 }, }"
      ],
      "execution_count": 2,
      "outputs": []
    },
    {
      "cell_type": "code",
      "metadata": {
        "colab": {
          "base_uri": "https://localhost:8080/"
        },
        "id": "zkxfIwFqVfoZ",
        "outputId": "139f126b-c038-40b9-e160-6ca25aad7098"
      },
      "source": [
        "dados"
      ],
      "execution_count": 3,
      "outputs": [
        {
          "output_type": "execute_result",
          "data": {
            "text/plain": [
              "{'Abacate': {2017: 212873, 2018: 236177, 2019: 242932},\n",
              " 'Açaí': {2017: 1335040, 2018: 1301472, 2019: 1398328},\n",
              " 'Banana': {2017: 6584967, 2018: 6723590, 2019: 6812708},\n",
              " 'Cacau': {2017: 235809, 2018: 239318, 2019: 259425},\n",
              " 'Laranja': {2017: 17492882, 2018: 16841549, 2019: 17073593},\n",
              " 'Mamão': {2017: 1058487, 2018: 1065421, 2019: 1161808},\n",
              " 'Manga': {2017: 1089882, 2018: 1320458, 2019: 1414338},\n",
              " 'Maçã': {2017: 1307642, 2018: 1203007, 2019: 1222970}}"
            ]
          },
          "metadata": {},
          "execution_count": 3
        }
      ]
    },
    {
      "cell_type": "code",
      "metadata": {
        "id": "QEmegXAogMfe"
      },
      "source": [
        "data = pd.DataFrame(dados)"
      ],
      "execution_count": 4,
      "outputs": []
    },
    {
      "cell_type": "code",
      "metadata": {
        "colab": {
          "base_uri": "https://localhost:8080/",
          "height": 143
        },
        "id": "__puirqlg4Uc",
        "outputId": "97d02f33-71e2-4064-e5d4-d591e8ca362d"
      },
      "source": [
        "#a\n",
        "data['total'] = data.sum(axis=1)\n",
        "#somando os valores do eixo x\n",
        "data"
      ],
      "execution_count": 5,
      "outputs": [
        {
          "output_type": "execute_result",
          "data": {
            "text/html": [
              "<div>\n",
              "<style scoped>\n",
              "    .dataframe tbody tr th:only-of-type {\n",
              "        vertical-align: middle;\n",
              "    }\n",
              "\n",
              "    .dataframe tbody tr th {\n",
              "        vertical-align: top;\n",
              "    }\n",
              "\n",
              "    .dataframe thead th {\n",
              "        text-align: right;\n",
              "    }\n",
              "</style>\n",
              "<table border=\"1\" class=\"dataframe\">\n",
              "  <thead>\n",
              "    <tr style=\"text-align: right;\">\n",
              "      <th></th>\n",
              "      <th>Abacate</th>\n",
              "      <th>Açaí</th>\n",
              "      <th>Banana</th>\n",
              "      <th>Cacau</th>\n",
              "      <th>Laranja</th>\n",
              "      <th>Maçã</th>\n",
              "      <th>Mamão</th>\n",
              "      <th>Manga</th>\n",
              "      <th>total</th>\n",
              "    </tr>\n",
              "  </thead>\n",
              "  <tbody>\n",
              "    <tr>\n",
              "      <th>2017</th>\n",
              "      <td>212873</td>\n",
              "      <td>1335040</td>\n",
              "      <td>6584967</td>\n",
              "      <td>235809</td>\n",
              "      <td>17492882</td>\n",
              "      <td>1307642</td>\n",
              "      <td>1058487</td>\n",
              "      <td>1089882</td>\n",
              "      <td>29317582</td>\n",
              "    </tr>\n",
              "    <tr>\n",
              "      <th>2018</th>\n",
              "      <td>236177</td>\n",
              "      <td>1301472</td>\n",
              "      <td>6723590</td>\n",
              "      <td>239318</td>\n",
              "      <td>16841549</td>\n",
              "      <td>1203007</td>\n",
              "      <td>1065421</td>\n",
              "      <td>1320458</td>\n",
              "      <td>28930992</td>\n",
              "    </tr>\n",
              "    <tr>\n",
              "      <th>2019</th>\n",
              "      <td>242932</td>\n",
              "      <td>1398328</td>\n",
              "      <td>6812708</td>\n",
              "      <td>259425</td>\n",
              "      <td>17073593</td>\n",
              "      <td>1222970</td>\n",
              "      <td>1161808</td>\n",
              "      <td>1414338</td>\n",
              "      <td>29586102</td>\n",
              "    </tr>\n",
              "  </tbody>\n",
              "</table>\n",
              "</div>"
            ],
            "text/plain": [
              "      Abacate     Açaí   Banana   Cacau  ...     Maçã    Mamão    Manga     total\n",
              "2017   212873  1335040  6584967  235809  ...  1307642  1058487  1089882  29317582\n",
              "2018   236177  1301472  6723590  239318  ...  1203007  1065421  1320458  28930992\n",
              "2019   242932  1398328  6812708  259425  ...  1222970  1161808  1414338  29586102\n",
              "\n",
              "[3 rows x 9 columns]"
            ]
          },
          "metadata": {},
          "execution_count": 5
        }
      ]
    },
    {
      "cell_type": "code",
      "metadata": {
        "id": "nidR1drR55Yo",
        "colab": {
          "base_uri": "https://localhost:8080/",
          "height": 332
        },
        "outputId": "e1c953c6-26b8-44f9-a098-dcf4474aceed"
      },
      "source": [
        "#b\n",
        "datat = data.T\n",
        "datat['total'] = datat.sum(axis=1)\n",
        "datat"
      ],
      "execution_count": 6,
      "outputs": [
        {
          "output_type": "execute_result",
          "data": {
            "text/html": [
              "<div>\n",
              "<style scoped>\n",
              "    .dataframe tbody tr th:only-of-type {\n",
              "        vertical-align: middle;\n",
              "    }\n",
              "\n",
              "    .dataframe tbody tr th {\n",
              "        vertical-align: top;\n",
              "    }\n",
              "\n",
              "    .dataframe thead th {\n",
              "        text-align: right;\n",
              "    }\n",
              "</style>\n",
              "<table border=\"1\" class=\"dataframe\">\n",
              "  <thead>\n",
              "    <tr style=\"text-align: right;\">\n",
              "      <th></th>\n",
              "      <th>2017</th>\n",
              "      <th>2018</th>\n",
              "      <th>2019</th>\n",
              "      <th>total</th>\n",
              "    </tr>\n",
              "  </thead>\n",
              "  <tbody>\n",
              "    <tr>\n",
              "      <th>Abacate</th>\n",
              "      <td>212873</td>\n",
              "      <td>236177</td>\n",
              "      <td>242932</td>\n",
              "      <td>691982</td>\n",
              "    </tr>\n",
              "    <tr>\n",
              "      <th>Açaí</th>\n",
              "      <td>1335040</td>\n",
              "      <td>1301472</td>\n",
              "      <td>1398328</td>\n",
              "      <td>4034840</td>\n",
              "    </tr>\n",
              "    <tr>\n",
              "      <th>Banana</th>\n",
              "      <td>6584967</td>\n",
              "      <td>6723590</td>\n",
              "      <td>6812708</td>\n",
              "      <td>20121265</td>\n",
              "    </tr>\n",
              "    <tr>\n",
              "      <th>Cacau</th>\n",
              "      <td>235809</td>\n",
              "      <td>239318</td>\n",
              "      <td>259425</td>\n",
              "      <td>734552</td>\n",
              "    </tr>\n",
              "    <tr>\n",
              "      <th>Laranja</th>\n",
              "      <td>17492882</td>\n",
              "      <td>16841549</td>\n",
              "      <td>17073593</td>\n",
              "      <td>51408024</td>\n",
              "    </tr>\n",
              "    <tr>\n",
              "      <th>Maçã</th>\n",
              "      <td>1307642</td>\n",
              "      <td>1203007</td>\n",
              "      <td>1222970</td>\n",
              "      <td>3733619</td>\n",
              "    </tr>\n",
              "    <tr>\n",
              "      <th>Mamão</th>\n",
              "      <td>1058487</td>\n",
              "      <td>1065421</td>\n",
              "      <td>1161808</td>\n",
              "      <td>3285716</td>\n",
              "    </tr>\n",
              "    <tr>\n",
              "      <th>Manga</th>\n",
              "      <td>1089882</td>\n",
              "      <td>1320458</td>\n",
              "      <td>1414338</td>\n",
              "      <td>3824678</td>\n",
              "    </tr>\n",
              "    <tr>\n",
              "      <th>total</th>\n",
              "      <td>29317582</td>\n",
              "      <td>28930992</td>\n",
              "      <td>29586102</td>\n",
              "      <td>87834676</td>\n",
              "    </tr>\n",
              "  </tbody>\n",
              "</table>\n",
              "</div>"
            ],
            "text/plain": [
              "             2017      2018      2019     total\n",
              "Abacate    212873    236177    242932    691982\n",
              "Açaí      1335040   1301472   1398328   4034840\n",
              "Banana    6584967   6723590   6812708  20121265\n",
              "Cacau      235809    239318    259425    734552\n",
              "Laranja  17492882  16841549  17073593  51408024\n",
              "Maçã      1307642   1203007   1222970   3733619\n",
              "Mamão     1058487   1065421   1161808   3285716\n",
              "Manga     1089882   1320458   1414338   3824678\n",
              "total    29317582  28930992  29586102  87834676"
            ]
          },
          "metadata": {},
          "execution_count": 6
        }
      ]
    },
    {
      "cell_type": "code",
      "metadata": {
        "colab": {
          "base_uri": "https://localhost:8080/",
          "height": 320
        },
        "id": "5BjWRr5Qc9UF",
        "outputId": "2387accd-3583-4ff2-e2d8-14f07825ee46"
      },
      "source": [
        "#c\n",
        "data.describe()"
      ],
      "execution_count": 7,
      "outputs": [
        {
          "output_type": "execute_result",
          "data": {
            "text/html": [
              "<div>\n",
              "<style scoped>\n",
              "    .dataframe tbody tr th:only-of-type {\n",
              "        vertical-align: middle;\n",
              "    }\n",
              "\n",
              "    .dataframe tbody tr th {\n",
              "        vertical-align: top;\n",
              "    }\n",
              "\n",
              "    .dataframe thead th {\n",
              "        text-align: right;\n",
              "    }\n",
              "</style>\n",
              "<table border=\"1\" class=\"dataframe\">\n",
              "  <thead>\n",
              "    <tr style=\"text-align: right;\">\n",
              "      <th></th>\n",
              "      <th>Abacate</th>\n",
              "      <th>Açaí</th>\n",
              "      <th>Banana</th>\n",
              "      <th>Cacau</th>\n",
              "      <th>Laranja</th>\n",
              "      <th>Maçã</th>\n",
              "      <th>Mamão</th>\n",
              "      <th>Manga</th>\n",
              "      <th>total</th>\n",
              "    </tr>\n",
              "  </thead>\n",
              "  <tbody>\n",
              "    <tr>\n",
              "      <th>count</th>\n",
              "      <td>3.000000</td>\n",
              "      <td>3.000000e+00</td>\n",
              "      <td>3.000000e+00</td>\n",
              "      <td>3.000000</td>\n",
              "      <td>3.000000e+00</td>\n",
              "      <td>3.000000e+00</td>\n",
              "      <td>3.000000e+00</td>\n",
              "      <td>3.000000e+00</td>\n",
              "      <td>3.000000e+00</td>\n",
              "    </tr>\n",
              "    <tr>\n",
              "      <th>mean</th>\n",
              "      <td>230660.666667</td>\n",
              "      <td>1.344947e+06</td>\n",
              "      <td>6.707088e+06</td>\n",
              "      <td>244850.666667</td>\n",
              "      <td>1.713601e+07</td>\n",
              "      <td>1.244540e+06</td>\n",
              "      <td>1.095239e+06</td>\n",
              "      <td>1.274893e+06</td>\n",
              "      <td>2.927823e+07</td>\n",
              "    </tr>\n",
              "    <tr>\n",
              "      <th>std</th>\n",
              "      <td>15770.488906</td>\n",
              "      <td>4.918209e+04</td>\n",
              "      <td>1.147638e+05</td>\n",
              "      <td>12743.102618</td>\n",
              "      <td>3.301218e+05</td>\n",
              "      <td>5.555231e+04</td>\n",
              "      <td>5.775489e+04</td>\n",
              "      <td>1.669583e+05</td>\n",
              "      <td>3.293235e+05</td>\n",
              "    </tr>\n",
              "    <tr>\n",
              "      <th>min</th>\n",
              "      <td>212873.000000</td>\n",
              "      <td>1.301472e+06</td>\n",
              "      <td>6.584967e+06</td>\n",
              "      <td>235809.000000</td>\n",
              "      <td>1.684155e+07</td>\n",
              "      <td>1.203007e+06</td>\n",
              "      <td>1.058487e+06</td>\n",
              "      <td>1.089882e+06</td>\n",
              "      <td>2.893099e+07</td>\n",
              "    </tr>\n",
              "    <tr>\n",
              "      <th>25%</th>\n",
              "      <td>224525.000000</td>\n",
              "      <td>1.318256e+06</td>\n",
              "      <td>6.654278e+06</td>\n",
              "      <td>237563.500000</td>\n",
              "      <td>1.695757e+07</td>\n",
              "      <td>1.212988e+06</td>\n",
              "      <td>1.061954e+06</td>\n",
              "      <td>1.205170e+06</td>\n",
              "      <td>2.912429e+07</td>\n",
              "    </tr>\n",
              "    <tr>\n",
              "      <th>50%</th>\n",
              "      <td>236177.000000</td>\n",
              "      <td>1.335040e+06</td>\n",
              "      <td>6.723590e+06</td>\n",
              "      <td>239318.000000</td>\n",
              "      <td>1.707359e+07</td>\n",
              "      <td>1.222970e+06</td>\n",
              "      <td>1.065421e+06</td>\n",
              "      <td>1.320458e+06</td>\n",
              "      <td>2.931758e+07</td>\n",
              "    </tr>\n",
              "    <tr>\n",
              "      <th>75%</th>\n",
              "      <td>239554.500000</td>\n",
              "      <td>1.366684e+06</td>\n",
              "      <td>6.768149e+06</td>\n",
              "      <td>249371.500000</td>\n",
              "      <td>1.728324e+07</td>\n",
              "      <td>1.265306e+06</td>\n",
              "      <td>1.113614e+06</td>\n",
              "      <td>1.367398e+06</td>\n",
              "      <td>2.945184e+07</td>\n",
              "    </tr>\n",
              "    <tr>\n",
              "      <th>max</th>\n",
              "      <td>242932.000000</td>\n",
              "      <td>1.398328e+06</td>\n",
              "      <td>6.812708e+06</td>\n",
              "      <td>259425.000000</td>\n",
              "      <td>1.749288e+07</td>\n",
              "      <td>1.307642e+06</td>\n",
              "      <td>1.161808e+06</td>\n",
              "      <td>1.414338e+06</td>\n",
              "      <td>2.958610e+07</td>\n",
              "    </tr>\n",
              "  </tbody>\n",
              "</table>\n",
              "</div>"
            ],
            "text/plain": [
              "             Abacate          Açaí  ...         Manga         total\n",
              "count       3.000000  3.000000e+00  ...  3.000000e+00  3.000000e+00\n",
              "mean   230660.666667  1.344947e+06  ...  1.274893e+06  2.927823e+07\n",
              "std     15770.488906  4.918209e+04  ...  1.669583e+05  3.293235e+05\n",
              "min    212873.000000  1.301472e+06  ...  1.089882e+06  2.893099e+07\n",
              "25%    224525.000000  1.318256e+06  ...  1.205170e+06  2.912429e+07\n",
              "50%    236177.000000  1.335040e+06  ...  1.320458e+06  2.931758e+07\n",
              "75%    239554.500000  1.366684e+06  ...  1.367398e+06  2.945184e+07\n",
              "max    242932.000000  1.398328e+06  ...  1.414338e+06  2.958610e+07\n",
              "\n",
              "[8 rows x 9 columns]"
            ]
          },
          "metadata": {},
          "execution_count": 7
        }
      ]
    },
    {
      "cell_type": "code",
      "metadata": {
        "id": "lyVbh1pIk130"
      },
      "source": [
        "#d\n",
        "data.to_csv('dados_prod.csv', index = False)"
      ],
      "execution_count": 8,
      "outputs": []
    },
    {
      "cell_type": "markdown",
      "metadata": {
        "id": "H7BFCyZqTpGj"
      },
      "source": [
        "# Exercício 2"
      ]
    },
    {
      "cell_type": "markdown",
      "metadata": {
        "id": "hVjBL-ROoC67"
      },
      "source": [
        "\n",
        "Com base no dataset anterior obtenha:\n",
        "\n",
        "a) média da quantidade total produzida das respectivas lavouras em 2017, 2018 e 2019;\n",
        "\n",
        "b) média da quantidade produzida de cada lavoura entre o período selecionado;\n",
        "\n",
        "c) desvio padrão da quantidade total produzida das respectivas lavouras em 2017, 2018 e 2019;\n",
        "\n",
        "d) desvio padrão da quantidade produzida de cada lavoura entre o período selecionado;\n",
        "\n",
        "e) variância da quantidade total produzida das respectivas lavouras em 2017, 2018 e 2019;"
      ]
    },
    {
      "cell_type": "code",
      "metadata": {
        "colab": {
          "base_uri": "https://localhost:8080/",
          "height": 332
        },
        "id": "Yn5yn8InmEKu",
        "outputId": "d78a14c4-3721-4aa1-8a22-502501c9ce31"
      },
      "source": [
        "#a\n",
        "datat.drop(labels = ['total'], axis = 1, inplace = True)\n",
        "datat['Média'] = datat.median(axis=1)\n",
        "datat"
      ],
      "execution_count": 9,
      "outputs": [
        {
          "output_type": "execute_result",
          "data": {
            "text/html": [
              "<div>\n",
              "<style scoped>\n",
              "    .dataframe tbody tr th:only-of-type {\n",
              "        vertical-align: middle;\n",
              "    }\n",
              "\n",
              "    .dataframe tbody tr th {\n",
              "        vertical-align: top;\n",
              "    }\n",
              "\n",
              "    .dataframe thead th {\n",
              "        text-align: right;\n",
              "    }\n",
              "</style>\n",
              "<table border=\"1\" class=\"dataframe\">\n",
              "  <thead>\n",
              "    <tr style=\"text-align: right;\">\n",
              "      <th></th>\n",
              "      <th>2017</th>\n",
              "      <th>2018</th>\n",
              "      <th>2019</th>\n",
              "      <th>Média</th>\n",
              "    </tr>\n",
              "  </thead>\n",
              "  <tbody>\n",
              "    <tr>\n",
              "      <th>Abacate</th>\n",
              "      <td>212873</td>\n",
              "      <td>236177</td>\n",
              "      <td>242932</td>\n",
              "      <td>236177.0</td>\n",
              "    </tr>\n",
              "    <tr>\n",
              "      <th>Açaí</th>\n",
              "      <td>1335040</td>\n",
              "      <td>1301472</td>\n",
              "      <td>1398328</td>\n",
              "      <td>1335040.0</td>\n",
              "    </tr>\n",
              "    <tr>\n",
              "      <th>Banana</th>\n",
              "      <td>6584967</td>\n",
              "      <td>6723590</td>\n",
              "      <td>6812708</td>\n",
              "      <td>6723590.0</td>\n",
              "    </tr>\n",
              "    <tr>\n",
              "      <th>Cacau</th>\n",
              "      <td>235809</td>\n",
              "      <td>239318</td>\n",
              "      <td>259425</td>\n",
              "      <td>239318.0</td>\n",
              "    </tr>\n",
              "    <tr>\n",
              "      <th>Laranja</th>\n",
              "      <td>17492882</td>\n",
              "      <td>16841549</td>\n",
              "      <td>17073593</td>\n",
              "      <td>17073593.0</td>\n",
              "    </tr>\n",
              "    <tr>\n",
              "      <th>Maçã</th>\n",
              "      <td>1307642</td>\n",
              "      <td>1203007</td>\n",
              "      <td>1222970</td>\n",
              "      <td>1222970.0</td>\n",
              "    </tr>\n",
              "    <tr>\n",
              "      <th>Mamão</th>\n",
              "      <td>1058487</td>\n",
              "      <td>1065421</td>\n",
              "      <td>1161808</td>\n",
              "      <td>1065421.0</td>\n",
              "    </tr>\n",
              "    <tr>\n",
              "      <th>Manga</th>\n",
              "      <td>1089882</td>\n",
              "      <td>1320458</td>\n",
              "      <td>1414338</td>\n",
              "      <td>1320458.0</td>\n",
              "    </tr>\n",
              "    <tr>\n",
              "      <th>total</th>\n",
              "      <td>29317582</td>\n",
              "      <td>28930992</td>\n",
              "      <td>29586102</td>\n",
              "      <td>29317582.0</td>\n",
              "    </tr>\n",
              "  </tbody>\n",
              "</table>\n",
              "</div>"
            ],
            "text/plain": [
              "             2017      2018      2019       Média\n",
              "Abacate    212873    236177    242932    236177.0\n",
              "Açaí      1335040   1301472   1398328   1335040.0\n",
              "Banana    6584967   6723590   6812708   6723590.0\n",
              "Cacau      235809    239318    259425    239318.0\n",
              "Laranja  17492882  16841549  17073593  17073593.0\n",
              "Maçã      1307642   1203007   1222970   1222970.0\n",
              "Mamão     1058487   1065421   1161808   1065421.0\n",
              "Manga     1089882   1320458   1414338   1320458.0\n",
              "total    29317582  28930992  29586102  29317582.0"
            ]
          },
          "metadata": {},
          "execution_count": 9
        }
      ]
    },
    {
      "cell_type": "code",
      "metadata": {
        "id": "Qd8nc3VgsRXP",
        "colab": {
          "base_uri": "https://localhost:8080/",
          "height": 332
        },
        "outputId": "feeb0546-057e-4ae3-8c8c-cde53f2471d4"
      },
      "source": [
        "#c\n",
        "#datat.drop(labels = ['Média'], axis = 1, inplace = True)\n",
        "#datat.drop(labels = ['total'], axis = 1, inplace = True)\n",
        "datat['Média Std'] = datat.std(axis=1)\n",
        "datat"
      ],
      "execution_count": 10,
      "outputs": [
        {
          "output_type": "execute_result",
          "data": {
            "text/html": [
              "<div>\n",
              "<style scoped>\n",
              "    .dataframe tbody tr th:only-of-type {\n",
              "        vertical-align: middle;\n",
              "    }\n",
              "\n",
              "    .dataframe tbody tr th {\n",
              "        vertical-align: top;\n",
              "    }\n",
              "\n",
              "    .dataframe thead th {\n",
              "        text-align: right;\n",
              "    }\n",
              "</style>\n",
              "<table border=\"1\" class=\"dataframe\">\n",
              "  <thead>\n",
              "    <tr style=\"text-align: right;\">\n",
              "      <th></th>\n",
              "      <th>2017</th>\n",
              "      <th>2018</th>\n",
              "      <th>2019</th>\n",
              "      <th>Média</th>\n",
              "      <th>Média Std</th>\n",
              "    </tr>\n",
              "  </thead>\n",
              "  <tbody>\n",
              "    <tr>\n",
              "      <th>Abacate</th>\n",
              "      <td>212873</td>\n",
              "      <td>236177</td>\n",
              "      <td>242932</td>\n",
              "      <td>236177.0</td>\n",
              "      <td>13168.638132</td>\n",
              "    </tr>\n",
              "    <tr>\n",
              "      <th>Açaí</th>\n",
              "      <td>1335040</td>\n",
              "      <td>1301472</td>\n",
              "      <td>1398328</td>\n",
              "      <td>1335040.0</td>\n",
              "      <td>40461.347679</td>\n",
              "    </tr>\n",
              "    <tr>\n",
              "      <th>Banana</th>\n",
              "      <td>6584967</td>\n",
              "      <td>6723590</td>\n",
              "      <td>6812708</td>\n",
              "      <td>6723590.0</td>\n",
              "      <td>94066.763165</td>\n",
              "    </tr>\n",
              "    <tr>\n",
              "      <th>Cacau</th>\n",
              "      <td>235809</td>\n",
              "      <td>239318</td>\n",
              "      <td>259425</td>\n",
              "      <td>239318.0</td>\n",
              "      <td>10766.168136</td>\n",
              "    </tr>\n",
              "    <tr>\n",
              "      <th>Laranja</th>\n",
              "      <td>17492882</td>\n",
              "      <td>16841549</td>\n",
              "      <td>17073593</td>\n",
              "      <td>17073593.0</td>\n",
              "      <td>271343.884490</td>\n",
              "    </tr>\n",
              "    <tr>\n",
              "      <th>Maçã</th>\n",
              "      <td>1307642</td>\n",
              "      <td>1203007</td>\n",
              "      <td>1222970</td>\n",
              "      <td>1222970.0</td>\n",
              "      <td>46622.795865</td>\n",
              "    </tr>\n",
              "    <tr>\n",
              "      <th>Mamão</th>\n",
              "      <td>1058487</td>\n",
              "      <td>1065421</td>\n",
              "      <td>1161808</td>\n",
              "      <td>1065421.0</td>\n",
              "      <td>49457.302537</td>\n",
              "    </tr>\n",
              "    <tr>\n",
              "      <th>Manga</th>\n",
              "      <td>1089882</td>\n",
              "      <td>1320458</td>\n",
              "      <td>1414338</td>\n",
              "      <td>1320458.0</td>\n",
              "      <td>138211.549291</td>\n",
              "    </tr>\n",
              "    <tr>\n",
              "      <th>total</th>\n",
              "      <td>29317582</td>\n",
              "      <td>28930992</td>\n",
              "      <td>29586102</td>\n",
              "      <td>29317582.0</td>\n",
              "      <td>269610.637324</td>\n",
              "    </tr>\n",
              "  </tbody>\n",
              "</table>\n",
              "</div>"
            ],
            "text/plain": [
              "             2017      2018      2019       Média      Média Std\n",
              "Abacate    212873    236177    242932    236177.0   13168.638132\n",
              "Açaí      1335040   1301472   1398328   1335040.0   40461.347679\n",
              "Banana    6584967   6723590   6812708   6723590.0   94066.763165\n",
              "Cacau      235809    239318    259425    239318.0   10766.168136\n",
              "Laranja  17492882  16841549  17073593  17073593.0  271343.884490\n",
              "Maçã      1307642   1203007   1222970   1222970.0   46622.795865\n",
              "Mamão     1058487   1065421   1161808   1065421.0   49457.302537\n",
              "Manga     1089882   1320458   1414338   1320458.0  138211.549291\n",
              "total    29317582  28930992  29586102  29317582.0  269610.637324"
            ]
          },
          "metadata": {},
          "execution_count": 10
        }
      ]
    },
    {
      "cell_type": "code",
      "metadata": {
        "colab": {
          "base_uri": "https://localhost:8080/",
          "height": 332
        },
        "id": "ERWWpFYuhUAs",
        "outputId": "7a748698-50f7-4c7e-9386-beeafe1da961"
      },
      "source": [
        "#e\n",
        "#datat.drop(labels = ['Média Std'], axis = 1, inplace = True)\n",
        "datat['Variancia'] = np.var(datat, axis = 1)\n",
        "datat"
      ],
      "execution_count": 11,
      "outputs": [
        {
          "output_type": "execute_result",
          "data": {
            "text/html": [
              "<div>\n",
              "<style scoped>\n",
              "    .dataframe tbody tr th:only-of-type {\n",
              "        vertical-align: middle;\n",
              "    }\n",
              "\n",
              "    .dataframe tbody tr th {\n",
              "        vertical-align: top;\n",
              "    }\n",
              "\n",
              "    .dataframe thead th {\n",
              "        text-align: right;\n",
              "    }\n",
              "</style>\n",
              "<table border=\"1\" class=\"dataframe\">\n",
              "  <thead>\n",
              "    <tr style=\"text-align: right;\">\n",
              "      <th></th>\n",
              "      <th>2017</th>\n",
              "      <th>2018</th>\n",
              "      <th>2019</th>\n",
              "      <th>Média</th>\n",
              "      <th>Média Std</th>\n",
              "      <th>Variancia</th>\n",
              "    </tr>\n",
              "  </thead>\n",
              "  <tbody>\n",
              "    <tr>\n",
              "      <th>Abacate</th>\n",
              "      <td>212873</td>\n",
              "      <td>236177</td>\n",
              "      <td>242932</td>\n",
              "      <td>236177.0</td>\n",
              "      <td>13168.638132</td>\n",
              "      <td>7.768778e+09</td>\n",
              "    </tr>\n",
              "    <tr>\n",
              "      <th>Açaí</th>\n",
              "      <td>1335040</td>\n",
              "      <td>1301472</td>\n",
              "      <td>1398328</td>\n",
              "      <td>1335040.0</td>\n",
              "      <td>40461.347679</td>\n",
              "      <td>2.722185e+11</td>\n",
              "    </tr>\n",
              "    <tr>\n",
              "      <th>Banana</th>\n",
              "      <td>6584967</td>\n",
              "      <td>6723590</td>\n",
              "      <td>6812708</td>\n",
              "      <td>6723590.0</td>\n",
              "      <td>94066.763165</td>\n",
              "      <td>7.011171e+12</td>\n",
              "    </tr>\n",
              "    <tr>\n",
              "      <th>Cacau</th>\n",
              "      <td>235809</td>\n",
              "      <td>239318</td>\n",
              "      <td>259425</td>\n",
              "      <td>239318.0</td>\n",
              "      <td>10766.168136</td>\n",
              "      <td>8.733532e+09</td>\n",
              "    </tr>\n",
              "    <tr>\n",
              "      <th>Laranja</th>\n",
              "      <td>17492882</td>\n",
              "      <td>16841549</td>\n",
              "      <td>17073593</td>\n",
              "      <td>17073593.0</td>\n",
              "      <td>271343.884490</td>\n",
              "      <td>4.546671e+13</td>\n",
              "    </tr>\n",
              "    <tr>\n",
              "      <th>Maçã</th>\n",
              "      <td>1307642</td>\n",
              "      <td>1203007</td>\n",
              "      <td>1222970</td>\n",
              "      <td>1222970.0</td>\n",
              "      <td>46622.795865</td>\n",
              "      <td>2.288425e+11</td>\n",
              "    </tr>\n",
              "    <tr>\n",
              "      <th>Mamão</th>\n",
              "      <td>1058487</td>\n",
              "      <td>1065421</td>\n",
              "      <td>1161808</td>\n",
              "      <td>1065421.0</td>\n",
              "      <td>49457.302537</td>\n",
              "      <td>1.739673e+11</td>\n",
              "    </tr>\n",
              "    <tr>\n",
              "      <th>Manga</th>\n",
              "      <td>1089882</td>\n",
              "      <td>1320458</td>\n",
              "      <td>1414338</td>\n",
              "      <td>1320458.0</td>\n",
              "      <td>138211.549291</td>\n",
              "      <td>2.223527e+11</td>\n",
              "    </tr>\n",
              "    <tr>\n",
              "      <th>total</th>\n",
              "      <td>29317582</td>\n",
              "      <td>28930992</td>\n",
              "      <td>29586102</td>\n",
              "      <td>29317582.0</td>\n",
              "      <td>269610.637324</td>\n",
              "      <td>1.347749e+14</td>\n",
              "    </tr>\n",
              "  </tbody>\n",
              "</table>\n",
              "</div>"
            ],
            "text/plain": [
              "             2017      2018      2019       Média      Média Std     Variancia\n",
              "Abacate    212873    236177    242932    236177.0   13168.638132  7.768778e+09\n",
              "Açaí      1335040   1301472   1398328   1335040.0   40461.347679  2.722185e+11\n",
              "Banana    6584967   6723590   6812708   6723590.0   94066.763165  7.011171e+12\n",
              "Cacau      235809    239318    259425    239318.0   10766.168136  8.733532e+09\n",
              "Laranja  17492882  16841549  17073593  17073593.0  271343.884490  4.546671e+13\n",
              "Maçã      1307642   1203007   1222970   1222970.0   46622.795865  2.288425e+11\n",
              "Mamão     1058487   1065421   1161808   1065421.0   49457.302537  1.739673e+11\n",
              "Manga     1089882   1320458   1414338   1320458.0  138211.549291  2.223527e+11\n",
              "total    29317582  28930992  29586102  29317582.0  269610.637324  1.347749e+14"
            ]
          },
          "metadata": {},
          "execution_count": 11
        }
      ]
    },
    {
      "cell_type": "markdown",
      "metadata": {
        "id": "9zLGygrjTv2L"
      },
      "source": [
        "# Exercício 3"
      ]
    },
    {
      "cell_type": "markdown",
      "metadata": {
        "id": "TeLwQHwWifzV"
      },
      "source": [
        "Calcule e imprima na tela:\n",
        "\n",
        "a) média das vendas diárias;\n",
        "\n",
        "b) desvio padrão;\n",
        "\n",
        "c) variância;\n",
        "\n",
        "d) moda;\n",
        "\n",
        "e) quantidade total vendida no período;\n",
        "\n",
        "f) valor máximo de vendas e o dia respectivo;\n",
        "\n",
        "g) valor mínimo de vendas e o dia rescpetivo."
      ]
    },
    {
      "cell_type": "code",
      "metadata": {
        "colab": {
          "base_uri": "https://localhost:8080/",
          "height": 363
        },
        "id": "BMhGOYd7l0PC",
        "outputId": "4ef93bf1-d1cb-4f26-bd8d-0e27713ad87a"
      },
      "source": [
        "#criando o dataset\n",
        "datalista = pd.date_range(start ='12-1-2020', end ='12-10-2020')\n",
        "vendas = [10, 38, 47, 9, 11, 9, 21, 49, 17, 29]\n",
        "dataset = pd.DataFrame(index = datalista, data = vendas)\n",
        "dataset.rename({0: 'Venda Diaria'}, axis = 1, inplace = True)\n",
        "dataset"
      ],
      "execution_count": 12,
      "outputs": [
        {
          "output_type": "execute_result",
          "data": {
            "text/html": [
              "<div>\n",
              "<style scoped>\n",
              "    .dataframe tbody tr th:only-of-type {\n",
              "        vertical-align: middle;\n",
              "    }\n",
              "\n",
              "    .dataframe tbody tr th {\n",
              "        vertical-align: top;\n",
              "    }\n",
              "\n",
              "    .dataframe thead th {\n",
              "        text-align: right;\n",
              "    }\n",
              "</style>\n",
              "<table border=\"1\" class=\"dataframe\">\n",
              "  <thead>\n",
              "    <tr style=\"text-align: right;\">\n",
              "      <th></th>\n",
              "      <th>Venda Diaria</th>\n",
              "    </tr>\n",
              "  </thead>\n",
              "  <tbody>\n",
              "    <tr>\n",
              "      <th>2020-12-01</th>\n",
              "      <td>10</td>\n",
              "    </tr>\n",
              "    <tr>\n",
              "      <th>2020-12-02</th>\n",
              "      <td>38</td>\n",
              "    </tr>\n",
              "    <tr>\n",
              "      <th>2020-12-03</th>\n",
              "      <td>47</td>\n",
              "    </tr>\n",
              "    <tr>\n",
              "      <th>2020-12-04</th>\n",
              "      <td>9</td>\n",
              "    </tr>\n",
              "    <tr>\n",
              "      <th>2020-12-05</th>\n",
              "      <td>11</td>\n",
              "    </tr>\n",
              "    <tr>\n",
              "      <th>2020-12-06</th>\n",
              "      <td>9</td>\n",
              "    </tr>\n",
              "    <tr>\n",
              "      <th>2020-12-07</th>\n",
              "      <td>21</td>\n",
              "    </tr>\n",
              "    <tr>\n",
              "      <th>2020-12-08</th>\n",
              "      <td>49</td>\n",
              "    </tr>\n",
              "    <tr>\n",
              "      <th>2020-12-09</th>\n",
              "      <td>17</td>\n",
              "    </tr>\n",
              "    <tr>\n",
              "      <th>2020-12-10</th>\n",
              "      <td>29</td>\n",
              "    </tr>\n",
              "  </tbody>\n",
              "</table>\n",
              "</div>"
            ],
            "text/plain": [
              "            Venda Diaria\n",
              "2020-12-01            10\n",
              "2020-12-02            38\n",
              "2020-12-03            47\n",
              "2020-12-04             9\n",
              "2020-12-05            11\n",
              "2020-12-06             9\n",
              "2020-12-07            21\n",
              "2020-12-08            49\n",
              "2020-12-09            17\n",
              "2020-12-10            29"
            ]
          },
          "metadata": {},
          "execution_count": 12
        }
      ]
    },
    {
      "cell_type": "code",
      "metadata": {
        "colab": {
          "base_uri": "https://localhost:8080/",
          "height": 300
        },
        "id": "eiPxZdGgm8vq",
        "outputId": "55043bfb-daff-47b2-cc86-7fa7dda8cbfb"
      },
      "source": [
        "#a, b\n",
        "dataset.describe()"
      ],
      "execution_count": 13,
      "outputs": [
        {
          "output_type": "execute_result",
          "data": {
            "text/html": [
              "<div>\n",
              "<style scoped>\n",
              "    .dataframe tbody tr th:only-of-type {\n",
              "        vertical-align: middle;\n",
              "    }\n",
              "\n",
              "    .dataframe tbody tr th {\n",
              "        vertical-align: top;\n",
              "    }\n",
              "\n",
              "    .dataframe thead th {\n",
              "        text-align: right;\n",
              "    }\n",
              "</style>\n",
              "<table border=\"1\" class=\"dataframe\">\n",
              "  <thead>\n",
              "    <tr style=\"text-align: right;\">\n",
              "      <th></th>\n",
              "      <th>Venda Diaria</th>\n",
              "    </tr>\n",
              "  </thead>\n",
              "  <tbody>\n",
              "    <tr>\n",
              "      <th>count</th>\n",
              "      <td>10.000000</td>\n",
              "    </tr>\n",
              "    <tr>\n",
              "      <th>mean</th>\n",
              "      <td>24.000000</td>\n",
              "    </tr>\n",
              "    <tr>\n",
              "      <th>std</th>\n",
              "      <td>15.804359</td>\n",
              "    </tr>\n",
              "    <tr>\n",
              "      <th>min</th>\n",
              "      <td>9.000000</td>\n",
              "    </tr>\n",
              "    <tr>\n",
              "      <th>25%</th>\n",
              "      <td>10.250000</td>\n",
              "    </tr>\n",
              "    <tr>\n",
              "      <th>50%</th>\n",
              "      <td>19.000000</td>\n",
              "    </tr>\n",
              "    <tr>\n",
              "      <th>75%</th>\n",
              "      <td>35.750000</td>\n",
              "    </tr>\n",
              "    <tr>\n",
              "      <th>max</th>\n",
              "      <td>49.000000</td>\n",
              "    </tr>\n",
              "  </tbody>\n",
              "</table>\n",
              "</div>"
            ],
            "text/plain": [
              "       Venda Diaria\n",
              "count     10.000000\n",
              "mean      24.000000\n",
              "std       15.804359\n",
              "min        9.000000\n",
              "25%       10.250000\n",
              "50%       19.000000\n",
              "75%       35.750000\n",
              "max       49.000000"
            ]
          },
          "metadata": {},
          "execution_count": 13
        }
      ]
    },
    {
      "cell_type": "code",
      "metadata": {
        "colab": {
          "base_uri": "https://localhost:8080/"
        },
        "id": "w7H7LzGOpthn",
        "outputId": "08a60684-54d2-4b4b-85d8-c0b38658e716"
      },
      "source": [
        "dataset.var()"
      ],
      "execution_count": 14,
      "outputs": [
        {
          "output_type": "execute_result",
          "data": {
            "text/plain": [
              "Venda Diaria    249.777778\n",
              "dtype: float64"
            ]
          },
          "metadata": {},
          "execution_count": 14
        }
      ]
    },
    {
      "cell_type": "code",
      "metadata": {
        "colab": {
          "base_uri": "https://localhost:8080/",
          "height": 81
        },
        "id": "UfpyJW8Pp0_x",
        "outputId": "31071877-6cd7-4233-da11-0f0e38a9f371"
      },
      "source": [
        "dataset.mode()"
      ],
      "execution_count": 15,
      "outputs": [
        {
          "output_type": "execute_result",
          "data": {
            "text/html": [
              "<div>\n",
              "<style scoped>\n",
              "    .dataframe tbody tr th:only-of-type {\n",
              "        vertical-align: middle;\n",
              "    }\n",
              "\n",
              "    .dataframe tbody tr th {\n",
              "        vertical-align: top;\n",
              "    }\n",
              "\n",
              "    .dataframe thead th {\n",
              "        text-align: right;\n",
              "    }\n",
              "</style>\n",
              "<table border=\"1\" class=\"dataframe\">\n",
              "  <thead>\n",
              "    <tr style=\"text-align: right;\">\n",
              "      <th></th>\n",
              "      <th>Venda Diaria</th>\n",
              "    </tr>\n",
              "  </thead>\n",
              "  <tbody>\n",
              "    <tr>\n",
              "      <th>0</th>\n",
              "      <td>9</td>\n",
              "    </tr>\n",
              "  </tbody>\n",
              "</table>\n",
              "</div>"
            ],
            "text/plain": [
              "   Venda Diaria\n",
              "0             9"
            ]
          },
          "metadata": {},
          "execution_count": 15
        }
      ]
    },
    {
      "cell_type": "code",
      "metadata": {
        "colab": {
          "base_uri": "https://localhost:8080/"
        },
        "id": "NeyIZzJkqtsG",
        "outputId": "71c3388d-1180-4d5c-9b62-4c1cb06414fe"
      },
      "source": [
        "dataset.max()"
      ],
      "execution_count": 16,
      "outputs": [
        {
          "output_type": "execute_result",
          "data": {
            "text/plain": [
              "Venda Diaria    49\n",
              "dtype: int64"
            ]
          },
          "metadata": {},
          "execution_count": 16
        }
      ]
    },
    {
      "cell_type": "code",
      "metadata": {
        "colab": {
          "base_uri": "https://localhost:8080/"
        },
        "id": "5pd4Tg-Nqwag",
        "outputId": "abd712c0-2966-434e-a179-4fb10fb3c193"
      },
      "source": [
        "dataset.min()"
      ],
      "execution_count": 17,
      "outputs": [
        {
          "output_type": "execute_result",
          "data": {
            "text/plain": [
              "Venda Diaria    9\n",
              "dtype: int64"
            ]
          },
          "metadata": {},
          "execution_count": 17
        }
      ]
    },
    {
      "cell_type": "code",
      "metadata": {
        "colab": {
          "base_uri": "https://localhost:8080/"
        },
        "id": "cfiDK_LUsL72",
        "outputId": "27adb6b4-265f-4346-9386-5d921d2a74ef"
      },
      "source": [
        "dataset.loc[dataset['Venda Diaria'].idxmax()]\n",
        "#ou\n",
        "#dataset[dataset['Venda Diaria']==dataset['Venda Diaria'].max()]"
      ],
      "execution_count": 18,
      "outputs": [
        {
          "output_type": "execute_result",
          "data": {
            "text/plain": [
              "Venda Diaria    49\n",
              "Name: 2020-12-08 00:00:00, dtype: int64"
            ]
          },
          "metadata": {},
          "execution_count": 18
        }
      ]
    },
    {
      "cell_type": "code",
      "metadata": {
        "colab": {
          "base_uri": "https://localhost:8080/"
        },
        "id": "wwbWdoBhxlbt",
        "outputId": "9586e057-4863-4fb4-d01a-c15e7731a21f"
      },
      "source": [
        "dataset.loc[dataset['Venda Diaria'].idxmin()]\n",
        "#ou\n",
        "#dataset[dataset['Venda Diaria']==dataset['Venda Diaria'].min()]"
      ],
      "execution_count": 19,
      "outputs": [
        {
          "output_type": "execute_result",
          "data": {
            "text/plain": [
              "Venda Diaria    9\n",
              "Name: 2020-12-04 00:00:00, dtype: int64"
            ]
          },
          "metadata": {},
          "execution_count": 19
        }
      ]
    },
    {
      "cell_type": "markdown",
      "metadata": {
        "id": "WGX_70diSoOv"
      },
      "source": [
        "Resposta do curso\n",
        "\n",
        "print('Estatísticas descritivas das vendas diárias'.center(100, ' '))\n",
        "\n",
        "print(f'\\tMédia das vendas diárias: {df.mean()[0]}')\n",
        "\n",
        "print(f'\\tDesvio padrão das vendas: {df.std()[0].round(2)}')\n",
        "\n",
        "print(f'\\tVariância das vendas: {df.var()[0].round(2)}')\n",
        "\n",
        "print(f'\\tValor modal: {df.mode().iloc[0][0]}')\n",
        "\n",
        "print(f'\\tQuantidade vendida no período: {df.sum()[0]}')\n",
        "\n",
        "print(f'\\tValor máximo: {df.max()[0]}')\n",
        "\n",
        "print(f\"\\t\\tDia: {data_valor_max.strftime('%d/%m/%Y')}\")\n",
        "\n",
        "print(f'\\tValor mínimo: {df.min()[0]}')\n",
        "\n",
        "print(f\"\\t\\tDia: {data_valor_min.strftime('%d/%m/%Y')}\")\n"
      ]
    },
    {
      "cell_type": "markdown",
      "metadata": {
        "id": "Ul_2RRrvT2vL"
      },
      "source": [
        "# Exercício 4"
      ]
    },
    {
      "cell_type": "markdown",
      "metadata": {
        "id": "QTJ9JdDb3knx"
      },
      "source": [
        "O objetivo deste exercício é identificar o perfil de cada consumidor de esteira da empresa CardioGoodFitness.\n",
        "\n",
        "Significado das colunas:\n",
        "\n",
        "Product: produtos adquiridos;\n",
        "Age: idade dos clientes, em anos;\n",
        "Gender: gênero;\n",
        "Education: educação em anos;\n",
        "MaritalStatus: status civil;\n",
        "Usage: número médio de vezes que o cliente planeja usar a esteira por semana;\n",
        "Fitness: índice de autoavaliação fitness, em uma escala de 1 a 5, sendo 1 denotando má forma e 5 excelente forma;\n",
        "Income: renda familiar anual;\n",
        "Miles: número médio de milhas que cada cliente espera andar/correr por semana.\n",
        "\n",
        "Com base nestas informações:\n",
        "\n",
        "Leia o dataset e armazene em uma variável;\n",
        "\n",
        "Mostre as 3 primeiras linhas do dataset;\n",
        "\n",
        "Mostre as duas últimas linhas do dataset;\n",
        "\n",
        "Mostre o shape do dataset;\n",
        "\n",
        "Obtenha informações das colunas com o método info();\n",
        "\n",
        "Mostre estatísticas descritivas das colunas numéricas;\n",
        "\n",
        "Mostre o tipo de dado de cada coluna;\n",
        "\n",
        "Converta o dtype da coluna Income para float."
      ]
    },
    {
      "cell_type": "code",
      "metadata": {
        "id": "NUo7RyQ83oUZ",
        "colab": {
          "base_uri": "https://localhost:8080/"
        },
        "outputId": "6d7ceaa8-5614-45bc-f810-bf9c7a1437bf"
      },
      "source": [
        "%cd ..\n",
        "from google.colab import drive\n",
        "drive.mount('/content/gdrive')"
      ],
      "execution_count": 20,
      "outputs": [
        {
          "output_type": "stream",
          "name": "stdout",
          "text": [
            "/\n",
            "Mounted at /content/gdrive\n"
          ]
        }
      ]
    },
    {
      "cell_type": "code",
      "metadata": {
        "colab": {
          "base_uri": "https://localhost:8080/"
        },
        "id": "BoymUjXgFyWP",
        "outputId": "2548d413-efa1-4108-9a14-fcb0708e9218"
      },
      "source": [
        "!ln -s /content/gdrive/My\\ Drive/ /mydrive\n",
        "!ls /mydrive"
      ],
      "execution_count": 21,
      "outputs": [
        {
          "output_type": "stream",
          "name": "stdout",
          "text": [
            "'Bakcup de fotos'\t\t\t\t       kaggle_titanic\n",
            "'Colab Notebooks'\t\t\t\t      'Material estudo'\n",
            "'Conteúdo profissional'\t\t\t\t      'Minhas fotos'\n",
            "'Copy of Aula de Machine Learning_Kmeans_IGTI.ipynb'  'My Drive'\n",
            " Currículo.gdoc\t\t\t\t\t      'Rascunho Curriculo.gdoc'\n",
            "'Ds160 wesley.pdf'\n"
          ]
        }
      ]
    },
    {
      "cell_type": "code",
      "metadata": {
        "colab": {
          "base_uri": "https://localhost:8080/"
        },
        "id": "8-3LWJ11F37O",
        "outputId": "98633c15-7ae8-4b4a-d56b-a7955a4e2cf7"
      },
      "source": [
        "!ls /mydrive/kaggle_titanic/dataset/"
      ],
      "execution_count": 22,
      "outputs": [
        {
          "output_type": "stream",
          "name": "stdout",
          "text": [
            "CardioGoodFitness.csv  gender_submission.csv  test.csv\ttrain.csv\n"
          ]
        }
      ]
    },
    {
      "cell_type": "code",
      "metadata": {
        "id": "4EPJ8V8lHCC5"
      },
      "source": [
        "dt = pd.read_csv(\"/mydrive/kaggle_titanic/dataset/CardioGoodFitness.csv\")"
      ],
      "execution_count": 26,
      "outputs": []
    },
    {
      "cell_type": "code",
      "metadata": {
        "colab": {
          "base_uri": "https://localhost:8080/",
          "height": 143
        },
        "id": "n6FdiCdRHQ60",
        "outputId": "d5e0e873-6f1b-4f30-9ecd-eb08710361fc"
      },
      "source": [
        "dt.head(3)"
      ],
      "execution_count": 37,
      "outputs": [
        {
          "output_type": "execute_result",
          "data": {
            "text/html": [
              "<div>\n",
              "<style scoped>\n",
              "    .dataframe tbody tr th:only-of-type {\n",
              "        vertical-align: middle;\n",
              "    }\n",
              "\n",
              "    .dataframe tbody tr th {\n",
              "        vertical-align: top;\n",
              "    }\n",
              "\n",
              "    .dataframe thead th {\n",
              "        text-align: right;\n",
              "    }\n",
              "</style>\n",
              "<table border=\"1\" class=\"dataframe\">\n",
              "  <thead>\n",
              "    <tr style=\"text-align: right;\">\n",
              "      <th></th>\n",
              "      <th>Product</th>\n",
              "      <th>Age</th>\n",
              "      <th>Gender</th>\n",
              "      <th>Education</th>\n",
              "      <th>MaritalStatus</th>\n",
              "      <th>Usage</th>\n",
              "      <th>Fitness</th>\n",
              "      <th>Income</th>\n",
              "      <th>Miles</th>\n",
              "    </tr>\n",
              "  </thead>\n",
              "  <tbody>\n",
              "    <tr>\n",
              "      <th>0</th>\n",
              "      <td>TM195</td>\n",
              "      <td>18</td>\n",
              "      <td>Male</td>\n",
              "      <td>14</td>\n",
              "      <td>Single</td>\n",
              "      <td>3</td>\n",
              "      <td>4</td>\n",
              "      <td>29562</td>\n",
              "      <td>112</td>\n",
              "    </tr>\n",
              "    <tr>\n",
              "      <th>1</th>\n",
              "      <td>TM195</td>\n",
              "      <td>19</td>\n",
              "      <td>Male</td>\n",
              "      <td>15</td>\n",
              "      <td>Single</td>\n",
              "      <td>2</td>\n",
              "      <td>3</td>\n",
              "      <td>31836</td>\n",
              "      <td>75</td>\n",
              "    </tr>\n",
              "    <tr>\n",
              "      <th>2</th>\n",
              "      <td>TM195</td>\n",
              "      <td>19</td>\n",
              "      <td>Female</td>\n",
              "      <td>14</td>\n",
              "      <td>Partnered</td>\n",
              "      <td>4</td>\n",
              "      <td>3</td>\n",
              "      <td>30699</td>\n",
              "      <td>66</td>\n",
              "    </tr>\n",
              "  </tbody>\n",
              "</table>\n",
              "</div>"
            ],
            "text/plain": [
              "  Product  Age  Gender  Education MaritalStatus  Usage  Fitness  Income  Miles\n",
              "0   TM195   18    Male         14        Single      3        4   29562    112\n",
              "1   TM195   19    Male         15        Single      2        3   31836     75\n",
              "2   TM195   19  Female         14     Partnered      4        3   30699     66"
            ]
          },
          "metadata": {},
          "execution_count": 37
        }
      ]
    },
    {
      "cell_type": "code",
      "metadata": {
        "colab": {
          "base_uri": "https://localhost:8080/",
          "height": 112
        },
        "id": "IIIH1vaGHarA",
        "outputId": "d0c4ebc5-5180-49cf-dfce-293eff08ac0d"
      },
      "source": [
        "dt.tail(2)"
      ],
      "execution_count": 38,
      "outputs": [
        {
          "output_type": "execute_result",
          "data": {
            "text/html": [
              "<div>\n",
              "<style scoped>\n",
              "    .dataframe tbody tr th:only-of-type {\n",
              "        vertical-align: middle;\n",
              "    }\n",
              "\n",
              "    .dataframe tbody tr th {\n",
              "        vertical-align: top;\n",
              "    }\n",
              "\n",
              "    .dataframe thead th {\n",
              "        text-align: right;\n",
              "    }\n",
              "</style>\n",
              "<table border=\"1\" class=\"dataframe\">\n",
              "  <thead>\n",
              "    <tr style=\"text-align: right;\">\n",
              "      <th></th>\n",
              "      <th>Product</th>\n",
              "      <th>Age</th>\n",
              "      <th>Gender</th>\n",
              "      <th>Education</th>\n",
              "      <th>MaritalStatus</th>\n",
              "      <th>Usage</th>\n",
              "      <th>Fitness</th>\n",
              "      <th>Income</th>\n",
              "      <th>Miles</th>\n",
              "    </tr>\n",
              "  </thead>\n",
              "  <tbody>\n",
              "    <tr>\n",
              "      <th>178</th>\n",
              "      <td>TM798</td>\n",
              "      <td>47</td>\n",
              "      <td>Male</td>\n",
              "      <td>18</td>\n",
              "      <td>Partnered</td>\n",
              "      <td>4</td>\n",
              "      <td>5</td>\n",
              "      <td>104581</td>\n",
              "      <td>120</td>\n",
              "    </tr>\n",
              "    <tr>\n",
              "      <th>179</th>\n",
              "      <td>TM798</td>\n",
              "      <td>48</td>\n",
              "      <td>Male</td>\n",
              "      <td>18</td>\n",
              "      <td>Partnered</td>\n",
              "      <td>4</td>\n",
              "      <td>5</td>\n",
              "      <td>95508</td>\n",
              "      <td>180</td>\n",
              "    </tr>\n",
              "  </tbody>\n",
              "</table>\n",
              "</div>"
            ],
            "text/plain": [
              "    Product  Age Gender  Education MaritalStatus  Usage  Fitness  Income  Miles\n",
              "178   TM798   47   Male         18     Partnered      4        5  104581    120\n",
              "179   TM798   48   Male         18     Partnered      4        5   95508    180"
            ]
          },
          "metadata": {},
          "execution_count": 38
        }
      ]
    },
    {
      "cell_type": "code",
      "metadata": {
        "colab": {
          "base_uri": "https://localhost:8080/"
        },
        "id": "ZPWmXjZ7KFBP",
        "outputId": "89f5d075-3b25-4cdc-cda3-d1cae19357f0"
      },
      "source": [
        "dt.shape"
      ],
      "execution_count": 40,
      "outputs": [
        {
          "output_type": "execute_result",
          "data": {
            "text/plain": [
              "(180, 9)"
            ]
          },
          "metadata": {},
          "execution_count": 40
        }
      ]
    },
    {
      "cell_type": "code",
      "metadata": {
        "colab": {
          "base_uri": "https://localhost:8080/"
        },
        "id": "Y88f4y-KKK-z",
        "outputId": "a439856f-9778-4337-bbae-f0ffd461fe09"
      },
      "source": [
        "dt.info()"
      ],
      "execution_count": 41,
      "outputs": [
        {
          "output_type": "stream",
          "name": "stdout",
          "text": [
            "<class 'pandas.core.frame.DataFrame'>\n",
            "RangeIndex: 180 entries, 0 to 179\n",
            "Data columns (total 9 columns):\n",
            " #   Column         Non-Null Count  Dtype \n",
            "---  ------         --------------  ----- \n",
            " 0   Product        180 non-null    object\n",
            " 1   Age            180 non-null    int64 \n",
            " 2   Gender         180 non-null    object\n",
            " 3   Education      180 non-null    int64 \n",
            " 4   MaritalStatus  180 non-null    object\n",
            " 5   Usage          180 non-null    int64 \n",
            " 6   Fitness        180 non-null    int64 \n",
            " 7   Income         180 non-null    int64 \n",
            " 8   Miles          180 non-null    int64 \n",
            "dtypes: int64(6), object(3)\n",
            "memory usage: 12.8+ KB\n"
          ]
        }
      ]
    },
    {
      "cell_type": "code",
      "metadata": {
        "colab": {
          "base_uri": "https://localhost:8080/",
          "height": 300
        },
        "id": "EOr51MBKKQ8w",
        "outputId": "f0cacb74-d920-45d1-b604-a7f506b591ae"
      },
      "source": [
        "dt.describe().round(2)"
      ],
      "execution_count": 83,
      "outputs": [
        {
          "output_type": "execute_result",
          "data": {
            "text/html": [
              "<div>\n",
              "<style scoped>\n",
              "    .dataframe tbody tr th:only-of-type {\n",
              "        vertical-align: middle;\n",
              "    }\n",
              "\n",
              "    .dataframe tbody tr th {\n",
              "        vertical-align: top;\n",
              "    }\n",
              "\n",
              "    .dataframe thead th {\n",
              "        text-align: right;\n",
              "    }\n",
              "</style>\n",
              "<table border=\"1\" class=\"dataframe\">\n",
              "  <thead>\n",
              "    <tr style=\"text-align: right;\">\n",
              "      <th></th>\n",
              "      <th>Age</th>\n",
              "      <th>Education</th>\n",
              "      <th>Usage</th>\n",
              "      <th>Fitness</th>\n",
              "      <th>Income</th>\n",
              "      <th>Miles</th>\n",
              "    </tr>\n",
              "  </thead>\n",
              "  <tbody>\n",
              "    <tr>\n",
              "      <th>count</th>\n",
              "      <td>180.00</td>\n",
              "      <td>180.00</td>\n",
              "      <td>180.00</td>\n",
              "      <td>180.00</td>\n",
              "      <td>180.00</td>\n",
              "      <td>180.00</td>\n",
              "    </tr>\n",
              "    <tr>\n",
              "      <th>mean</th>\n",
              "      <td>28.79</td>\n",
              "      <td>15.57</td>\n",
              "      <td>3.46</td>\n",
              "      <td>3.31</td>\n",
              "      <td>53719.58</td>\n",
              "      <td>103.19</td>\n",
              "    </tr>\n",
              "    <tr>\n",
              "      <th>std</th>\n",
              "      <td>6.94</td>\n",
              "      <td>1.62</td>\n",
              "      <td>1.08</td>\n",
              "      <td>0.96</td>\n",
              "      <td>16506.68</td>\n",
              "      <td>51.86</td>\n",
              "    </tr>\n",
              "    <tr>\n",
              "      <th>min</th>\n",
              "      <td>18.00</td>\n",
              "      <td>12.00</td>\n",
              "      <td>2.00</td>\n",
              "      <td>1.00</td>\n",
              "      <td>29562.00</td>\n",
              "      <td>21.00</td>\n",
              "    </tr>\n",
              "    <tr>\n",
              "      <th>25%</th>\n",
              "      <td>24.00</td>\n",
              "      <td>14.00</td>\n",
              "      <td>3.00</td>\n",
              "      <td>3.00</td>\n",
              "      <td>44058.75</td>\n",
              "      <td>66.00</td>\n",
              "    </tr>\n",
              "    <tr>\n",
              "      <th>50%</th>\n",
              "      <td>26.00</td>\n",
              "      <td>16.00</td>\n",
              "      <td>3.00</td>\n",
              "      <td>3.00</td>\n",
              "      <td>50596.50</td>\n",
              "      <td>94.00</td>\n",
              "    </tr>\n",
              "    <tr>\n",
              "      <th>75%</th>\n",
              "      <td>33.00</td>\n",
              "      <td>16.00</td>\n",
              "      <td>4.00</td>\n",
              "      <td>4.00</td>\n",
              "      <td>58668.00</td>\n",
              "      <td>114.75</td>\n",
              "    </tr>\n",
              "    <tr>\n",
              "      <th>max</th>\n",
              "      <td>50.00</td>\n",
              "      <td>21.00</td>\n",
              "      <td>7.00</td>\n",
              "      <td>5.00</td>\n",
              "      <td>104581.00</td>\n",
              "      <td>360.00</td>\n",
              "    </tr>\n",
              "  </tbody>\n",
              "</table>\n",
              "</div>"
            ],
            "text/plain": [
              "          Age  Education   Usage  Fitness     Income   Miles\n",
              "count  180.00     180.00  180.00   180.00     180.00  180.00\n",
              "mean    28.79      15.57    3.46     3.31   53719.58  103.19\n",
              "std      6.94       1.62    1.08     0.96   16506.68   51.86\n",
              "min     18.00      12.00    2.00     1.00   29562.00   21.00\n",
              "25%     24.00      14.00    3.00     3.00   44058.75   66.00\n",
              "50%     26.00      16.00    3.00     3.00   50596.50   94.00\n",
              "75%     33.00      16.00    4.00     4.00   58668.00  114.75\n",
              "max     50.00      21.00    7.00     5.00  104581.00  360.00"
            ]
          },
          "metadata": {},
          "execution_count": 83
        }
      ]
    },
    {
      "cell_type": "code",
      "metadata": {
        "id": "er_xE0lDPvY0"
      },
      "source": [
        "dt['Income'] = pd.to_numeric(dt['Income'], downcast='float')\n",
        "#ou\n",
        "#dt['Income'] = dt['Income'].astype(float)\n",
        "df = df.astype(int)"
      ],
      "execution_count": 79,
      "outputs": []
    },
    {
      "cell_type": "code",
      "metadata": {
        "colab": {
          "base_uri": "https://localhost:8080/"
        },
        "id": "OORLM3oVP--3",
        "outputId": "840486c2-8153-4fa7-d04a-8568932de33d"
      },
      "source": [
        "dt.dtypes"
      ],
      "execution_count": 80,
      "outputs": [
        {
          "output_type": "execute_result",
          "data": {
            "text/plain": [
              "Product           object\n",
              "Age                int64\n",
              "Gender            object\n",
              "Education          int64\n",
              "MaritalStatus     object\n",
              "Usage              int64\n",
              "Fitness            int64\n",
              "Income           float32\n",
              "Miles              int64\n",
              "dtype: object"
            ]
          },
          "metadata": {},
          "execution_count": 80
        }
      ]
    },
    {
      "cell_type": "markdown",
      "metadata": {
        "id": "P2Dx6_rlUHaC"
      },
      "source": [
        "# Exercício 5"
      ]
    },
    {
      "cell_type": "markdown",
      "metadata": {
        "id": "LCukA3myQ558"
      },
      "source": [
        "Verifique se há missing data no dataset do exercício anterior."
      ]
    },
    {
      "cell_type": "code",
      "metadata": {
        "id": "T3f2pIVZTYm-"
      },
      "source": [
        "dt.notna().sum()\n",
        "#valores não nulos"
      ],
      "execution_count": null,
      "outputs": []
    },
    {
      "cell_type": "code",
      "metadata": {
        "id": "aqaw_IxvVVVE"
      },
      "source": [
        "dt.notnull().sum()\n",
        "#valores não nulos"
      ],
      "execution_count": null,
      "outputs": []
    },
    {
      "cell_type": "code",
      "metadata": {
        "id": "89qCy498X9n1"
      },
      "source": [
        "dt.isna().sum()\n",
        "#valores nulos"
      ],
      "execution_count": null,
      "outputs": []
    },
    {
      "cell_type": "markdown",
      "metadata": {
        "id": "R4x0dT4EYUuw"
      },
      "source": [
        "# Exercício 6\n"
      ]
    },
    {
      "cell_type": "markdown",
      "metadata": {
        "id": "fxak8926YUBk"
      },
      "source": [
        "Exercício 6\n",
        "\n",
        "Ainda com base no dataset do exercício 4 responda:\n",
        "Estatísticas descritivas\n",
        "\n",
        "Qual a distribuição ordenada idade dos clientes (use a função value_counts())?\n",
        "\n",
        "Qual a média e o desvio padrão da idade por gênero?\n",
        "\n",
        "Qual a proporção de homens e mulheres?\n",
        "\n",
        "Qual a distribuição do estado civil entre homens e mulheres?\n",
        "\n",
        "Qual o nível de educação por gênero?"
      ]
    },
    {
      "cell_type": "code",
      "metadata": {
        "id": "NPMFry6DYfB3"
      },
      "source": [
        ""
      ],
      "execution_count": null,
      "outputs": []
    }
  ]
}