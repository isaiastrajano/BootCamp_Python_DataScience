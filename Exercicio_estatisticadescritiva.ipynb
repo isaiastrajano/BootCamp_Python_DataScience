{
  "nbformat": 4,
  "nbformat_minor": 0,
  "metadata": {
    "colab": {
      "name": "Exercicio_estatisticadescritiva.ipynb",
      "provenance": [],
      "collapsed_sections": [],
      "authorship_tag": "ABX9TyM0zpyeV9cwpnEjJvGG+qdo",
      "include_colab_link": true
    },
    "kernelspec": {
      "name": "python3",
      "display_name": "Python 3"
    },
    "language_info": {
      "name": "python"
    }
  },
  "cells": [
    {
      "cell_type": "markdown",
      "metadata": {
        "id": "view-in-github",
        "colab_type": "text"
      },
      "source": [
        "<a href=\"https://colab.research.google.com/github/isaiastrajano/BootCamp_Python_DataScience/blob/main/Exercicio_estatisticadescritiva.ipynb\" target=\"_parent\"><img src=\"https://colab.research.google.com/assets/colab-badge.svg\" alt=\"Open In Colab\"/></a>"
      ]
    },
    {
      "cell_type": "markdown",
      "metadata": {
        "id": "C8gn-7OcVhyW"
      },
      "source": [
        "Exercícios de estatística descritiva"
      ]
    },
    {
      "cell_type": "code",
      "metadata": {
        "id": "men68Xx-VVD9"
      },
      "source": [
        "import pandas as pd\n",
        "import numpy as np\n",
        "import matplotlib.pyplot as plt"
      ],
      "execution_count": 8,
      "outputs": []
    },
    {
      "cell_type": "markdown",
      "metadata": {
        "id": "924Y9aLrVhRM"
      },
      "source": [
        "Exercício 1\n",
        "\n",
        "Os dados abaixo referem-se a quantidade produzida de lavouras permanentes no Brasil, entre 2017 e 2019. Construa o DataFrame abaixo e seguidamente faça:\n",
        "\n",
        "a) obtenha a quantidade total produzida pelas lavouras em cada ano;\n",
        "\n",
        "b) obtenha a quantidade total produzida por cada lavoura ao longo do tempo;\n",
        "\n",
        "c) mostre um resumo das estatísticas descritivas;\n",
        "\n",
        "d) converta o banco de dados para csv."
      ]
    },
    {
      "cell_type": "code",
      "metadata": {
        "id": "Jd0TzIQ7GgUS"
      },
      "source": [
        "dados = { 'Abacate':{ 2017: 212873, 2018: 236177, 2019: 242932 }, 'Açaí':{ 2017:1335040, 2018:1301472, 2019:1398328 }, 'Banana':{ 2017:6584967, 2018:6723590, 2019:6812708 }, 'Cacau':{ 2017:235809, 2018:239318, 2019:259425 }, 'Laranja':{ 2017:17492882, 2018:16841549, 2019:17073593 }, 'Maçã':{ 2017:1307642, 2018:1203007, 2019:1222970 }, 'Mamão':{ 2017:1058487, 2018:1065421, 2019:1161808 }, 'Manga':{ 2017:1089882, 2018:1320458, 2019:1414338 }, }"
      ],
      "execution_count": 9,
      "outputs": []
    },
    {
      "cell_type": "code",
      "metadata": {
        "colab": {
          "base_uri": "https://localhost:8080/"
        },
        "id": "zkxfIwFqVfoZ",
        "outputId": "9c630bab-30d0-4bb7-956c-9cc1e4760996"
      },
      "source": [
        "dados"
      ],
      "execution_count": 10,
      "outputs": [
        {
          "output_type": "execute_result",
          "data": {
            "text/plain": [
              "{'Abacate': {2017: 212873, 2018: 236177, 2019: 242932},\n",
              " 'Açaí': {2017: 1335040, 2018: 1301472, 2019: 1398328},\n",
              " 'Banana': {2017: 6584967, 2018: 6723590, 2019: 6812708},\n",
              " 'Cacau': {2017: 235809, 2018: 239318, 2019: 259425},\n",
              " 'Laranja': {2017: 17492882, 2018: 16841549, 2019: 17073593},\n",
              " 'Mamão': {2017: 1058487, 2018: 1065421, 2019: 1161808},\n",
              " 'Manga': {2017: 1089882, 2018: 1320458, 2019: 1414338},\n",
              " 'Maçã': {2017: 1307642, 2018: 1203007, 2019: 1222970}}"
            ]
          },
          "metadata": {},
          "execution_count": 10
        }
      ]
    },
    {
      "cell_type": "code",
      "metadata": {
        "id": "QEmegXAogMfe",
        "colab": {
          "base_uri": "https://localhost:8080/",
          "height": 143
        },
        "outputId": "104034c3-f0da-4007-9604-48c336cf00d3"
      },
      "source": [
        "data = pd.DataFrame(dados)"
      ],
      "execution_count": 23,
      "outputs": [
        {
          "output_type": "execute_result",
          "data": {
            "text/html": [
              "<div>\n",
              "<style scoped>\n",
              "    .dataframe tbody tr th:only-of-type {\n",
              "        vertical-align: middle;\n",
              "    }\n",
              "\n",
              "    .dataframe tbody tr th {\n",
              "        vertical-align: top;\n",
              "    }\n",
              "\n",
              "    .dataframe thead th {\n",
              "        text-align: right;\n",
              "    }\n",
              "</style>\n",
              "<table border=\"1\" class=\"dataframe\">\n",
              "  <thead>\n",
              "    <tr style=\"text-align: right;\">\n",
              "      <th></th>\n",
              "      <th>Abacate</th>\n",
              "      <th>Açaí</th>\n",
              "      <th>Banana</th>\n",
              "      <th>Cacau</th>\n",
              "      <th>Laranja</th>\n",
              "      <th>Maçã</th>\n",
              "      <th>Mamão</th>\n",
              "      <th>Manga</th>\n",
              "    </tr>\n",
              "  </thead>\n",
              "  <tbody>\n",
              "    <tr>\n",
              "      <th>2017</th>\n",
              "      <td>212873</td>\n",
              "      <td>1335040</td>\n",
              "      <td>6584967</td>\n",
              "      <td>235809</td>\n",
              "      <td>17492882</td>\n",
              "      <td>1307642</td>\n",
              "      <td>1058487</td>\n",
              "      <td>1089882</td>\n",
              "    </tr>\n",
              "    <tr>\n",
              "      <th>2018</th>\n",
              "      <td>236177</td>\n",
              "      <td>1301472</td>\n",
              "      <td>6723590</td>\n",
              "      <td>239318</td>\n",
              "      <td>16841549</td>\n",
              "      <td>1203007</td>\n",
              "      <td>1065421</td>\n",
              "      <td>1320458</td>\n",
              "    </tr>\n",
              "    <tr>\n",
              "      <th>2019</th>\n",
              "      <td>242932</td>\n",
              "      <td>1398328</td>\n",
              "      <td>6812708</td>\n",
              "      <td>259425</td>\n",
              "      <td>17073593</td>\n",
              "      <td>1222970</td>\n",
              "      <td>1161808</td>\n",
              "      <td>1414338</td>\n",
              "    </tr>\n",
              "  </tbody>\n",
              "</table>\n",
              "</div>"
            ],
            "text/plain": [
              "      Abacate     Açaí   Banana   Cacau   Laranja     Maçã    Mamão    Manga\n",
              "2017   212873  1335040  6584967  235809  17492882  1307642  1058487  1089882\n",
              "2018   236177  1301472  6723590  239318  16841549  1203007  1065421  1320458\n",
              "2019   242932  1398328  6812708  259425  17073593  1222970  1161808  1414338"
            ]
          },
          "metadata": {},
          "execution_count": 23
        }
      ]
    },
    {
      "cell_type": "code",
      "metadata": {
        "colab": {
          "base_uri": "https://localhost:8080/",
          "height": 143
        },
        "id": "__puirqlg4Uc",
        "outputId": "128c7d6f-ad0b-4c6e-c543-c55f029671b7"
      },
      "source": [
        "#a\n",
        "data['total'] = data.sum(axis=1)\n",
        "#somando os valores do eixo x\n",
        "data"
      ],
      "execution_count": 12,
      "outputs": [
        {
          "output_type": "execute_result",
          "data": {
            "text/html": [
              "<div>\n",
              "<style scoped>\n",
              "    .dataframe tbody tr th:only-of-type {\n",
              "        vertical-align: middle;\n",
              "    }\n",
              "\n",
              "    .dataframe tbody tr th {\n",
              "        vertical-align: top;\n",
              "    }\n",
              "\n",
              "    .dataframe thead th {\n",
              "        text-align: right;\n",
              "    }\n",
              "</style>\n",
              "<table border=\"1\" class=\"dataframe\">\n",
              "  <thead>\n",
              "    <tr style=\"text-align: right;\">\n",
              "      <th></th>\n",
              "      <th>Abacate</th>\n",
              "      <th>Açaí</th>\n",
              "      <th>Banana</th>\n",
              "      <th>Cacau</th>\n",
              "      <th>Laranja</th>\n",
              "      <th>Maçã</th>\n",
              "      <th>Mamão</th>\n",
              "      <th>Manga</th>\n",
              "      <th>total</th>\n",
              "    </tr>\n",
              "  </thead>\n",
              "  <tbody>\n",
              "    <tr>\n",
              "      <th>2017</th>\n",
              "      <td>212873</td>\n",
              "      <td>1335040</td>\n",
              "      <td>6584967</td>\n",
              "      <td>235809</td>\n",
              "      <td>17492882</td>\n",
              "      <td>1307642</td>\n",
              "      <td>1058487</td>\n",
              "      <td>1089882</td>\n",
              "      <td>29317582</td>\n",
              "    </tr>\n",
              "    <tr>\n",
              "      <th>2018</th>\n",
              "      <td>236177</td>\n",
              "      <td>1301472</td>\n",
              "      <td>6723590</td>\n",
              "      <td>239318</td>\n",
              "      <td>16841549</td>\n",
              "      <td>1203007</td>\n",
              "      <td>1065421</td>\n",
              "      <td>1320458</td>\n",
              "      <td>28930992</td>\n",
              "    </tr>\n",
              "    <tr>\n",
              "      <th>2019</th>\n",
              "      <td>242932</td>\n",
              "      <td>1398328</td>\n",
              "      <td>6812708</td>\n",
              "      <td>259425</td>\n",
              "      <td>17073593</td>\n",
              "      <td>1222970</td>\n",
              "      <td>1161808</td>\n",
              "      <td>1414338</td>\n",
              "      <td>29586102</td>\n",
              "    </tr>\n",
              "  </tbody>\n",
              "</table>\n",
              "</div>"
            ],
            "text/plain": [
              "      Abacate     Açaí   Banana   Cacau  ...     Maçã    Mamão    Manga     total\n",
              "2017   212873  1335040  6584967  235809  ...  1307642  1058487  1089882  29317582\n",
              "2018   236177  1301472  6723590  239318  ...  1203007  1065421  1320458  28930992\n",
              "2019   242932  1398328  6812708  259425  ...  1222970  1161808  1414338  29586102\n",
              "\n",
              "[3 rows x 9 columns]"
            ]
          },
          "metadata": {},
          "execution_count": 12
        }
      ]
    },
    {
      "cell_type": "code",
      "metadata": {
        "id": "nidR1drR55Yo",
        "colab": {
          "base_uri": "https://localhost:8080/",
          "height": 300
        },
        "outputId": "9cccacb9-e43c-4e51-e403-867e9d43f47f"
      },
      "source": [
        "#b\n",
        "datat = data.T\n",
        "datat['total'] = datat.sum(axis=1)\n",
        "datat"
      ],
      "execution_count": 26,
      "outputs": [
        {
          "output_type": "execute_result",
          "data": {
            "text/html": [
              "<div>\n",
              "<style scoped>\n",
              "    .dataframe tbody tr th:only-of-type {\n",
              "        vertical-align: middle;\n",
              "    }\n",
              "\n",
              "    .dataframe tbody tr th {\n",
              "        vertical-align: top;\n",
              "    }\n",
              "\n",
              "    .dataframe thead th {\n",
              "        text-align: right;\n",
              "    }\n",
              "</style>\n",
              "<table border=\"1\" class=\"dataframe\">\n",
              "  <thead>\n",
              "    <tr style=\"text-align: right;\">\n",
              "      <th></th>\n",
              "      <th>2017</th>\n",
              "      <th>2018</th>\n",
              "      <th>2019</th>\n",
              "      <th>total</th>\n",
              "    </tr>\n",
              "  </thead>\n",
              "  <tbody>\n",
              "    <tr>\n",
              "      <th>Abacate</th>\n",
              "      <td>212873</td>\n",
              "      <td>236177</td>\n",
              "      <td>242932</td>\n",
              "      <td>691982</td>\n",
              "    </tr>\n",
              "    <tr>\n",
              "      <th>Açaí</th>\n",
              "      <td>1335040</td>\n",
              "      <td>1301472</td>\n",
              "      <td>1398328</td>\n",
              "      <td>4034840</td>\n",
              "    </tr>\n",
              "    <tr>\n",
              "      <th>Banana</th>\n",
              "      <td>6584967</td>\n",
              "      <td>6723590</td>\n",
              "      <td>6812708</td>\n",
              "      <td>20121265</td>\n",
              "    </tr>\n",
              "    <tr>\n",
              "      <th>Cacau</th>\n",
              "      <td>235809</td>\n",
              "      <td>239318</td>\n",
              "      <td>259425</td>\n",
              "      <td>734552</td>\n",
              "    </tr>\n",
              "    <tr>\n",
              "      <th>Laranja</th>\n",
              "      <td>17492882</td>\n",
              "      <td>16841549</td>\n",
              "      <td>17073593</td>\n",
              "      <td>51408024</td>\n",
              "    </tr>\n",
              "    <tr>\n",
              "      <th>Maçã</th>\n",
              "      <td>1307642</td>\n",
              "      <td>1203007</td>\n",
              "      <td>1222970</td>\n",
              "      <td>3733619</td>\n",
              "    </tr>\n",
              "    <tr>\n",
              "      <th>Mamão</th>\n",
              "      <td>1058487</td>\n",
              "      <td>1065421</td>\n",
              "      <td>1161808</td>\n",
              "      <td>3285716</td>\n",
              "    </tr>\n",
              "    <tr>\n",
              "      <th>Manga</th>\n",
              "      <td>1089882</td>\n",
              "      <td>1320458</td>\n",
              "      <td>1414338</td>\n",
              "      <td>3824678</td>\n",
              "    </tr>\n",
              "  </tbody>\n",
              "</table>\n",
              "</div>"
            ],
            "text/plain": [
              "             2017      2018      2019     total\n",
              "Abacate    212873    236177    242932    691982\n",
              "Açaí      1335040   1301472   1398328   4034840\n",
              "Banana    6584967   6723590   6812708  20121265\n",
              "Cacau      235809    239318    259425    734552\n",
              "Laranja  17492882  16841549  17073593  51408024\n",
              "Maçã      1307642   1203007   1222970   3733619\n",
              "Mamão     1058487   1065421   1161808   3285716\n",
              "Manga     1089882   1320458   1414338   3824678"
            ]
          },
          "metadata": {},
          "execution_count": 26
        }
      ]
    },
    {
      "cell_type": "code",
      "metadata": {
        "colab": {
          "base_uri": "https://localhost:8080/",
          "height": 300
        },
        "id": "5BjWRr5Qc9UF",
        "outputId": "c0c5b289-bb9c-4991-89c3-c914610e0684"
      },
      "source": [
        "#c\n",
        "data.describe()"
      ],
      "execution_count": 48,
      "outputs": [
        {
          "output_type": "execute_result",
          "data": {
            "text/html": [
              "<div>\n",
              "<style scoped>\n",
              "    .dataframe tbody tr th:only-of-type {\n",
              "        vertical-align: middle;\n",
              "    }\n",
              "\n",
              "    .dataframe tbody tr th {\n",
              "        vertical-align: top;\n",
              "    }\n",
              "\n",
              "    .dataframe thead th {\n",
              "        text-align: right;\n",
              "    }\n",
              "</style>\n",
              "<table border=\"1\" class=\"dataframe\">\n",
              "  <thead>\n",
              "    <tr style=\"text-align: right;\">\n",
              "      <th></th>\n",
              "      <th>Abacate</th>\n",
              "      <th>Açaí</th>\n",
              "      <th>Banana</th>\n",
              "      <th>Cacau</th>\n",
              "      <th>Laranja</th>\n",
              "      <th>Maçã</th>\n",
              "      <th>Mamão</th>\n",
              "      <th>Manga</th>\n",
              "    </tr>\n",
              "  </thead>\n",
              "  <tbody>\n",
              "    <tr>\n",
              "      <th>count</th>\n",
              "      <td>3.000000</td>\n",
              "      <td>3.000000e+00</td>\n",
              "      <td>3.000000e+00</td>\n",
              "      <td>3.000000</td>\n",
              "      <td>3.000000e+00</td>\n",
              "      <td>3.000000e+00</td>\n",
              "      <td>3.000000e+00</td>\n",
              "      <td>3.000000e+00</td>\n",
              "    </tr>\n",
              "    <tr>\n",
              "      <th>mean</th>\n",
              "      <td>230660.666667</td>\n",
              "      <td>1.344947e+06</td>\n",
              "      <td>6.707088e+06</td>\n",
              "      <td>244850.666667</td>\n",
              "      <td>1.713601e+07</td>\n",
              "      <td>1.244540e+06</td>\n",
              "      <td>1.095239e+06</td>\n",
              "      <td>1.274893e+06</td>\n",
              "    </tr>\n",
              "    <tr>\n",
              "      <th>std</th>\n",
              "      <td>15770.488906</td>\n",
              "      <td>4.918209e+04</td>\n",
              "      <td>1.147638e+05</td>\n",
              "      <td>12743.102618</td>\n",
              "      <td>3.301218e+05</td>\n",
              "      <td>5.555231e+04</td>\n",
              "      <td>5.775489e+04</td>\n",
              "      <td>1.669583e+05</td>\n",
              "    </tr>\n",
              "    <tr>\n",
              "      <th>min</th>\n",
              "      <td>212873.000000</td>\n",
              "      <td>1.301472e+06</td>\n",
              "      <td>6.584967e+06</td>\n",
              "      <td>235809.000000</td>\n",
              "      <td>1.684155e+07</td>\n",
              "      <td>1.203007e+06</td>\n",
              "      <td>1.058487e+06</td>\n",
              "      <td>1.089882e+06</td>\n",
              "    </tr>\n",
              "    <tr>\n",
              "      <th>25%</th>\n",
              "      <td>224525.000000</td>\n",
              "      <td>1.318256e+06</td>\n",
              "      <td>6.654278e+06</td>\n",
              "      <td>237563.500000</td>\n",
              "      <td>1.695757e+07</td>\n",
              "      <td>1.212988e+06</td>\n",
              "      <td>1.061954e+06</td>\n",
              "      <td>1.205170e+06</td>\n",
              "    </tr>\n",
              "    <tr>\n",
              "      <th>50%</th>\n",
              "      <td>236177.000000</td>\n",
              "      <td>1.335040e+06</td>\n",
              "      <td>6.723590e+06</td>\n",
              "      <td>239318.000000</td>\n",
              "      <td>1.707359e+07</td>\n",
              "      <td>1.222970e+06</td>\n",
              "      <td>1.065421e+06</td>\n",
              "      <td>1.320458e+06</td>\n",
              "    </tr>\n",
              "    <tr>\n",
              "      <th>75%</th>\n",
              "      <td>239554.500000</td>\n",
              "      <td>1.366684e+06</td>\n",
              "      <td>6.768149e+06</td>\n",
              "      <td>249371.500000</td>\n",
              "      <td>1.728324e+07</td>\n",
              "      <td>1.265306e+06</td>\n",
              "      <td>1.113614e+06</td>\n",
              "      <td>1.367398e+06</td>\n",
              "    </tr>\n",
              "    <tr>\n",
              "      <th>max</th>\n",
              "      <td>242932.000000</td>\n",
              "      <td>1.398328e+06</td>\n",
              "      <td>6.812708e+06</td>\n",
              "      <td>259425.000000</td>\n",
              "      <td>1.749288e+07</td>\n",
              "      <td>1.307642e+06</td>\n",
              "      <td>1.161808e+06</td>\n",
              "      <td>1.414338e+06</td>\n",
              "    </tr>\n",
              "  </tbody>\n",
              "</table>\n",
              "</div>"
            ],
            "text/plain": [
              "             Abacate          Açaí  ...         Mamão         Manga\n",
              "count       3.000000  3.000000e+00  ...  3.000000e+00  3.000000e+00\n",
              "mean   230660.666667  1.344947e+06  ...  1.095239e+06  1.274893e+06\n",
              "std     15770.488906  4.918209e+04  ...  5.775489e+04  1.669583e+05\n",
              "min    212873.000000  1.301472e+06  ...  1.058487e+06  1.089882e+06\n",
              "25%    224525.000000  1.318256e+06  ...  1.061954e+06  1.205170e+06\n",
              "50%    236177.000000  1.335040e+06  ...  1.065421e+06  1.320458e+06\n",
              "75%    239554.500000  1.366684e+06  ...  1.113614e+06  1.367398e+06\n",
              "max    242932.000000  1.398328e+06  ...  1.161808e+06  1.414338e+06\n",
              "\n",
              "[8 rows x 8 columns]"
            ]
          },
          "metadata": {},
          "execution_count": 48
        }
      ]
    },
    {
      "cell_type": "code",
      "metadata": {
        "id": "lyVbh1pIk130"
      },
      "source": [
        "#d\n",
        "data.to_csv('dados_prod.csv', index = False)"
      ],
      "execution_count": 47,
      "outputs": []
    },
    {
      "cell_type": "markdown",
      "metadata": {
        "id": "hVjBL-ROoC67"
      },
      "source": [
        "Exercício 2\n",
        "\n",
        "Com base no dataset anterior obtenha:\n",
        "\n",
        "a) média da quantidade total produzida das respectivas lavouras em 2017, 2018 e 2019;\n",
        "\n",
        "b) média da quantidade produzida de cada lavoura entre o período selecionado;\n",
        "\n",
        "c) desvio padrão da quantidade total produzida das respectivas lavouras em 2017, 2018 e 2019;\n",
        "\n",
        "d) desvio padrão da quantidade produzida de cada lavoura entre o período selecionado;\n",
        "\n",
        "e) variância da quantidade total produzida das respectivas lavouras em 2017, 2018 e 2019;"
      ]
    },
    {
      "cell_type": "code",
      "metadata": {
        "colab": {
          "base_uri": "https://localhost:8080/",
          "height": 300
        },
        "id": "Yn5yn8InmEKu",
        "outputId": "34469297-bfaf-4608-9e29-3f65835defe6"
      },
      "source": [
        "#a\n",
        "#datat.drop(labels = ['total'], axis = 1, inplace = True)\n",
        "datat['Média'] = datat.median(axis=1)\n",
        "datat"
      ],
      "execution_count": 61,
      "outputs": [
        {
          "output_type": "execute_result",
          "data": {
            "text/html": [
              "<div>\n",
              "<style scoped>\n",
              "    .dataframe tbody tr th:only-of-type {\n",
              "        vertical-align: middle;\n",
              "    }\n",
              "\n",
              "    .dataframe tbody tr th {\n",
              "        vertical-align: top;\n",
              "    }\n",
              "\n",
              "    .dataframe thead th {\n",
              "        text-align: right;\n",
              "    }\n",
              "</style>\n",
              "<table border=\"1\" class=\"dataframe\">\n",
              "  <thead>\n",
              "    <tr style=\"text-align: right;\">\n",
              "      <th></th>\n",
              "      <th>2017</th>\n",
              "      <th>2018</th>\n",
              "      <th>2019</th>\n",
              "      <th>Média</th>\n",
              "    </tr>\n",
              "  </thead>\n",
              "  <tbody>\n",
              "    <tr>\n",
              "      <th>Abacate</th>\n",
              "      <td>212873</td>\n",
              "      <td>236177</td>\n",
              "      <td>242932</td>\n",
              "      <td>2.370214e+05</td>\n",
              "    </tr>\n",
              "    <tr>\n",
              "      <th>Açaí</th>\n",
              "      <td>1335040</td>\n",
              "      <td>1301472</td>\n",
              "      <td>1398328</td>\n",
              "      <td>1.342951e+06</td>\n",
              "    </tr>\n",
              "    <tr>\n",
              "      <th>Banana</th>\n",
              "      <td>6584967</td>\n",
              "      <td>6723590</td>\n",
              "      <td>6812708</td>\n",
              "      <td>6.734730e+06</td>\n",
              "    </tr>\n",
              "    <tr>\n",
              "      <th>Cacau</th>\n",
              "      <td>235809</td>\n",
              "      <td>239318</td>\n",
              "      <td>259425</td>\n",
              "      <td>2.418314e+05</td>\n",
              "    </tr>\n",
              "    <tr>\n",
              "      <th>Laranja</th>\n",
              "      <td>17492882</td>\n",
              "      <td>16841549</td>\n",
              "      <td>17073593</td>\n",
              "      <td>1.712600e+07</td>\n",
              "    </tr>\n",
              "    <tr>\n",
              "      <th>Maçã</th>\n",
              "      <td>1307642</td>\n",
              "      <td>1203007</td>\n",
              "      <td>1222970</td>\n",
              "      <td>1.233554e+06</td>\n",
              "    </tr>\n",
              "    <tr>\n",
              "      <th>Mamão</th>\n",
              "      <td>1058487</td>\n",
              "      <td>1065421</td>\n",
              "      <td>1161808</td>\n",
              "      <td>1.077469e+06</td>\n",
              "    </tr>\n",
              "    <tr>\n",
              "      <th>Manga</th>\n",
              "      <td>1089882</td>\n",
              "      <td>1320458</td>\n",
              "      <td>1414338</td>\n",
              "      <td>1.332193e+06</td>\n",
              "    </tr>\n",
              "  </tbody>\n",
              "</table>\n",
              "</div>"
            ],
            "text/plain": [
              "             2017      2018      2019         Média\n",
              "Abacate    212873    236177    242932  2.370214e+05\n",
              "Açaí      1335040   1301472   1398328  1.342951e+06\n",
              "Banana    6584967   6723590   6812708  6.734730e+06\n",
              "Cacau      235809    239318    259425  2.418314e+05\n",
              "Laranja  17492882  16841549  17073593  1.712600e+07\n",
              "Maçã      1307642   1203007   1222970  1.233554e+06\n",
              "Mamão     1058487   1065421   1161808  1.077469e+06\n",
              "Manga     1089882   1320458   1414338  1.332193e+06"
            ]
          },
          "metadata": {},
          "execution_count": 61
        }
      ]
    }
  ]
}