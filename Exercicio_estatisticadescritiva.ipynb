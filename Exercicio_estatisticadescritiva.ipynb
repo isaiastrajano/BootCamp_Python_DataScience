{
  "nbformat": 4,
  "nbformat_minor": 0,
  "metadata": {
    "colab": {
      "name": "Exercicio_estatisticadescritiva.ipynb",
      "provenance": [],
      "collapsed_sections": [],
      "authorship_tag": "ABX9TyNUNXeA/o8t/sX/Q77UdQ03",
      "include_colab_link": true
    },
    "kernelspec": {
      "name": "python3",
      "display_name": "Python 3"
    },
    "language_info": {
      "name": "python"
    }
  },
  "cells": [
    {
      "cell_type": "markdown",
      "metadata": {
        "id": "view-in-github",
        "colab_type": "text"
      },
      "source": [
        "<a href=\"https://colab.research.google.com/github/isaiastrajano/BootCamp_Python_DataScience/blob/main/Exercicio_estatisticadescritiva.ipynb\" target=\"_parent\"><img src=\"https://colab.research.google.com/assets/colab-badge.svg\" alt=\"Open In Colab\"/></a>"
      ]
    },
    {
      "cell_type": "markdown",
      "metadata": {
        "id": "C8gn-7OcVhyW"
      },
      "source": [
        "Exercícios de estatística descritiva"
      ]
    },
    {
      "cell_type": "code",
      "metadata": {
        "id": "men68Xx-VVD9"
      },
      "source": [
        "import pandas as pd\n",
        "import numpy as np\n",
        "import matplotlib.pyplot as plt"
      ],
      "execution_count": 13,
      "outputs": []
    },
    {
      "cell_type": "markdown",
      "metadata": {
        "id": "924Y9aLrVhRM"
      },
      "source": [
        "Exercício 1\n",
        "\n",
        "Os dados abaixo referem-se a quantidade produzida de lavouras permanentes no Brasil, entre 2017 e 2019. Construa o DataFrame abaixo e seguidamente faça:\n",
        "\n",
        "a) obtenha a quantidade total produzida pelas lavouras em cada ano;\n",
        "\n",
        "b) obtenha a quantidade total produzida por cada lavoura ao longo do tempo;\n",
        "\n",
        "c) mostre um resumo das estatísticas descritivas;\n",
        "\n",
        "d) converta o banco de dados para csv."
      ]
    },
    {
      "cell_type": "code",
      "metadata": {
        "id": "Jd0TzIQ7GgUS"
      },
      "source": [
        "dados = { 'Abacate':{ 2017: 212873, 2018: 236177, 2019: 242932 }, 'Açaí':{ 2017:1335040, 2018:1301472, 2019:1398328 }, 'Banana':{ 2017:6584967, 2018:6723590, 2019:6812708 }, 'Cacau':{ 2017:235809, 2018:239318, 2019:259425 }, 'Laranja':{ 2017:17492882, 2018:16841549, 2019:17073593 }, 'Maçã':{ 2017:1307642, 2018:1203007, 2019:1222970 }, 'Mamão':{ 2017:1058487, 2018:1065421, 2019:1161808 }, 'Manga':{ 2017:1089882, 2018:1320458, 2019:1414338 }, }"
      ],
      "execution_count": 14,
      "outputs": []
    },
    {
      "cell_type": "code",
      "metadata": {
        "colab": {
          "base_uri": "https://localhost:8080/"
        },
        "id": "zkxfIwFqVfoZ",
        "outputId": "ee3bc883-9f53-440a-de9e-bc86cbba01eb"
      },
      "source": [
        "dados"
      ],
      "execution_count": 15,
      "outputs": [
        {
          "output_type": "execute_result",
          "data": {
            "text/plain": [
              "{'Abacate': {2017: 212873, 2018: 236177, 2019: 242932},\n",
              " 'Açaí': {2017: 1335040, 2018: 1301472, 2019: 1398328},\n",
              " 'Banana': {2017: 6584967, 2018: 6723590, 2019: 6812708},\n",
              " 'Cacau': {2017: 235809, 2018: 239318, 2019: 259425},\n",
              " 'Laranja': {2017: 17492882, 2018: 16841549, 2019: 17073593},\n",
              " 'Mamão': {2017: 1058487, 2018: 1065421, 2019: 1161808},\n",
              " 'Manga': {2017: 1089882, 2018: 1320458, 2019: 1414338},\n",
              " 'Maçã': {2017: 1307642, 2018: 1203007, 2019: 1222970}}"
            ]
          },
          "metadata": {},
          "execution_count": 15
        }
      ]
    },
    {
      "cell_type": "code",
      "metadata": {
        "id": "QEmegXAogMfe"
      },
      "source": [
        "data = pd.DataFrame(dados)"
      ],
      "execution_count": 16,
      "outputs": []
    },
    {
      "cell_type": "code",
      "metadata": {
        "colab": {
          "base_uri": "https://localhost:8080/",
          "height": 143
        },
        "id": "__puirqlg4Uc",
        "outputId": "4ca9a628-0cc8-48eb-8886-dd8589eda2f8"
      },
      "source": [
        "#a\n",
        "data['total'] = data.sum(axis=1)\n",
        "#somando os valores do eixo x\n",
        "data"
      ],
      "execution_count": 17,
      "outputs": [
        {
          "output_type": "execute_result",
          "data": {
            "text/html": [
              "<div>\n",
              "<style scoped>\n",
              "    .dataframe tbody tr th:only-of-type {\n",
              "        vertical-align: middle;\n",
              "    }\n",
              "\n",
              "    .dataframe tbody tr th {\n",
              "        vertical-align: top;\n",
              "    }\n",
              "\n",
              "    .dataframe thead th {\n",
              "        text-align: right;\n",
              "    }\n",
              "</style>\n",
              "<table border=\"1\" class=\"dataframe\">\n",
              "  <thead>\n",
              "    <tr style=\"text-align: right;\">\n",
              "      <th></th>\n",
              "      <th>Abacate</th>\n",
              "      <th>Açaí</th>\n",
              "      <th>Banana</th>\n",
              "      <th>Cacau</th>\n",
              "      <th>Laranja</th>\n",
              "      <th>Maçã</th>\n",
              "      <th>Mamão</th>\n",
              "      <th>Manga</th>\n",
              "      <th>total</th>\n",
              "    </tr>\n",
              "  </thead>\n",
              "  <tbody>\n",
              "    <tr>\n",
              "      <th>2017</th>\n",
              "      <td>212873</td>\n",
              "      <td>1335040</td>\n",
              "      <td>6584967</td>\n",
              "      <td>235809</td>\n",
              "      <td>17492882</td>\n",
              "      <td>1307642</td>\n",
              "      <td>1058487</td>\n",
              "      <td>1089882</td>\n",
              "      <td>29317582</td>\n",
              "    </tr>\n",
              "    <tr>\n",
              "      <th>2018</th>\n",
              "      <td>236177</td>\n",
              "      <td>1301472</td>\n",
              "      <td>6723590</td>\n",
              "      <td>239318</td>\n",
              "      <td>16841549</td>\n",
              "      <td>1203007</td>\n",
              "      <td>1065421</td>\n",
              "      <td>1320458</td>\n",
              "      <td>28930992</td>\n",
              "    </tr>\n",
              "    <tr>\n",
              "      <th>2019</th>\n",
              "      <td>242932</td>\n",
              "      <td>1398328</td>\n",
              "      <td>6812708</td>\n",
              "      <td>259425</td>\n",
              "      <td>17073593</td>\n",
              "      <td>1222970</td>\n",
              "      <td>1161808</td>\n",
              "      <td>1414338</td>\n",
              "      <td>29586102</td>\n",
              "    </tr>\n",
              "  </tbody>\n",
              "</table>\n",
              "</div>"
            ],
            "text/plain": [
              "      Abacate     Açaí   Banana   Cacau  ...     Maçã    Mamão    Manga     total\n",
              "2017   212873  1335040  6584967  235809  ...  1307642  1058487  1089882  29317582\n",
              "2018   236177  1301472  6723590  239318  ...  1203007  1065421  1320458  28930992\n",
              "2019   242932  1398328  6812708  259425  ...  1222970  1161808  1414338  29586102\n",
              "\n",
              "[3 rows x 9 columns]"
            ]
          },
          "metadata": {},
          "execution_count": 17
        }
      ]
    },
    {
      "cell_type": "code",
      "metadata": {
        "id": "nidR1drR55Yo",
        "colab": {
          "base_uri": "https://localhost:8080/",
          "height": 332
        },
        "outputId": "a9ab1a2d-933c-45f0-8811-658ecfd894b6"
      },
      "source": [
        "#b\n",
        "datat = data.T\n",
        "datat['total'] = datat.sum(axis=1)\n",
        "datat"
      ],
      "execution_count": 18,
      "outputs": [
        {
          "output_type": "execute_result",
          "data": {
            "text/html": [
              "<div>\n",
              "<style scoped>\n",
              "    .dataframe tbody tr th:only-of-type {\n",
              "        vertical-align: middle;\n",
              "    }\n",
              "\n",
              "    .dataframe tbody tr th {\n",
              "        vertical-align: top;\n",
              "    }\n",
              "\n",
              "    .dataframe thead th {\n",
              "        text-align: right;\n",
              "    }\n",
              "</style>\n",
              "<table border=\"1\" class=\"dataframe\">\n",
              "  <thead>\n",
              "    <tr style=\"text-align: right;\">\n",
              "      <th></th>\n",
              "      <th>2017</th>\n",
              "      <th>2018</th>\n",
              "      <th>2019</th>\n",
              "      <th>total</th>\n",
              "    </tr>\n",
              "  </thead>\n",
              "  <tbody>\n",
              "    <tr>\n",
              "      <th>Abacate</th>\n",
              "      <td>212873</td>\n",
              "      <td>236177</td>\n",
              "      <td>242932</td>\n",
              "      <td>691982</td>\n",
              "    </tr>\n",
              "    <tr>\n",
              "      <th>Açaí</th>\n",
              "      <td>1335040</td>\n",
              "      <td>1301472</td>\n",
              "      <td>1398328</td>\n",
              "      <td>4034840</td>\n",
              "    </tr>\n",
              "    <tr>\n",
              "      <th>Banana</th>\n",
              "      <td>6584967</td>\n",
              "      <td>6723590</td>\n",
              "      <td>6812708</td>\n",
              "      <td>20121265</td>\n",
              "    </tr>\n",
              "    <tr>\n",
              "      <th>Cacau</th>\n",
              "      <td>235809</td>\n",
              "      <td>239318</td>\n",
              "      <td>259425</td>\n",
              "      <td>734552</td>\n",
              "    </tr>\n",
              "    <tr>\n",
              "      <th>Laranja</th>\n",
              "      <td>17492882</td>\n",
              "      <td>16841549</td>\n",
              "      <td>17073593</td>\n",
              "      <td>51408024</td>\n",
              "    </tr>\n",
              "    <tr>\n",
              "      <th>Maçã</th>\n",
              "      <td>1307642</td>\n",
              "      <td>1203007</td>\n",
              "      <td>1222970</td>\n",
              "      <td>3733619</td>\n",
              "    </tr>\n",
              "    <tr>\n",
              "      <th>Mamão</th>\n",
              "      <td>1058487</td>\n",
              "      <td>1065421</td>\n",
              "      <td>1161808</td>\n",
              "      <td>3285716</td>\n",
              "    </tr>\n",
              "    <tr>\n",
              "      <th>Manga</th>\n",
              "      <td>1089882</td>\n",
              "      <td>1320458</td>\n",
              "      <td>1414338</td>\n",
              "      <td>3824678</td>\n",
              "    </tr>\n",
              "    <tr>\n",
              "      <th>total</th>\n",
              "      <td>29317582</td>\n",
              "      <td>28930992</td>\n",
              "      <td>29586102</td>\n",
              "      <td>87834676</td>\n",
              "    </tr>\n",
              "  </tbody>\n",
              "</table>\n",
              "</div>"
            ],
            "text/plain": [
              "             2017      2018      2019     total\n",
              "Abacate    212873    236177    242932    691982\n",
              "Açaí      1335040   1301472   1398328   4034840\n",
              "Banana    6584967   6723590   6812708  20121265\n",
              "Cacau      235809    239318    259425    734552\n",
              "Laranja  17492882  16841549  17073593  51408024\n",
              "Maçã      1307642   1203007   1222970   3733619\n",
              "Mamão     1058487   1065421   1161808   3285716\n",
              "Manga     1089882   1320458   1414338   3824678\n",
              "total    29317582  28930992  29586102  87834676"
            ]
          },
          "metadata": {},
          "execution_count": 18
        }
      ]
    },
    {
      "cell_type": "code",
      "metadata": {
        "colab": {
          "base_uri": "https://localhost:8080/",
          "height": 300
        },
        "id": "5BjWRr5Qc9UF",
        "outputId": "e7eadc77-9174-4ac6-ee48-ac4be505a157"
      },
      "source": [
        "#c\n",
        "data.describe()"
      ],
      "execution_count": 19,
      "outputs": [
        {
          "output_type": "execute_result",
          "data": {
            "text/html": [
              "<div>\n",
              "<style scoped>\n",
              "    .dataframe tbody tr th:only-of-type {\n",
              "        vertical-align: middle;\n",
              "    }\n",
              "\n",
              "    .dataframe tbody tr th {\n",
              "        vertical-align: top;\n",
              "    }\n",
              "\n",
              "    .dataframe thead th {\n",
              "        text-align: right;\n",
              "    }\n",
              "</style>\n",
              "<table border=\"1\" class=\"dataframe\">\n",
              "  <thead>\n",
              "    <tr style=\"text-align: right;\">\n",
              "      <th></th>\n",
              "      <th>Abacate</th>\n",
              "      <th>Açaí</th>\n",
              "      <th>Banana</th>\n",
              "      <th>Cacau</th>\n",
              "      <th>Laranja</th>\n",
              "      <th>Maçã</th>\n",
              "      <th>Mamão</th>\n",
              "      <th>Manga</th>\n",
              "      <th>total</th>\n",
              "    </tr>\n",
              "  </thead>\n",
              "  <tbody>\n",
              "    <tr>\n",
              "      <th>count</th>\n",
              "      <td>3.000000</td>\n",
              "      <td>3.000000e+00</td>\n",
              "      <td>3.000000e+00</td>\n",
              "      <td>3.000000</td>\n",
              "      <td>3.000000e+00</td>\n",
              "      <td>3.000000e+00</td>\n",
              "      <td>3.000000e+00</td>\n",
              "      <td>3.000000e+00</td>\n",
              "      <td>3.000000e+00</td>\n",
              "    </tr>\n",
              "    <tr>\n",
              "      <th>mean</th>\n",
              "      <td>230660.666667</td>\n",
              "      <td>1.344947e+06</td>\n",
              "      <td>6.707088e+06</td>\n",
              "      <td>244850.666667</td>\n",
              "      <td>1.713601e+07</td>\n",
              "      <td>1.244540e+06</td>\n",
              "      <td>1.095239e+06</td>\n",
              "      <td>1.274893e+06</td>\n",
              "      <td>2.927823e+07</td>\n",
              "    </tr>\n",
              "    <tr>\n",
              "      <th>std</th>\n",
              "      <td>15770.488906</td>\n",
              "      <td>4.918209e+04</td>\n",
              "      <td>1.147638e+05</td>\n",
              "      <td>12743.102618</td>\n",
              "      <td>3.301218e+05</td>\n",
              "      <td>5.555231e+04</td>\n",
              "      <td>5.775489e+04</td>\n",
              "      <td>1.669583e+05</td>\n",
              "      <td>3.293235e+05</td>\n",
              "    </tr>\n",
              "    <tr>\n",
              "      <th>min</th>\n",
              "      <td>212873.000000</td>\n",
              "      <td>1.301472e+06</td>\n",
              "      <td>6.584967e+06</td>\n",
              "      <td>235809.000000</td>\n",
              "      <td>1.684155e+07</td>\n",
              "      <td>1.203007e+06</td>\n",
              "      <td>1.058487e+06</td>\n",
              "      <td>1.089882e+06</td>\n",
              "      <td>2.893099e+07</td>\n",
              "    </tr>\n",
              "    <tr>\n",
              "      <th>25%</th>\n",
              "      <td>224525.000000</td>\n",
              "      <td>1.318256e+06</td>\n",
              "      <td>6.654278e+06</td>\n",
              "      <td>237563.500000</td>\n",
              "      <td>1.695757e+07</td>\n",
              "      <td>1.212988e+06</td>\n",
              "      <td>1.061954e+06</td>\n",
              "      <td>1.205170e+06</td>\n",
              "      <td>2.912429e+07</td>\n",
              "    </tr>\n",
              "    <tr>\n",
              "      <th>50%</th>\n",
              "      <td>236177.000000</td>\n",
              "      <td>1.335040e+06</td>\n",
              "      <td>6.723590e+06</td>\n",
              "      <td>239318.000000</td>\n",
              "      <td>1.707359e+07</td>\n",
              "      <td>1.222970e+06</td>\n",
              "      <td>1.065421e+06</td>\n",
              "      <td>1.320458e+06</td>\n",
              "      <td>2.931758e+07</td>\n",
              "    </tr>\n",
              "    <tr>\n",
              "      <th>75%</th>\n",
              "      <td>239554.500000</td>\n",
              "      <td>1.366684e+06</td>\n",
              "      <td>6.768149e+06</td>\n",
              "      <td>249371.500000</td>\n",
              "      <td>1.728324e+07</td>\n",
              "      <td>1.265306e+06</td>\n",
              "      <td>1.113614e+06</td>\n",
              "      <td>1.367398e+06</td>\n",
              "      <td>2.945184e+07</td>\n",
              "    </tr>\n",
              "    <tr>\n",
              "      <th>max</th>\n",
              "      <td>242932.000000</td>\n",
              "      <td>1.398328e+06</td>\n",
              "      <td>6.812708e+06</td>\n",
              "      <td>259425.000000</td>\n",
              "      <td>1.749288e+07</td>\n",
              "      <td>1.307642e+06</td>\n",
              "      <td>1.161808e+06</td>\n",
              "      <td>1.414338e+06</td>\n",
              "      <td>2.958610e+07</td>\n",
              "    </tr>\n",
              "  </tbody>\n",
              "</table>\n",
              "</div>"
            ],
            "text/plain": [
              "             Abacate          Açaí  ...         Manga         total\n",
              "count       3.000000  3.000000e+00  ...  3.000000e+00  3.000000e+00\n",
              "mean   230660.666667  1.344947e+06  ...  1.274893e+06  2.927823e+07\n",
              "std     15770.488906  4.918209e+04  ...  1.669583e+05  3.293235e+05\n",
              "min    212873.000000  1.301472e+06  ...  1.089882e+06  2.893099e+07\n",
              "25%    224525.000000  1.318256e+06  ...  1.205170e+06  2.912429e+07\n",
              "50%    236177.000000  1.335040e+06  ...  1.320458e+06  2.931758e+07\n",
              "75%    239554.500000  1.366684e+06  ...  1.367398e+06  2.945184e+07\n",
              "max    242932.000000  1.398328e+06  ...  1.414338e+06  2.958610e+07\n",
              "\n",
              "[8 rows x 9 columns]"
            ]
          },
          "metadata": {},
          "execution_count": 19
        }
      ]
    },
    {
      "cell_type": "code",
      "metadata": {
        "id": "lyVbh1pIk130"
      },
      "source": [
        "#d\n",
        "data.to_csv('dados_prod.csv', index = False)"
      ],
      "execution_count": 20,
      "outputs": []
    },
    {
      "cell_type": "markdown",
      "metadata": {
        "id": "hVjBL-ROoC67"
      },
      "source": [
        "Exercício 2\n",
        "\n",
        "Com base no dataset anterior obtenha:\n",
        "\n",
        "a) média da quantidade total produzida das respectivas lavouras em 2017, 2018 e 2019;\n",
        "\n",
        "b) média da quantidade produzida de cada lavoura entre o período selecionado;\n",
        "\n",
        "c) desvio padrão da quantidade total produzida das respectivas lavouras em 2017, 2018 e 2019;\n",
        "\n",
        "d) desvio padrão da quantidade produzida de cada lavoura entre o período selecionado;\n",
        "\n",
        "e) variância da quantidade total produzida das respectivas lavouras em 2017, 2018 e 2019;"
      ]
    },
    {
      "cell_type": "code",
      "metadata": {
        "colab": {
          "base_uri": "https://localhost:8080/",
          "height": 332
        },
        "id": "Yn5yn8InmEKu",
        "outputId": "2e8f8349-7b9e-4ecf-c639-5f2d815db417"
      },
      "source": [
        "#a\n",
        "datat.drop(labels = ['total'], axis = 1, inplace = True)\n",
        "datat['Média'] = datat.median(axis=1)\n",
        "datat"
      ],
      "execution_count": 21,
      "outputs": [
        {
          "output_type": "execute_result",
          "data": {
            "text/html": [
              "<div>\n",
              "<style scoped>\n",
              "    .dataframe tbody tr th:only-of-type {\n",
              "        vertical-align: middle;\n",
              "    }\n",
              "\n",
              "    .dataframe tbody tr th {\n",
              "        vertical-align: top;\n",
              "    }\n",
              "\n",
              "    .dataframe thead th {\n",
              "        text-align: right;\n",
              "    }\n",
              "</style>\n",
              "<table border=\"1\" class=\"dataframe\">\n",
              "  <thead>\n",
              "    <tr style=\"text-align: right;\">\n",
              "      <th></th>\n",
              "      <th>2017</th>\n",
              "      <th>2018</th>\n",
              "      <th>2019</th>\n",
              "      <th>Média</th>\n",
              "    </tr>\n",
              "  </thead>\n",
              "  <tbody>\n",
              "    <tr>\n",
              "      <th>Abacate</th>\n",
              "      <td>212873</td>\n",
              "      <td>236177</td>\n",
              "      <td>242932</td>\n",
              "      <td>236177.0</td>\n",
              "    </tr>\n",
              "    <tr>\n",
              "      <th>Açaí</th>\n",
              "      <td>1335040</td>\n",
              "      <td>1301472</td>\n",
              "      <td>1398328</td>\n",
              "      <td>1335040.0</td>\n",
              "    </tr>\n",
              "    <tr>\n",
              "      <th>Banana</th>\n",
              "      <td>6584967</td>\n",
              "      <td>6723590</td>\n",
              "      <td>6812708</td>\n",
              "      <td>6723590.0</td>\n",
              "    </tr>\n",
              "    <tr>\n",
              "      <th>Cacau</th>\n",
              "      <td>235809</td>\n",
              "      <td>239318</td>\n",
              "      <td>259425</td>\n",
              "      <td>239318.0</td>\n",
              "    </tr>\n",
              "    <tr>\n",
              "      <th>Laranja</th>\n",
              "      <td>17492882</td>\n",
              "      <td>16841549</td>\n",
              "      <td>17073593</td>\n",
              "      <td>17073593.0</td>\n",
              "    </tr>\n",
              "    <tr>\n",
              "      <th>Maçã</th>\n",
              "      <td>1307642</td>\n",
              "      <td>1203007</td>\n",
              "      <td>1222970</td>\n",
              "      <td>1222970.0</td>\n",
              "    </tr>\n",
              "    <tr>\n",
              "      <th>Mamão</th>\n",
              "      <td>1058487</td>\n",
              "      <td>1065421</td>\n",
              "      <td>1161808</td>\n",
              "      <td>1065421.0</td>\n",
              "    </tr>\n",
              "    <tr>\n",
              "      <th>Manga</th>\n",
              "      <td>1089882</td>\n",
              "      <td>1320458</td>\n",
              "      <td>1414338</td>\n",
              "      <td>1320458.0</td>\n",
              "    </tr>\n",
              "    <tr>\n",
              "      <th>total</th>\n",
              "      <td>29317582</td>\n",
              "      <td>28930992</td>\n",
              "      <td>29586102</td>\n",
              "      <td>29317582.0</td>\n",
              "    </tr>\n",
              "  </tbody>\n",
              "</table>\n",
              "</div>"
            ],
            "text/plain": [
              "             2017      2018      2019       Média\n",
              "Abacate    212873    236177    242932    236177.0\n",
              "Açaí      1335040   1301472   1398328   1335040.0\n",
              "Banana    6584967   6723590   6812708   6723590.0\n",
              "Cacau      235809    239318    259425    239318.0\n",
              "Laranja  17492882  16841549  17073593  17073593.0\n",
              "Maçã      1307642   1203007   1222970   1222970.0\n",
              "Mamão     1058487   1065421   1161808   1065421.0\n",
              "Manga     1089882   1320458   1414338   1320458.0\n",
              "total    29317582  28930992  29586102  29317582.0"
            ]
          },
          "metadata": {},
          "execution_count": 21
        }
      ]
    },
    {
      "cell_type": "code",
      "metadata": {
        "id": "Qd8nc3VgsRXP",
        "colab": {
          "base_uri": "https://localhost:8080/",
          "height": 332
        },
        "outputId": "202cceec-bce3-4455-a5d2-d9882ef36fc0"
      },
      "source": [
        "#c\n",
        "#datat.drop(labels = ['Média'], axis = 1, inplace = True)\n",
        "#datat.drop(labels = ['total'], axis = 1, inplace = True)\n",
        "datat['Média Std'] = datat.std(axis=1)\n",
        "datat"
      ],
      "execution_count": 24,
      "outputs": [
        {
          "output_type": "execute_result",
          "data": {
            "text/html": [
              "<div>\n",
              "<style scoped>\n",
              "    .dataframe tbody tr th:only-of-type {\n",
              "        vertical-align: middle;\n",
              "    }\n",
              "\n",
              "    .dataframe tbody tr th {\n",
              "        vertical-align: top;\n",
              "    }\n",
              "\n",
              "    .dataframe thead th {\n",
              "        text-align: right;\n",
              "    }\n",
              "</style>\n",
              "<table border=\"1\" class=\"dataframe\">\n",
              "  <thead>\n",
              "    <tr style=\"text-align: right;\">\n",
              "      <th></th>\n",
              "      <th>2017</th>\n",
              "      <th>2018</th>\n",
              "      <th>2019</th>\n",
              "      <th>Média Std</th>\n",
              "    </tr>\n",
              "  </thead>\n",
              "  <tbody>\n",
              "    <tr>\n",
              "      <th>Abacate</th>\n",
              "      <td>212873</td>\n",
              "      <td>236177</td>\n",
              "      <td>242932</td>\n",
              "      <td>15770.488906</td>\n",
              "    </tr>\n",
              "    <tr>\n",
              "      <th>Açaí</th>\n",
              "      <td>1335040</td>\n",
              "      <td>1301472</td>\n",
              "      <td>1398328</td>\n",
              "      <td>49182.087363</td>\n",
              "    </tr>\n",
              "    <tr>\n",
              "      <th>Banana</th>\n",
              "      <td>6584967</td>\n",
              "      <td>6723590</td>\n",
              "      <td>6812708</td>\n",
              "      <td>114763.755264</td>\n",
              "    </tr>\n",
              "    <tr>\n",
              "      <th>Cacau</th>\n",
              "      <td>235809</td>\n",
              "      <td>239318</td>\n",
              "      <td>259425</td>\n",
              "      <td>12743.102618</td>\n",
              "    </tr>\n",
              "    <tr>\n",
              "      <th>Laranja</th>\n",
              "      <td>17492882</td>\n",
              "      <td>16841549</td>\n",
              "      <td>17073593</td>\n",
              "      <td>330121.785696</td>\n",
              "    </tr>\n",
              "    <tr>\n",
              "      <th>Maçã</th>\n",
              "      <td>1307642</td>\n",
              "      <td>1203007</td>\n",
              "      <td>1222970</td>\n",
              "      <td>55552.305950</td>\n",
              "    </tr>\n",
              "    <tr>\n",
              "      <th>Mamão</th>\n",
              "      <td>1058487</td>\n",
              "      <td>1065421</td>\n",
              "      <td>1161808</td>\n",
              "      <td>57754.888921</td>\n",
              "    </tr>\n",
              "    <tr>\n",
              "      <th>Manga</th>\n",
              "      <td>1089882</td>\n",
              "      <td>1320458</td>\n",
              "      <td>1414338</td>\n",
              "      <td>166958.299241</td>\n",
              "    </tr>\n",
              "    <tr>\n",
              "      <th>total</th>\n",
              "      <td>29317582</td>\n",
              "      <td>28930992</td>\n",
              "      <td>29586102</td>\n",
              "      <td>329323.531551</td>\n",
              "    </tr>\n",
              "  </tbody>\n",
              "</table>\n",
              "</div>"
            ],
            "text/plain": [
              "             2017      2018      2019      Média Std\n",
              "Abacate    212873    236177    242932   15770.488906\n",
              "Açaí      1335040   1301472   1398328   49182.087363\n",
              "Banana    6584967   6723590   6812708  114763.755264\n",
              "Cacau      235809    239318    259425   12743.102618\n",
              "Laranja  17492882  16841549  17073593  330121.785696\n",
              "Maçã      1307642   1203007   1222970   55552.305950\n",
              "Mamão     1058487   1065421   1161808   57754.888921\n",
              "Manga     1089882   1320458   1414338  166958.299241\n",
              "total    29317582  28930992  29586102  329323.531551"
            ]
          },
          "metadata": {},
          "execution_count": 24
        }
      ]
    },
    {
      "cell_type": "code",
      "metadata": {
        "colab": {
          "base_uri": "https://localhost:8080/",
          "height": 332
        },
        "id": "ERWWpFYuhUAs",
        "outputId": "914ca17d-b47e-42f2-878e-a19acf3f7689"
      },
      "source": [
        "#e\n",
        "#datat.drop(labels = ['Média Std'], axis = 1, inplace = True)\n",
        "datat['Variancia'] = np.var(datat, axis = 1)\n",
        "datat"
      ],
      "execution_count": 28,
      "outputs": [
        {
          "output_type": "execute_result",
          "data": {
            "text/html": [
              "<div>\n",
              "<style scoped>\n",
              "    .dataframe tbody tr th:only-of-type {\n",
              "        vertical-align: middle;\n",
              "    }\n",
              "\n",
              "    .dataframe tbody tr th {\n",
              "        vertical-align: top;\n",
              "    }\n",
              "\n",
              "    .dataframe thead th {\n",
              "        text-align: right;\n",
              "    }\n",
              "</style>\n",
              "<table border=\"1\" class=\"dataframe\">\n",
              "  <thead>\n",
              "    <tr style=\"text-align: right;\">\n",
              "      <th></th>\n",
              "      <th>2017</th>\n",
              "      <th>2018</th>\n",
              "      <th>2019</th>\n",
              "      <th>Variancia</th>\n",
              "    </tr>\n",
              "  </thead>\n",
              "  <tbody>\n",
              "    <tr>\n",
              "      <th>Abacate</th>\n",
              "      <td>212873</td>\n",
              "      <td>236177</td>\n",
              "      <td>242932</td>\n",
              "      <td>1.658055e+08</td>\n",
              "    </tr>\n",
              "    <tr>\n",
              "      <th>Açaí</th>\n",
              "      <td>1335040</td>\n",
              "      <td>1301472</td>\n",
              "      <td>1398328</td>\n",
              "      <td>1.612585e+09</td>\n",
              "    </tr>\n",
              "    <tr>\n",
              "      <th>Banana</th>\n",
              "      <td>6584967</td>\n",
              "      <td>6723590</td>\n",
              "      <td>6812708</td>\n",
              "      <td>8.780480e+09</td>\n",
              "    </tr>\n",
              "    <tr>\n",
              "      <th>Cacau</th>\n",
              "      <td>235809</td>\n",
              "      <td>239318</td>\n",
              "      <td>259425</td>\n",
              "      <td>1.082578e+08</td>\n",
              "    </tr>\n",
              "    <tr>\n",
              "      <th>Laranja</th>\n",
              "      <td>17492882</td>\n",
              "      <td>16841549</td>\n",
              "      <td>17073593</td>\n",
              "      <td>7.265360e+10</td>\n",
              "    </tr>\n",
              "    <tr>\n",
              "      <th>Maçã</th>\n",
              "      <td>1307642</td>\n",
              "      <td>1203007</td>\n",
              "      <td>1222970</td>\n",
              "      <td>2.057372e+09</td>\n",
              "    </tr>\n",
              "    <tr>\n",
              "      <th>Mamão</th>\n",
              "      <td>1058487</td>\n",
              "      <td>1065421</td>\n",
              "      <td>1161808</td>\n",
              "      <td>2.223751e+09</td>\n",
              "    </tr>\n",
              "    <tr>\n",
              "      <th>Manga</th>\n",
              "      <td>1089882</td>\n",
              "      <td>1320458</td>\n",
              "      <td>1414338</td>\n",
              "      <td>1.858338e+10</td>\n",
              "    </tr>\n",
              "    <tr>\n",
              "      <th>total</th>\n",
              "      <td>29317582</td>\n",
              "      <td>28930992</td>\n",
              "      <td>29586102</td>\n",
              "      <td>7.230266e+10</td>\n",
              "    </tr>\n",
              "  </tbody>\n",
              "</table>\n",
              "</div>"
            ],
            "text/plain": [
              "             2017      2018      2019     Variancia\n",
              "Abacate    212873    236177    242932  1.658055e+08\n",
              "Açaí      1335040   1301472   1398328  1.612585e+09\n",
              "Banana    6584967   6723590   6812708  8.780480e+09\n",
              "Cacau      235809    239318    259425  1.082578e+08\n",
              "Laranja  17492882  16841549  17073593  7.265360e+10\n",
              "Maçã      1307642   1203007   1222970  2.057372e+09\n",
              "Mamão     1058487   1065421   1161808  2.223751e+09\n",
              "Manga     1089882   1320458   1414338  1.858338e+10\n",
              "total    29317582  28930992  29586102  7.230266e+10"
            ]
          },
          "metadata": {},
          "execution_count": 28
        }
      ]
    },
    {
      "cell_type": "markdown",
      "metadata": {
        "id": "TeLwQHwWifzV"
      },
      "source": [
        "Exercício 3\n",
        "\n",
        "Calcule e imprima na tela:\n",
        "\n",
        "a) média das vendas diárias;\n",
        "\n",
        "b) desvio padrão;\n",
        "\n",
        "c) variância;\n",
        "\n",
        "d) moda;\n",
        "\n",
        "e) quantidade total vendida no período;\n",
        "\n",
        "f) valor máximo de vendas e o dia respectivo;\n",
        "\n",
        "g) valor mínimo de vendas e o dia rescpetivo."
      ]
    },
    {
      "cell_type": "code",
      "metadata": {
        "colab": {
          "base_uri": "https://localhost:8080/",
          "height": 363
        },
        "id": "BMhGOYd7l0PC",
        "outputId": "84f7f95b-8daf-48c6-8b7e-2f1335136726"
      },
      "source": [
        "#criando o dataset\n",
        "datalista = pd.date_range(start ='12-1-2020', end ='12-10-2020')\n",
        "vendas = [10, 38, 47, 9, 11, 9, 21, 49, 17, 29]\n",
        "dataset = pd.DataFrame(index = datalista, data = vendas)\n",
        "dataset.rename({0: 'Venda Diaria'}, axis = 1, inplace = True)\n",
        "dataset"
      ],
      "execution_count": 58,
      "outputs": [
        {
          "output_type": "execute_result",
          "data": {
            "text/html": [
              "<div>\n",
              "<style scoped>\n",
              "    .dataframe tbody tr th:only-of-type {\n",
              "        vertical-align: middle;\n",
              "    }\n",
              "\n",
              "    .dataframe tbody tr th {\n",
              "        vertical-align: top;\n",
              "    }\n",
              "\n",
              "    .dataframe thead th {\n",
              "        text-align: right;\n",
              "    }\n",
              "</style>\n",
              "<table border=\"1\" class=\"dataframe\">\n",
              "  <thead>\n",
              "    <tr style=\"text-align: right;\">\n",
              "      <th></th>\n",
              "      <th>Venda Diaria</th>\n",
              "    </tr>\n",
              "  </thead>\n",
              "  <tbody>\n",
              "    <tr>\n",
              "      <th>2020-12-01</th>\n",
              "      <td>10</td>\n",
              "    </tr>\n",
              "    <tr>\n",
              "      <th>2020-12-02</th>\n",
              "      <td>38</td>\n",
              "    </tr>\n",
              "    <tr>\n",
              "      <th>2020-12-03</th>\n",
              "      <td>47</td>\n",
              "    </tr>\n",
              "    <tr>\n",
              "      <th>2020-12-04</th>\n",
              "      <td>9</td>\n",
              "    </tr>\n",
              "    <tr>\n",
              "      <th>2020-12-05</th>\n",
              "      <td>11</td>\n",
              "    </tr>\n",
              "    <tr>\n",
              "      <th>2020-12-06</th>\n",
              "      <td>9</td>\n",
              "    </tr>\n",
              "    <tr>\n",
              "      <th>2020-12-07</th>\n",
              "      <td>21</td>\n",
              "    </tr>\n",
              "    <tr>\n",
              "      <th>2020-12-08</th>\n",
              "      <td>49</td>\n",
              "    </tr>\n",
              "    <tr>\n",
              "      <th>2020-12-09</th>\n",
              "      <td>17</td>\n",
              "    </tr>\n",
              "    <tr>\n",
              "      <th>2020-12-10</th>\n",
              "      <td>29</td>\n",
              "    </tr>\n",
              "  </tbody>\n",
              "</table>\n",
              "</div>"
            ],
            "text/plain": [
              "            Venda Diaria\n",
              "2020-12-01            10\n",
              "2020-12-02            38\n",
              "2020-12-03            47\n",
              "2020-12-04             9\n",
              "2020-12-05            11\n",
              "2020-12-06             9\n",
              "2020-12-07            21\n",
              "2020-12-08            49\n",
              "2020-12-09            17\n",
              "2020-12-10            29"
            ]
          },
          "metadata": {},
          "execution_count": 58
        }
      ]
    },
    {
      "cell_type": "code",
      "metadata": {
        "colab": {
          "base_uri": "https://localhost:8080/",
          "height": 300
        },
        "id": "eiPxZdGgm8vq",
        "outputId": "3f08de83-5019-4604-9d88-ac90981d4b5a"
      },
      "source": [
        "#a, b\n",
        "dataset.describe()"
      ],
      "execution_count": 59,
      "outputs": [
        {
          "output_type": "execute_result",
          "data": {
            "text/html": [
              "<div>\n",
              "<style scoped>\n",
              "    .dataframe tbody tr th:only-of-type {\n",
              "        vertical-align: middle;\n",
              "    }\n",
              "\n",
              "    .dataframe tbody tr th {\n",
              "        vertical-align: top;\n",
              "    }\n",
              "\n",
              "    .dataframe thead th {\n",
              "        text-align: right;\n",
              "    }\n",
              "</style>\n",
              "<table border=\"1\" class=\"dataframe\">\n",
              "  <thead>\n",
              "    <tr style=\"text-align: right;\">\n",
              "      <th></th>\n",
              "      <th>Venda Diaria</th>\n",
              "    </tr>\n",
              "  </thead>\n",
              "  <tbody>\n",
              "    <tr>\n",
              "      <th>count</th>\n",
              "      <td>10.000000</td>\n",
              "    </tr>\n",
              "    <tr>\n",
              "      <th>mean</th>\n",
              "      <td>24.000000</td>\n",
              "    </tr>\n",
              "    <tr>\n",
              "      <th>std</th>\n",
              "      <td>15.804359</td>\n",
              "    </tr>\n",
              "    <tr>\n",
              "      <th>min</th>\n",
              "      <td>9.000000</td>\n",
              "    </tr>\n",
              "    <tr>\n",
              "      <th>25%</th>\n",
              "      <td>10.250000</td>\n",
              "    </tr>\n",
              "    <tr>\n",
              "      <th>50%</th>\n",
              "      <td>19.000000</td>\n",
              "    </tr>\n",
              "    <tr>\n",
              "      <th>75%</th>\n",
              "      <td>35.750000</td>\n",
              "    </tr>\n",
              "    <tr>\n",
              "      <th>max</th>\n",
              "      <td>49.000000</td>\n",
              "    </tr>\n",
              "  </tbody>\n",
              "</table>\n",
              "</div>"
            ],
            "text/plain": [
              "       Venda Diaria\n",
              "count     10.000000\n",
              "mean      24.000000\n",
              "std       15.804359\n",
              "min        9.000000\n",
              "25%       10.250000\n",
              "50%       19.000000\n",
              "75%       35.750000\n",
              "max       49.000000"
            ]
          },
          "metadata": {},
          "execution_count": 59
        }
      ]
    },
    {
      "cell_type": "code",
      "metadata": {
        "colab": {
          "base_uri": "https://localhost:8080/"
        },
        "id": "w7H7LzGOpthn",
        "outputId": "ce11902c-3565-4086-b246-29aa9582bfab"
      },
      "source": [
        "dataset.var()"
      ],
      "execution_count": 60,
      "outputs": [
        {
          "output_type": "execute_result",
          "data": {
            "text/plain": [
              "Venda Diaria    249.777778\n",
              "dtype: float64"
            ]
          },
          "metadata": {},
          "execution_count": 60
        }
      ]
    },
    {
      "cell_type": "code",
      "metadata": {
        "colab": {
          "base_uri": "https://localhost:8080/",
          "height": 81
        },
        "id": "UfpyJW8Pp0_x",
        "outputId": "6c5d9613-0fb3-47da-ba50-aa846d208969"
      },
      "source": [
        "dataset.mode()"
      ],
      "execution_count": 62,
      "outputs": [
        {
          "output_type": "execute_result",
          "data": {
            "text/html": [
              "<div>\n",
              "<style scoped>\n",
              "    .dataframe tbody tr th:only-of-type {\n",
              "        vertical-align: middle;\n",
              "    }\n",
              "\n",
              "    .dataframe tbody tr th {\n",
              "        vertical-align: top;\n",
              "    }\n",
              "\n",
              "    .dataframe thead th {\n",
              "        text-align: right;\n",
              "    }\n",
              "</style>\n",
              "<table border=\"1\" class=\"dataframe\">\n",
              "  <thead>\n",
              "    <tr style=\"text-align: right;\">\n",
              "      <th></th>\n",
              "      <th>Venda Diaria</th>\n",
              "    </tr>\n",
              "  </thead>\n",
              "  <tbody>\n",
              "    <tr>\n",
              "      <th>0</th>\n",
              "      <td>9</td>\n",
              "    </tr>\n",
              "  </tbody>\n",
              "</table>\n",
              "</div>"
            ],
            "text/plain": [
              "   Venda Diaria\n",
              "0             9"
            ]
          },
          "metadata": {},
          "execution_count": 62
        }
      ]
    },
    {
      "cell_type": "code",
      "metadata": {
        "colab": {
          "base_uri": "https://localhost:8080/"
        },
        "id": "NeyIZzJkqtsG",
        "outputId": "17e4d03e-63fb-4138-b166-f4f684331a38"
      },
      "source": [
        "dataset.max()"
      ],
      "execution_count": 70,
      "outputs": [
        {
          "output_type": "execute_result",
          "data": {
            "text/plain": [
              "Venda Diaria    49\n",
              "dtype: int64"
            ]
          },
          "metadata": {},
          "execution_count": 70
        }
      ]
    },
    {
      "cell_type": "code",
      "metadata": {
        "colab": {
          "base_uri": "https://localhost:8080/"
        },
        "id": "5pd4Tg-Nqwag",
        "outputId": "2cef32df-873e-4d70-b9a9-f0b33a87dca1"
      },
      "source": [
        "dataset.min()"
      ],
      "execution_count": 77,
      "outputs": [
        {
          "output_type": "execute_result",
          "data": {
            "text/plain": [
              "Venda Diaria    9\n",
              "dtype: int64"
            ]
          },
          "metadata": {},
          "execution_count": 77
        }
      ]
    },
    {
      "cell_type": "code",
      "metadata": {
        "colab": {
          "base_uri": "https://localhost:8080/"
        },
        "id": "cfiDK_LUsL72",
        "outputId": "e00daeec-3c41-4682-b5bc-cfd5d8f514dc"
      },
      "source": [
        "dataset.loc[dataset['Venda Diaria'].idxmax()]\n",
        "#ou\n",
        "#dataset[dataset['Venda Diaria']==dataset['Venda Diaria'].max()]"
      ],
      "execution_count": 79,
      "outputs": [
        {
          "output_type": "execute_result",
          "data": {
            "text/plain": [
              "Venda Diaria    49\n",
              "Name: 2020-12-08 00:00:00, dtype: int64"
            ]
          },
          "metadata": {},
          "execution_count": 79
        }
      ]
    },
    {
      "cell_type": "code",
      "metadata": {
        "colab": {
          "base_uri": "https://localhost:8080/"
        },
        "id": "wwbWdoBhxlbt",
        "outputId": "a6f967af-2669-4141-8ae5-ac0e85c41bd8"
      },
      "source": [
        "dataset.loc[dataset['Venda Diaria'].idxmin()]\n",
        "#ou\n",
        "#dataset[dataset['Venda Diaria']==dataset['Venda Diaria'].min()]"
      ],
      "execution_count": 93,
      "outputs": [
        {
          "output_type": "execute_result",
          "data": {
            "text/plain": [
              "Venda Diaria    9\n",
              "Name: 2020-12-04 00:00:00, dtype: int64"
            ]
          },
          "metadata": {},
          "execution_count": 93
        }
      ]
    },
    {
      "cell_type": "markdown",
      "metadata": {
        "id": "QTJ9JdDb3knx"
      },
      "source": [
        "Exercício 4\n",
        "\n",
        "O objetivo deste exercício é identificar o perfil de cada consumidor de esteira da empresa CardioGoodFitness.\n",
        "\n",
        "\n",
        "Significado das colunas:\n",
        "\n",
        "    Product: produtos adquiridos;\n",
        "\n",
        "    Age: idade dos clientes, em anos;\n",
        "\n",
        "    Gender: gênero;\n",
        "\n",
        "    Education: educação em anos;\n",
        "\n",
        "    MaritalStatus: status civil;\n",
        "\n",
        "    Usage: número médio de vezes que o cliente planeja usar a esteira por semana;\n",
        "\n",
        "    Fitness: índice de autoavaliação fitness, em uma escala de 1 a 5, sendo 1 denotando má forma e 5 excelente forma;\n",
        "\n",
        "    Income: renda familiar anual;\n",
        "\n",
        "    Miles: número médio de milhas que cada cliente espera andar/correr por semana.\n",
        "\n",
        "Baixe o dataset anexo nesta aula.\n",
        "\n",
        "Com base nestas informações:\n",
        "\n",
        "    Leia o dataset e armazene em uma variável;\n",
        "\n",
        "    Mostre as 3 primeiras linhas do dataset;\n",
        "\n",
        "    Mostre as duas últimas linhas do dataset;\n",
        "\n",
        "    Mostre o shape do dataset;\n",
        "\n",
        "    Obtenha informações das colunas com o método info();\n",
        "\n",
        "    Mostre estatísticas descritivas das colunas numéricas;\n",
        "\n",
        "    Mostre o tipo de dado de cada coluna;\n",
        "\n",
        "    Converta o dtype da coluna Income para float."
      ]
    },
    {
      "cell_type": "code",
      "metadata": {
        "id": "NUo7RyQ83oUZ"
      },
      "source": [
        ""
      ],
      "execution_count": null,
      "outputs": []
    }
  ]
}