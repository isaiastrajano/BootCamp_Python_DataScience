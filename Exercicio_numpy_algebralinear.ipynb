{
  "nbformat": 4,
  "nbformat_minor": 0,
  "metadata": {
    "colab": {
      "name": "Exercicio_numpy_algebralinear.ipynb",
      "provenance": [],
      "collapsed_sections": [],
      "toc_visible": true,
      "authorship_tag": "ABX9TyNOrAxH+zH+aVjsvIhaFsTH",
      "include_colab_link": true
    },
    "kernelspec": {
      "display_name": "Python 3",
      "name": "python3"
    },
    "language_info": {
      "name": "python"
    }
  },
  "cells": [
    {
      "cell_type": "markdown",
      "metadata": {
        "id": "view-in-github",
        "colab_type": "text"
      },
      "source": [
        "<a href=\"https://colab.research.google.com/github/isaiastrajano/BootCamp_Python_DataScience/blob/main/Exercicio_numpy_algebralinear.ipynb\" target=\"_parent\"><img src=\"https://colab.research.google.com/assets/colab-badge.svg\" alt=\"Open In Colab\"/></a>"
      ]
    },
    {
      "cell_type": "code",
      "metadata": {
        "id": "kJno0SxsMvPC"
      },
      "source": [
        "import numpy as np"
      ],
      "execution_count": 1,
      "outputs": []
    },
    {
      "cell_type": "markdown",
      "metadata": {
        "id": "_BC_C3yjYAgF"
      },
      "source": [
        "# Exercício 1"
      ]
    },
    {
      "cell_type": "markdown",
      "metadata": {
        "id": "h7Wr25PLYFcg"
      },
      "source": [
        "Exercício 1"
      ]
    },
    {
      "cell_type": "code",
      "metadata": {
        "id": "Layt-dtqYG_a"
      },
      "source": [
        "a = [1, 2, 3, 2, 1, -1]"
      ],
      "execution_count": 2,
      "outputs": []
    },
    {
      "cell_type": "markdown",
      "metadata": {
        "id": "GkBvhH2BQAav"
      },
      "source": [
        "# Exercício 2"
      ]
    },
    {
      "cell_type": "markdown",
      "metadata": {
        "id": "oOJ1XT4cMcyz"
      },
      "source": [
        "Exercício 2"
      ]
    },
    {
      "cell_type": "code",
      "metadata": {
        "colab": {
          "base_uri": "https://localhost:8080/"
        },
        "id": "E2HeiSgqMTPl",
        "outputId": "fa022eb4-f550-4424-d9e7-79480cacc161"
      },
      "source": [
        "#a\n",
        "li = [0, 1, 2, 3, 4, 5, 6]\n",
        "e = np.array(li).reshape(7, 1)\n",
        "e"
      ],
      "execution_count": 3,
      "outputs": [
        {
          "output_type": "execute_result",
          "data": {
            "text/plain": [
              "array([[0],\n",
              "       [1],\n",
              "       [2],\n",
              "       [3],\n",
              "       [4],\n",
              "       [5],\n",
              "       [6]])"
            ]
          },
          "metadata": {},
          "execution_count": 3
        }
      ]
    },
    {
      "cell_type": "code",
      "metadata": {
        "colab": {
          "base_uri": "https://localhost:8080/"
        },
        "id": "QSJf9CM4NUp8",
        "outputId": "60bd4e9c-f980-4924-c5ba-101f83ba7f18"
      },
      "source": [
        "#b\n",
        "lf = [1, 0, 3, -10]\n",
        "f = np.array(lf)\n",
        "f"
      ],
      "execution_count": 4,
      "outputs": [
        {
          "output_type": "execute_result",
          "data": {
            "text/plain": [
              "array([  1,   0,   3, -10])"
            ]
          },
          "metadata": {},
          "execution_count": 4
        }
      ]
    },
    {
      "cell_type": "code",
      "metadata": {
        "colab": {
          "base_uri": "https://localhost:8080/"
        },
        "id": "G9o-OX-lPhLk",
        "outputId": "45b75369-0102-47f9-de91-488c66a7d7be"
      },
      "source": [
        "#c\n",
        "lg = [1, 2, 3, 4, 5]\n",
        "g = np.array(lg)\n",
        "g"
      ],
      "execution_count": 5,
      "outputs": [
        {
          "output_type": "execute_result",
          "data": {
            "text/plain": [
              "array([1, 2, 3, 4, 5])"
            ]
          },
          "metadata": {},
          "execution_count": 5
        }
      ]
    },
    {
      "cell_type": "markdown",
      "metadata": {
        "id": "ECpq8wGuQJPI"
      },
      "source": [
        "# Exercício 3"
      ]
    },
    {
      "cell_type": "markdown",
      "metadata": {
        "id": "BP7KM1VmQNBL"
      },
      "source": [
        "Exercício 3"
      ]
    },
    {
      "cell_type": "code",
      "metadata": {
        "colab": {
          "base_uri": "https://localhost:8080/"
        },
        "id": "z7F4YtsQQOGl",
        "outputId": "ef1c61a8-3a20-42b3-93d0-f3c6e6426319"
      },
      "source": [
        "#a\n",
        "la = [0, 0, 0, 0]\n",
        "a = np.array(la, dtype = int).reshape(2, 2)\n",
        "a"
      ],
      "execution_count": 14,
      "outputs": [
        {
          "output_type": "execute_result",
          "data": {
            "text/plain": [
              "array([[0, 0],\n",
              "       [0, 0]])"
            ]
          },
          "metadata": {},
          "execution_count": 14
        }
      ]
    },
    {
      "cell_type": "code",
      "metadata": {
        "colab": {
          "base_uri": "https://localhost:8080/"
        },
        "id": "SM0YNxaYQ6E_",
        "outputId": "54ed1f97-a2c5-4c22-ecf1-5393a913dc60"
      },
      "source": [
        "#b\n",
        "b = np.zeros(shape = (3, 5), dtype = int)\n",
        "b"
      ],
      "execution_count": 8,
      "outputs": [
        {
          "output_type": "execute_result",
          "data": {
            "text/plain": [
              "array([[0, 0, 0, 0, 0],\n",
              "       [0, 0, 0, 0, 0],\n",
              "       [0, 0, 0, 0, 0]])"
            ]
          },
          "metadata": {},
          "execution_count": 8
        }
      ]
    },
    {
      "cell_type": "code",
      "metadata": {
        "id": "kO8xT8l6VSjD",
        "colab": {
          "base_uri": "https://localhost:8080/"
        },
        "outputId": "d4932e7b-e290-4ec3-c241-aa099ae3dbbb"
      },
      "source": [
        "#c\n",
        "c = np.ones(shape = (5, 5), dtype = int)\n",
        "c"
      ],
      "execution_count": 9,
      "outputs": [
        {
          "output_type": "execute_result",
          "data": {
            "text/plain": [
              "array([[1, 1, 1, 1, 1],\n",
              "       [1, 1, 1, 1, 1],\n",
              "       [1, 1, 1, 1, 1],\n",
              "       [1, 1, 1, 1, 1],\n",
              "       [1, 1, 1, 1, 1]])"
            ]
          },
          "metadata": {},
          "execution_count": 9
        }
      ]
    },
    {
      "cell_type": "code",
      "metadata": {
        "colab": {
          "base_uri": "https://localhost:8080/"
        },
        "id": "X0z33WdHWMYE",
        "outputId": "85f3dd93-e8c2-4739-81ec-3d807eeb4a29"
      },
      "source": [
        "#d\n",
        "d = np.eye(2, dtype=int)\n",
        "d"
      ],
      "execution_count": 10,
      "outputs": [
        {
          "output_type": "execute_result",
          "data": {
            "text/plain": [
              "array([[1, 0],\n",
              "       [0, 1]])"
            ]
          },
          "metadata": {},
          "execution_count": 10
        }
      ]
    },
    {
      "cell_type": "code",
      "metadata": {
        "colab": {
          "base_uri": "https://localhost:8080/"
        },
        "id": "HnznjFxcWcwD",
        "outputId": "6bb0e593-f5e9-4749-e9a1-ef66b978d1b0"
      },
      "source": [
        "#e\n",
        "e = np.eye(3, k = 0, dtype = int)\n",
        "e"
      ],
      "execution_count": 11,
      "outputs": [
        {
          "output_type": "execute_result",
          "data": {
            "text/plain": [
              "array([[1, 0, 0],\n",
              "       [0, 1, 0],\n",
              "       [0, 0, 1]])"
            ]
          },
          "metadata": {},
          "execution_count": 11
        }
      ]
    },
    {
      "cell_type": "code",
      "metadata": {
        "colab": {
          "base_uri": "https://localhost:8080/"
        },
        "id": "_Ton8QC5XXjR",
        "outputId": "f6f9abd2-cde9-43b4-c17d-24749cb55407"
      },
      "source": [
        "#f\n",
        "f = np.eye(6, k = 0, dtype = int)\n",
        "f"
      ],
      "execution_count": 12,
      "outputs": [
        {
          "output_type": "execute_result",
          "data": {
            "text/plain": [
              "array([[1, 0, 0, 0, 0, 0],\n",
              "       [0, 1, 0, 0, 0, 0],\n",
              "       [0, 0, 1, 0, 0, 0],\n",
              "       [0, 0, 0, 1, 0, 0],\n",
              "       [0, 0, 0, 0, 1, 0],\n",
              "       [0, 0, 0, 0, 0, 1]])"
            ]
          },
          "metadata": {},
          "execution_count": 12
        }
      ]
    },
    {
      "cell_type": "markdown",
      "metadata": {
        "id": "2XT_yDrdXg7L"
      },
      "source": [
        "# Exercício 4"
      ]
    },
    {
      "cell_type": "markdown",
      "metadata": {
        "id": "NYTP5AD0Xk_e"
      },
      "source": [
        "Exercício 4"
      ]
    },
    {
      "cell_type": "code",
      "metadata": {
        "id": "E25ifJOOXmDS",
        "colab": {
          "base_uri": "https://localhost:8080/"
        },
        "outputId": "f453ec4b-d72a-4921-8b94-aa10d7f0261b"
      },
      "source": [
        "#a\n",
        "t = np.triu([[1,2,3],[4,5,6],[7,8,9]])\n",
        "t\n",
        "#função triu põe o zero abaixo"
      ],
      "execution_count": 116,
      "outputs": [
        {
          "output_type": "execute_result",
          "data": {
            "text/plain": [
              "array([[1, 2, 3],\n",
              "       [0, 5, 6],\n",
              "       [0, 0, 9]])"
            ]
          },
          "metadata": {},
          "execution_count": 116
        }
      ]
    },
    {
      "cell_type": "code",
      "metadata": {
        "colab": {
          "base_uri": "https://localhost:8080/"
        },
        "id": "0bAy_8K1n162",
        "outputId": "5a8b2d95-1ac8-473f-c1eb-9ca90ee4e1ec"
      },
      "source": [
        "#b\n",
        "t2 = np.tril([[1,2,3],[4,5,6],[7,8,9]])\n",
        "t2\n",
        "#função tril põe o zero acima"
      ],
      "execution_count": 118,
      "outputs": [
        {
          "output_type": "execute_result",
          "data": {
            "text/plain": [
              "array([[1, 0, 0],\n",
              "       [4, 5, 0],\n",
              "       [7, 8, 9]])"
            ]
          },
          "metadata": {},
          "execution_count": 118
        }
      ]
    },
    {
      "cell_type": "code",
      "metadata": {
        "colab": {
          "base_uri": "https://localhost:8080/"
        },
        "id": "-JzDRUd8oCV4",
        "outputId": "3a330869-7ec2-414b-b3b4-4839da48554b"
      },
      "source": [
        "#c\n",
        "t3d = np.arange(100, 125)\n",
        "t3 = np.triu(t3d.reshape(5, 5))\n",
        "t3"
      ],
      "execution_count": 119,
      "outputs": [
        {
          "output_type": "execute_result",
          "data": {
            "text/plain": [
              "array([[100, 101, 102, 103, 104],\n",
              "       [  0, 106, 107, 108, 109],\n",
              "       [  0,   0, 112, 113, 114],\n",
              "       [  0,   0,   0, 118, 119],\n",
              "       [  0,   0,   0,   0, 124]])"
            ]
          },
          "metadata": {},
          "execution_count": 119
        }
      ]
    },
    {
      "cell_type": "markdown",
      "metadata": {
        "id": "_vqmYlUYuDmE"
      },
      "source": [
        "# Exercício 5"
      ]
    },
    {
      "cell_type": "markdown",
      "metadata": {
        "id": "WK9izhBlvaQ0"
      },
      "source": [
        "de acordo com a documentação\n",
        "\n",
        "np.diag(x)\n",
        "\n",
        "array([0, 4, 8])\n",
        "\n",
        "np.diag(x, k=1)\n",
        "\n",
        "array([1, 5])\n",
        "\n",
        "np.diag(x, k=-1)\n",
        "\n",
        "array([3, 7])\n",
        "\n",
        "o comando n.diag(np.diag(x)) vai retornar a matriz com a matrix x em evidência"
      ]
    },
    {
      "cell_type": "markdown",
      "metadata": {
        "id": "sK-vYaozuIKI"
      },
      "source": [
        "Exercício 5"
      ]
    },
    {
      "cell_type": "code",
      "metadata": {
        "colab": {
          "base_uri": "https://localhost:8080/"
        },
        "id": "xYnl1_AmoB7F",
        "outputId": "bbb4991b-59b6-44b5-8373-e97ee11eca3b"
      },
      "source": [
        "#a\n",
        "x = [[7, 2, 3], [4, 1, 6], [7, 8, -1]]\n",
        "t5 = np.diag(np.diag(x))\n",
        "t5"
      ],
      "execution_count": 141,
      "outputs": [
        {
          "output_type": "execute_result",
          "data": {
            "text/plain": [
              "array([[ 7,  0,  0],\n",
              "       [ 0,  1,  0],\n",
              "       [ 0,  0, -1]])"
            ]
          },
          "metadata": {},
          "execution_count": 141
        }
      ]
    },
    {
      "cell_type": "code",
      "metadata": {
        "colab": {
          "base_uri": "https://localhost:8080/"
        },
        "id": "azhDBagOxK2d",
        "outputId": "1f9f0677-9f73-448e-e2f3-eb0850f959fa"
      },
      "source": [
        "#b\n",
        "t6 = np.full(16, 3).reshape(4, 4)\n",
        "t6 = np.diag(np.diag(t6))\n",
        "t6"
      ],
      "execution_count": 145,
      "outputs": [
        {
          "output_type": "execute_result",
          "data": {
            "text/plain": [
              "array([[3, 0, 0, 0],\n",
              "       [0, 3, 0, 0],\n",
              "       [0, 0, 3, 0],\n",
              "       [0, 0, 0, 3]])"
            ]
          },
          "metadata": {},
          "execution_count": 145
        }
      ]
    },
    {
      "cell_type": "code",
      "metadata": {
        "colab": {
          "base_uri": "https://localhost:8080/"
        },
        "id": "5Eo2SKSezX5y",
        "outputId": "35fc6215-4f03-43a7-bde1-af6e9607fda2"
      },
      "source": [
        "#c\n",
        "t7 = np.arange(-5, 0)\n",
        "t7 = np.triu(t7)\n",
        "t7 = np.diag(np.diag(t7))\n",
        "t7"
      ],
      "execution_count": 151,
      "outputs": [
        {
          "output_type": "execute_result",
          "data": {
            "text/plain": [
              "array([[-5,  0,  0,  0,  0],\n",
              "       [ 0, -4,  0,  0,  0],\n",
              "       [ 0,  0, -3,  0,  0],\n",
              "       [ 0,  0,  0, -2,  0],\n",
              "       [ 0,  0,  0,  0, -1]])"
            ]
          },
          "metadata": {},
          "execution_count": 151
        }
      ]
    },
    {
      "cell_type": "markdown",
      "metadata": {
        "id": "bjo6mhj91yOH"
      },
      "source": [
        "A resposta do exercício me lembrou que a função np.diag() vai trazer a o valor da diagonal numa matriz e preencher com 0 os valores restantes\n",
        "\n",
        "A = np.diag([7,1,-1])\n",
        "B = np.diag([3]*4)\n",
        "C = np.diag(range(-5,0))"
      ]
    }
  ]
}