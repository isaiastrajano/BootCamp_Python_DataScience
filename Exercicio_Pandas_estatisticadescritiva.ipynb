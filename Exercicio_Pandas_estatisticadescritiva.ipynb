{
  "nbformat": 4,
  "nbformat_minor": 0,
  "metadata": {
    "colab": {
      "name": "Exercicio_Pandas_estatisticadescritiva.ipynb",
      "provenance": [],
      "collapsed_sections": [],
      "toc_visible": true,
      "mount_file_id": "1dSgd2wsJfZIJSBIYd2YEqwGzYCDxqt-L",
      "authorship_tag": "ABX9TyO+UJTRPkdq6Ie2OtKnINKz",
      "include_colab_link": true
    },
    "kernelspec": {
      "name": "python3",
      "display_name": "Python 3"
    },
    "language_info": {
      "name": "python"
    }
  },
  "cells": [
    {
      "cell_type": "markdown",
      "metadata": {
        "id": "view-in-github",
        "colab_type": "text"
      },
      "source": [
        "<a href=\"https://colab.research.google.com/github/isaiastrajano/BootCamp_Python_DataScience/blob/main/Exercicio_Pandas_estatisticadescritiva.ipynb\" target=\"_parent\"><img src=\"https://colab.research.google.com/assets/colab-badge.svg\" alt=\"Open In Colab\"/></a>"
      ]
    },
    {
      "cell_type": "markdown",
      "metadata": {
        "id": "C8gn-7OcVhyW"
      },
      "source": [
        "Exercícios de estatística descritiva"
      ]
    },
    {
      "cell_type": "code",
      "metadata": {
        "id": "men68Xx-VVD9"
      },
      "source": [
        "import pandas as pd\n",
        "import numpy as np\n",
        "import matplotlib.pyplot as plt"
      ],
      "execution_count": null,
      "outputs": []
    },
    {
      "cell_type": "markdown",
      "metadata": {
        "id": "UAMsaDGKTe8i"
      },
      "source": [
        "# Exercicio 1"
      ]
    },
    {
      "cell_type": "markdown",
      "metadata": {
        "id": "924Y9aLrVhRM"
      },
      "source": [
        "\n",
        "\n",
        "Os dados abaixo referem-se a quantidade produzida de lavouras permanentes no Brasil, entre 2017 e 2019. Construa o DataFrame abaixo e seguidamente faça:\n",
        "\n",
        "a) obtenha a quantidade total produzida pelas lavouras em cada ano;\n",
        "\n",
        "b) obtenha a quantidade total produzida por cada lavoura ao longo do tempo;\n",
        "\n",
        "c) mostre um resumo das estatísticas descritivas;\n",
        "\n",
        "d) converta o banco de dados para csv."
      ]
    },
    {
      "cell_type": "code",
      "metadata": {
        "id": "Jd0TzIQ7GgUS"
      },
      "source": [
        "dados = { 'Abacate':{ 2017: 212873, 2018: 236177, 2019: 242932 }, 'Açaí':{ 2017:1335040, 2018:1301472, 2019:1398328 }, 'Banana':{ 2017:6584967, 2018:6723590, 2019:6812708 }, 'Cacau':{ 2017:235809, 2018:239318, 2019:259425 }, 'Laranja':{ 2017:17492882, 2018:16841549, 2019:17073593 }, 'Maçã':{ 2017:1307642, 2018:1203007, 2019:1222970 }, 'Mamão':{ 2017:1058487, 2018:1065421, 2019:1161808 }, 'Manga':{ 2017:1089882, 2018:1320458, 2019:1414338 }, }"
      ],
      "execution_count": null,
      "outputs": []
    },
    {
      "cell_type": "code",
      "metadata": {
        "colab": {
          "base_uri": "https://localhost:8080/"
        },
        "id": "zkxfIwFqVfoZ",
        "outputId": "08c0c918-9f1f-4d29-d98f-40c217b5b948"
      },
      "source": [
        "dados"
      ],
      "execution_count": null,
      "outputs": [
        {
          "output_type": "execute_result",
          "data": {
            "text/plain": [
              "{'Abacate': {2017: 212873, 2018: 236177, 2019: 242932},\n",
              " 'Açaí': {2017: 1335040, 2018: 1301472, 2019: 1398328},\n",
              " 'Banana': {2017: 6584967, 2018: 6723590, 2019: 6812708},\n",
              " 'Cacau': {2017: 235809, 2018: 239318, 2019: 259425},\n",
              " 'Laranja': {2017: 17492882, 2018: 16841549, 2019: 17073593},\n",
              " 'Mamão': {2017: 1058487, 2018: 1065421, 2019: 1161808},\n",
              " 'Manga': {2017: 1089882, 2018: 1320458, 2019: 1414338},\n",
              " 'Maçã': {2017: 1307642, 2018: 1203007, 2019: 1222970}}"
            ]
          },
          "metadata": {},
          "execution_count": 3
        }
      ]
    },
    {
      "cell_type": "code",
      "metadata": {
        "id": "QEmegXAogMfe"
      },
      "source": [
        "data = pd.DataFrame(dados)"
      ],
      "execution_count": null,
      "outputs": []
    },
    {
      "cell_type": "code",
      "metadata": {
        "colab": {
          "base_uri": "https://localhost:8080/",
          "height": 143
        },
        "id": "__puirqlg4Uc",
        "outputId": "8e7d77bd-2e38-4f1e-a836-165284dd00d1"
      },
      "source": [
        "#a\n",
        "data['total'] = data.sum(axis=1)\n",
        "#somando os valores do eixo x\n",
        "data"
      ],
      "execution_count": null,
      "outputs": [
        {
          "output_type": "execute_result",
          "data": {
            "text/html": [
              "<div>\n",
              "<style scoped>\n",
              "    .dataframe tbody tr th:only-of-type {\n",
              "        vertical-align: middle;\n",
              "    }\n",
              "\n",
              "    .dataframe tbody tr th {\n",
              "        vertical-align: top;\n",
              "    }\n",
              "\n",
              "    .dataframe thead th {\n",
              "        text-align: right;\n",
              "    }\n",
              "</style>\n",
              "<table border=\"1\" class=\"dataframe\">\n",
              "  <thead>\n",
              "    <tr style=\"text-align: right;\">\n",
              "      <th></th>\n",
              "      <th>Abacate</th>\n",
              "      <th>Açaí</th>\n",
              "      <th>Banana</th>\n",
              "      <th>Cacau</th>\n",
              "      <th>Laranja</th>\n",
              "      <th>Maçã</th>\n",
              "      <th>Mamão</th>\n",
              "      <th>Manga</th>\n",
              "      <th>total</th>\n",
              "    </tr>\n",
              "  </thead>\n",
              "  <tbody>\n",
              "    <tr>\n",
              "      <th>2017</th>\n",
              "      <td>212873</td>\n",
              "      <td>1335040</td>\n",
              "      <td>6584967</td>\n",
              "      <td>235809</td>\n",
              "      <td>17492882</td>\n",
              "      <td>1307642</td>\n",
              "      <td>1058487</td>\n",
              "      <td>1089882</td>\n",
              "      <td>29317582</td>\n",
              "    </tr>\n",
              "    <tr>\n",
              "      <th>2018</th>\n",
              "      <td>236177</td>\n",
              "      <td>1301472</td>\n",
              "      <td>6723590</td>\n",
              "      <td>239318</td>\n",
              "      <td>16841549</td>\n",
              "      <td>1203007</td>\n",
              "      <td>1065421</td>\n",
              "      <td>1320458</td>\n",
              "      <td>28930992</td>\n",
              "    </tr>\n",
              "    <tr>\n",
              "      <th>2019</th>\n",
              "      <td>242932</td>\n",
              "      <td>1398328</td>\n",
              "      <td>6812708</td>\n",
              "      <td>259425</td>\n",
              "      <td>17073593</td>\n",
              "      <td>1222970</td>\n",
              "      <td>1161808</td>\n",
              "      <td>1414338</td>\n",
              "      <td>29586102</td>\n",
              "    </tr>\n",
              "  </tbody>\n",
              "</table>\n",
              "</div>"
            ],
            "text/plain": [
              "      Abacate     Açaí   Banana   Cacau  ...     Maçã    Mamão    Manga     total\n",
              "2017   212873  1335040  6584967  235809  ...  1307642  1058487  1089882  29317582\n",
              "2018   236177  1301472  6723590  239318  ...  1203007  1065421  1320458  28930992\n",
              "2019   242932  1398328  6812708  259425  ...  1222970  1161808  1414338  29586102\n",
              "\n",
              "[3 rows x 9 columns]"
            ]
          },
          "metadata": {},
          "execution_count": 5
        }
      ]
    },
    {
      "cell_type": "code",
      "metadata": {
        "id": "nidR1drR55Yo",
        "colab": {
          "base_uri": "https://localhost:8080/",
          "height": 332
        },
        "outputId": "4770e7e7-fd47-491b-e499-5d02afa2a4a8"
      },
      "source": [
        "#b\n",
        "datat = data.T\n",
        "datat['total'] = datat.sum(axis=1)\n",
        "datat"
      ],
      "execution_count": null,
      "outputs": [
        {
          "output_type": "execute_result",
          "data": {
            "text/html": [
              "<div>\n",
              "<style scoped>\n",
              "    .dataframe tbody tr th:only-of-type {\n",
              "        vertical-align: middle;\n",
              "    }\n",
              "\n",
              "    .dataframe tbody tr th {\n",
              "        vertical-align: top;\n",
              "    }\n",
              "\n",
              "    .dataframe thead th {\n",
              "        text-align: right;\n",
              "    }\n",
              "</style>\n",
              "<table border=\"1\" class=\"dataframe\">\n",
              "  <thead>\n",
              "    <tr style=\"text-align: right;\">\n",
              "      <th></th>\n",
              "      <th>2017</th>\n",
              "      <th>2018</th>\n",
              "      <th>2019</th>\n",
              "      <th>total</th>\n",
              "    </tr>\n",
              "  </thead>\n",
              "  <tbody>\n",
              "    <tr>\n",
              "      <th>Abacate</th>\n",
              "      <td>212873</td>\n",
              "      <td>236177</td>\n",
              "      <td>242932</td>\n",
              "      <td>691982</td>\n",
              "    </tr>\n",
              "    <tr>\n",
              "      <th>Açaí</th>\n",
              "      <td>1335040</td>\n",
              "      <td>1301472</td>\n",
              "      <td>1398328</td>\n",
              "      <td>4034840</td>\n",
              "    </tr>\n",
              "    <tr>\n",
              "      <th>Banana</th>\n",
              "      <td>6584967</td>\n",
              "      <td>6723590</td>\n",
              "      <td>6812708</td>\n",
              "      <td>20121265</td>\n",
              "    </tr>\n",
              "    <tr>\n",
              "      <th>Cacau</th>\n",
              "      <td>235809</td>\n",
              "      <td>239318</td>\n",
              "      <td>259425</td>\n",
              "      <td>734552</td>\n",
              "    </tr>\n",
              "    <tr>\n",
              "      <th>Laranja</th>\n",
              "      <td>17492882</td>\n",
              "      <td>16841549</td>\n",
              "      <td>17073593</td>\n",
              "      <td>51408024</td>\n",
              "    </tr>\n",
              "    <tr>\n",
              "      <th>Maçã</th>\n",
              "      <td>1307642</td>\n",
              "      <td>1203007</td>\n",
              "      <td>1222970</td>\n",
              "      <td>3733619</td>\n",
              "    </tr>\n",
              "    <tr>\n",
              "      <th>Mamão</th>\n",
              "      <td>1058487</td>\n",
              "      <td>1065421</td>\n",
              "      <td>1161808</td>\n",
              "      <td>3285716</td>\n",
              "    </tr>\n",
              "    <tr>\n",
              "      <th>Manga</th>\n",
              "      <td>1089882</td>\n",
              "      <td>1320458</td>\n",
              "      <td>1414338</td>\n",
              "      <td>3824678</td>\n",
              "    </tr>\n",
              "    <tr>\n",
              "      <th>total</th>\n",
              "      <td>29317582</td>\n",
              "      <td>28930992</td>\n",
              "      <td>29586102</td>\n",
              "      <td>87834676</td>\n",
              "    </tr>\n",
              "  </tbody>\n",
              "</table>\n",
              "</div>"
            ],
            "text/plain": [
              "             2017      2018      2019     total\n",
              "Abacate    212873    236177    242932    691982\n",
              "Açaí      1335040   1301472   1398328   4034840\n",
              "Banana    6584967   6723590   6812708  20121265\n",
              "Cacau      235809    239318    259425    734552\n",
              "Laranja  17492882  16841549  17073593  51408024\n",
              "Maçã      1307642   1203007   1222970   3733619\n",
              "Mamão     1058487   1065421   1161808   3285716\n",
              "Manga     1089882   1320458   1414338   3824678\n",
              "total    29317582  28930992  29586102  87834676"
            ]
          },
          "metadata": {},
          "execution_count": 6
        }
      ]
    },
    {
      "cell_type": "code",
      "metadata": {
        "colab": {
          "base_uri": "https://localhost:8080/",
          "height": 320
        },
        "id": "5BjWRr5Qc9UF",
        "outputId": "dd9c626a-91fc-4d60-9ef3-cfc823a8f8d9"
      },
      "source": [
        "#c\n",
        "data.describe()"
      ],
      "execution_count": null,
      "outputs": [
        {
          "output_type": "execute_result",
          "data": {
            "text/html": [
              "<div>\n",
              "<style scoped>\n",
              "    .dataframe tbody tr th:only-of-type {\n",
              "        vertical-align: middle;\n",
              "    }\n",
              "\n",
              "    .dataframe tbody tr th {\n",
              "        vertical-align: top;\n",
              "    }\n",
              "\n",
              "    .dataframe thead th {\n",
              "        text-align: right;\n",
              "    }\n",
              "</style>\n",
              "<table border=\"1\" class=\"dataframe\">\n",
              "  <thead>\n",
              "    <tr style=\"text-align: right;\">\n",
              "      <th></th>\n",
              "      <th>Abacate</th>\n",
              "      <th>Açaí</th>\n",
              "      <th>Banana</th>\n",
              "      <th>Cacau</th>\n",
              "      <th>Laranja</th>\n",
              "      <th>Maçã</th>\n",
              "      <th>Mamão</th>\n",
              "      <th>Manga</th>\n",
              "      <th>total</th>\n",
              "    </tr>\n",
              "  </thead>\n",
              "  <tbody>\n",
              "    <tr>\n",
              "      <th>count</th>\n",
              "      <td>3.000000</td>\n",
              "      <td>3.000000e+00</td>\n",
              "      <td>3.000000e+00</td>\n",
              "      <td>3.000000</td>\n",
              "      <td>3.000000e+00</td>\n",
              "      <td>3.000000e+00</td>\n",
              "      <td>3.000000e+00</td>\n",
              "      <td>3.000000e+00</td>\n",
              "      <td>3.000000e+00</td>\n",
              "    </tr>\n",
              "    <tr>\n",
              "      <th>mean</th>\n",
              "      <td>230660.666667</td>\n",
              "      <td>1.344947e+06</td>\n",
              "      <td>6.707088e+06</td>\n",
              "      <td>244850.666667</td>\n",
              "      <td>1.713601e+07</td>\n",
              "      <td>1.244540e+06</td>\n",
              "      <td>1.095239e+06</td>\n",
              "      <td>1.274893e+06</td>\n",
              "      <td>2.927823e+07</td>\n",
              "    </tr>\n",
              "    <tr>\n",
              "      <th>std</th>\n",
              "      <td>15770.488906</td>\n",
              "      <td>4.918209e+04</td>\n",
              "      <td>1.147638e+05</td>\n",
              "      <td>12743.102618</td>\n",
              "      <td>3.301218e+05</td>\n",
              "      <td>5.555231e+04</td>\n",
              "      <td>5.775489e+04</td>\n",
              "      <td>1.669583e+05</td>\n",
              "      <td>3.293235e+05</td>\n",
              "    </tr>\n",
              "    <tr>\n",
              "      <th>min</th>\n",
              "      <td>212873.000000</td>\n",
              "      <td>1.301472e+06</td>\n",
              "      <td>6.584967e+06</td>\n",
              "      <td>235809.000000</td>\n",
              "      <td>1.684155e+07</td>\n",
              "      <td>1.203007e+06</td>\n",
              "      <td>1.058487e+06</td>\n",
              "      <td>1.089882e+06</td>\n",
              "      <td>2.893099e+07</td>\n",
              "    </tr>\n",
              "    <tr>\n",
              "      <th>25%</th>\n",
              "      <td>224525.000000</td>\n",
              "      <td>1.318256e+06</td>\n",
              "      <td>6.654278e+06</td>\n",
              "      <td>237563.500000</td>\n",
              "      <td>1.695757e+07</td>\n",
              "      <td>1.212988e+06</td>\n",
              "      <td>1.061954e+06</td>\n",
              "      <td>1.205170e+06</td>\n",
              "      <td>2.912429e+07</td>\n",
              "    </tr>\n",
              "    <tr>\n",
              "      <th>50%</th>\n",
              "      <td>236177.000000</td>\n",
              "      <td>1.335040e+06</td>\n",
              "      <td>6.723590e+06</td>\n",
              "      <td>239318.000000</td>\n",
              "      <td>1.707359e+07</td>\n",
              "      <td>1.222970e+06</td>\n",
              "      <td>1.065421e+06</td>\n",
              "      <td>1.320458e+06</td>\n",
              "      <td>2.931758e+07</td>\n",
              "    </tr>\n",
              "    <tr>\n",
              "      <th>75%</th>\n",
              "      <td>239554.500000</td>\n",
              "      <td>1.366684e+06</td>\n",
              "      <td>6.768149e+06</td>\n",
              "      <td>249371.500000</td>\n",
              "      <td>1.728324e+07</td>\n",
              "      <td>1.265306e+06</td>\n",
              "      <td>1.113614e+06</td>\n",
              "      <td>1.367398e+06</td>\n",
              "      <td>2.945184e+07</td>\n",
              "    </tr>\n",
              "    <tr>\n",
              "      <th>max</th>\n",
              "      <td>242932.000000</td>\n",
              "      <td>1.398328e+06</td>\n",
              "      <td>6.812708e+06</td>\n",
              "      <td>259425.000000</td>\n",
              "      <td>1.749288e+07</td>\n",
              "      <td>1.307642e+06</td>\n",
              "      <td>1.161808e+06</td>\n",
              "      <td>1.414338e+06</td>\n",
              "      <td>2.958610e+07</td>\n",
              "    </tr>\n",
              "  </tbody>\n",
              "</table>\n",
              "</div>"
            ],
            "text/plain": [
              "             Abacate          Açaí  ...         Manga         total\n",
              "count       3.000000  3.000000e+00  ...  3.000000e+00  3.000000e+00\n",
              "mean   230660.666667  1.344947e+06  ...  1.274893e+06  2.927823e+07\n",
              "std     15770.488906  4.918209e+04  ...  1.669583e+05  3.293235e+05\n",
              "min    212873.000000  1.301472e+06  ...  1.089882e+06  2.893099e+07\n",
              "25%    224525.000000  1.318256e+06  ...  1.205170e+06  2.912429e+07\n",
              "50%    236177.000000  1.335040e+06  ...  1.320458e+06  2.931758e+07\n",
              "75%    239554.500000  1.366684e+06  ...  1.367398e+06  2.945184e+07\n",
              "max    242932.000000  1.398328e+06  ...  1.414338e+06  2.958610e+07\n",
              "\n",
              "[8 rows x 9 columns]"
            ]
          },
          "metadata": {},
          "execution_count": 7
        }
      ]
    },
    {
      "cell_type": "code",
      "metadata": {
        "id": "lyVbh1pIk130"
      },
      "source": [
        "#d\n",
        "data.to_csv('dados_prod.csv', index = False)"
      ],
      "execution_count": null,
      "outputs": []
    },
    {
      "cell_type": "markdown",
      "metadata": {
        "id": "H7BFCyZqTpGj"
      },
      "source": [
        "# Exercício 2"
      ]
    },
    {
      "cell_type": "markdown",
      "metadata": {
        "id": "hVjBL-ROoC67"
      },
      "source": [
        "\n",
        "Com base no dataset anterior obtenha:\n",
        "\n",
        "a) média da quantidade total produzida das respectivas lavouras em 2017, 2018 e 2019;\n",
        "\n",
        "b) média da quantidade produzida de cada lavoura entre o período selecionado;\n",
        "\n",
        "c) desvio padrão da quantidade total produzida das respectivas lavouras em 2017, 2018 e 2019;\n",
        "\n",
        "d) desvio padrão da quantidade produzida de cada lavoura entre o período selecionado;\n",
        "\n",
        "e) variância da quantidade total produzida das respectivas lavouras em 2017, 2018 e 2019;"
      ]
    },
    {
      "cell_type": "code",
      "metadata": {
        "colab": {
          "base_uri": "https://localhost:8080/",
          "height": 332
        },
        "id": "Yn5yn8InmEKu",
        "outputId": "6a79e3a9-0bc1-4d61-bd87-1d764d101edc"
      },
      "source": [
        "#a\n",
        "datat.drop(labels = ['total'], axis = 1, inplace = True)\n",
        "datat['Média'] = datat.median(axis=1)\n",
        "datat"
      ],
      "execution_count": null,
      "outputs": [
        {
          "output_type": "execute_result",
          "data": {
            "text/html": [
              "<div>\n",
              "<style scoped>\n",
              "    .dataframe tbody tr th:only-of-type {\n",
              "        vertical-align: middle;\n",
              "    }\n",
              "\n",
              "    .dataframe tbody tr th {\n",
              "        vertical-align: top;\n",
              "    }\n",
              "\n",
              "    .dataframe thead th {\n",
              "        text-align: right;\n",
              "    }\n",
              "</style>\n",
              "<table border=\"1\" class=\"dataframe\">\n",
              "  <thead>\n",
              "    <tr style=\"text-align: right;\">\n",
              "      <th></th>\n",
              "      <th>2017</th>\n",
              "      <th>2018</th>\n",
              "      <th>2019</th>\n",
              "      <th>Média</th>\n",
              "    </tr>\n",
              "  </thead>\n",
              "  <tbody>\n",
              "    <tr>\n",
              "      <th>Abacate</th>\n",
              "      <td>212873</td>\n",
              "      <td>236177</td>\n",
              "      <td>242932</td>\n",
              "      <td>236177.0</td>\n",
              "    </tr>\n",
              "    <tr>\n",
              "      <th>Açaí</th>\n",
              "      <td>1335040</td>\n",
              "      <td>1301472</td>\n",
              "      <td>1398328</td>\n",
              "      <td>1335040.0</td>\n",
              "    </tr>\n",
              "    <tr>\n",
              "      <th>Banana</th>\n",
              "      <td>6584967</td>\n",
              "      <td>6723590</td>\n",
              "      <td>6812708</td>\n",
              "      <td>6723590.0</td>\n",
              "    </tr>\n",
              "    <tr>\n",
              "      <th>Cacau</th>\n",
              "      <td>235809</td>\n",
              "      <td>239318</td>\n",
              "      <td>259425</td>\n",
              "      <td>239318.0</td>\n",
              "    </tr>\n",
              "    <tr>\n",
              "      <th>Laranja</th>\n",
              "      <td>17492882</td>\n",
              "      <td>16841549</td>\n",
              "      <td>17073593</td>\n",
              "      <td>17073593.0</td>\n",
              "    </tr>\n",
              "    <tr>\n",
              "      <th>Maçã</th>\n",
              "      <td>1307642</td>\n",
              "      <td>1203007</td>\n",
              "      <td>1222970</td>\n",
              "      <td>1222970.0</td>\n",
              "    </tr>\n",
              "    <tr>\n",
              "      <th>Mamão</th>\n",
              "      <td>1058487</td>\n",
              "      <td>1065421</td>\n",
              "      <td>1161808</td>\n",
              "      <td>1065421.0</td>\n",
              "    </tr>\n",
              "    <tr>\n",
              "      <th>Manga</th>\n",
              "      <td>1089882</td>\n",
              "      <td>1320458</td>\n",
              "      <td>1414338</td>\n",
              "      <td>1320458.0</td>\n",
              "    </tr>\n",
              "    <tr>\n",
              "      <th>total</th>\n",
              "      <td>29317582</td>\n",
              "      <td>28930992</td>\n",
              "      <td>29586102</td>\n",
              "      <td>29317582.0</td>\n",
              "    </tr>\n",
              "  </tbody>\n",
              "</table>\n",
              "</div>"
            ],
            "text/plain": [
              "             2017      2018      2019       Média\n",
              "Abacate    212873    236177    242932    236177.0\n",
              "Açaí      1335040   1301472   1398328   1335040.0\n",
              "Banana    6584967   6723590   6812708   6723590.0\n",
              "Cacau      235809    239318    259425    239318.0\n",
              "Laranja  17492882  16841549  17073593  17073593.0\n",
              "Maçã      1307642   1203007   1222970   1222970.0\n",
              "Mamão     1058487   1065421   1161808   1065421.0\n",
              "Manga     1089882   1320458   1414338   1320458.0\n",
              "total    29317582  28930992  29586102  29317582.0"
            ]
          },
          "metadata": {},
          "execution_count": 9
        }
      ]
    },
    {
      "cell_type": "code",
      "metadata": {
        "id": "Qd8nc3VgsRXP",
        "colab": {
          "base_uri": "https://localhost:8080/",
          "height": 332
        },
        "outputId": "07b2f3db-397d-4497-c7e8-8d6295f7429a"
      },
      "source": [
        "#c\n",
        "#datat.drop(labels = ['Média'], axis = 1, inplace = True)\n",
        "#datat.drop(labels = ['total'], axis = 1, inplace = True)\n",
        "datat['Média Std'] = datat.std(axis=1)\n",
        "datat"
      ],
      "execution_count": null,
      "outputs": [
        {
          "output_type": "execute_result",
          "data": {
            "text/html": [
              "<div>\n",
              "<style scoped>\n",
              "    .dataframe tbody tr th:only-of-type {\n",
              "        vertical-align: middle;\n",
              "    }\n",
              "\n",
              "    .dataframe tbody tr th {\n",
              "        vertical-align: top;\n",
              "    }\n",
              "\n",
              "    .dataframe thead th {\n",
              "        text-align: right;\n",
              "    }\n",
              "</style>\n",
              "<table border=\"1\" class=\"dataframe\">\n",
              "  <thead>\n",
              "    <tr style=\"text-align: right;\">\n",
              "      <th></th>\n",
              "      <th>2017</th>\n",
              "      <th>2018</th>\n",
              "      <th>2019</th>\n",
              "      <th>Média</th>\n",
              "      <th>Média Std</th>\n",
              "    </tr>\n",
              "  </thead>\n",
              "  <tbody>\n",
              "    <tr>\n",
              "      <th>Abacate</th>\n",
              "      <td>212873</td>\n",
              "      <td>236177</td>\n",
              "      <td>242932</td>\n",
              "      <td>236177.0</td>\n",
              "      <td>13168.638132</td>\n",
              "    </tr>\n",
              "    <tr>\n",
              "      <th>Açaí</th>\n",
              "      <td>1335040</td>\n",
              "      <td>1301472</td>\n",
              "      <td>1398328</td>\n",
              "      <td>1335040.0</td>\n",
              "      <td>40461.347679</td>\n",
              "    </tr>\n",
              "    <tr>\n",
              "      <th>Banana</th>\n",
              "      <td>6584967</td>\n",
              "      <td>6723590</td>\n",
              "      <td>6812708</td>\n",
              "      <td>6723590.0</td>\n",
              "      <td>94066.763165</td>\n",
              "    </tr>\n",
              "    <tr>\n",
              "      <th>Cacau</th>\n",
              "      <td>235809</td>\n",
              "      <td>239318</td>\n",
              "      <td>259425</td>\n",
              "      <td>239318.0</td>\n",
              "      <td>10766.168136</td>\n",
              "    </tr>\n",
              "    <tr>\n",
              "      <th>Laranja</th>\n",
              "      <td>17492882</td>\n",
              "      <td>16841549</td>\n",
              "      <td>17073593</td>\n",
              "      <td>17073593.0</td>\n",
              "      <td>271343.884490</td>\n",
              "    </tr>\n",
              "    <tr>\n",
              "      <th>Maçã</th>\n",
              "      <td>1307642</td>\n",
              "      <td>1203007</td>\n",
              "      <td>1222970</td>\n",
              "      <td>1222970.0</td>\n",
              "      <td>46622.795865</td>\n",
              "    </tr>\n",
              "    <tr>\n",
              "      <th>Mamão</th>\n",
              "      <td>1058487</td>\n",
              "      <td>1065421</td>\n",
              "      <td>1161808</td>\n",
              "      <td>1065421.0</td>\n",
              "      <td>49457.302537</td>\n",
              "    </tr>\n",
              "    <tr>\n",
              "      <th>Manga</th>\n",
              "      <td>1089882</td>\n",
              "      <td>1320458</td>\n",
              "      <td>1414338</td>\n",
              "      <td>1320458.0</td>\n",
              "      <td>138211.549291</td>\n",
              "    </tr>\n",
              "    <tr>\n",
              "      <th>total</th>\n",
              "      <td>29317582</td>\n",
              "      <td>28930992</td>\n",
              "      <td>29586102</td>\n",
              "      <td>29317582.0</td>\n",
              "      <td>269610.637324</td>\n",
              "    </tr>\n",
              "  </tbody>\n",
              "</table>\n",
              "</div>"
            ],
            "text/plain": [
              "             2017      2018      2019       Média      Média Std\n",
              "Abacate    212873    236177    242932    236177.0   13168.638132\n",
              "Açaí      1335040   1301472   1398328   1335040.0   40461.347679\n",
              "Banana    6584967   6723590   6812708   6723590.0   94066.763165\n",
              "Cacau      235809    239318    259425    239318.0   10766.168136\n",
              "Laranja  17492882  16841549  17073593  17073593.0  271343.884490\n",
              "Maçã      1307642   1203007   1222970   1222970.0   46622.795865\n",
              "Mamão     1058487   1065421   1161808   1065421.0   49457.302537\n",
              "Manga     1089882   1320458   1414338   1320458.0  138211.549291\n",
              "total    29317582  28930992  29586102  29317582.0  269610.637324"
            ]
          },
          "metadata": {},
          "execution_count": 10
        }
      ]
    },
    {
      "cell_type": "code",
      "metadata": {
        "colab": {
          "base_uri": "https://localhost:8080/",
          "height": 332
        },
        "id": "ERWWpFYuhUAs",
        "outputId": "f29a87e8-2670-40ce-9c8a-6def73db1cae"
      },
      "source": [
        "#e\n",
        "#datat.drop(labels = ['Média Std'], axis = 1, inplace = True)\n",
        "datat['Variancia'] = np.var(datat, axis = 1)\n",
        "datat"
      ],
      "execution_count": null,
      "outputs": [
        {
          "output_type": "execute_result",
          "data": {
            "text/html": [
              "<div>\n",
              "<style scoped>\n",
              "    .dataframe tbody tr th:only-of-type {\n",
              "        vertical-align: middle;\n",
              "    }\n",
              "\n",
              "    .dataframe tbody tr th {\n",
              "        vertical-align: top;\n",
              "    }\n",
              "\n",
              "    .dataframe thead th {\n",
              "        text-align: right;\n",
              "    }\n",
              "</style>\n",
              "<table border=\"1\" class=\"dataframe\">\n",
              "  <thead>\n",
              "    <tr style=\"text-align: right;\">\n",
              "      <th></th>\n",
              "      <th>2017</th>\n",
              "      <th>2018</th>\n",
              "      <th>2019</th>\n",
              "      <th>Média</th>\n",
              "      <th>Média Std</th>\n",
              "      <th>Variancia</th>\n",
              "    </tr>\n",
              "  </thead>\n",
              "  <tbody>\n",
              "    <tr>\n",
              "      <th>Abacate</th>\n",
              "      <td>212873</td>\n",
              "      <td>236177</td>\n",
              "      <td>242932</td>\n",
              "      <td>236177.0</td>\n",
              "      <td>13168.638132</td>\n",
              "      <td>7.768778e+09</td>\n",
              "    </tr>\n",
              "    <tr>\n",
              "      <th>Açaí</th>\n",
              "      <td>1335040</td>\n",
              "      <td>1301472</td>\n",
              "      <td>1398328</td>\n",
              "      <td>1335040.0</td>\n",
              "      <td>40461.347679</td>\n",
              "      <td>2.722185e+11</td>\n",
              "    </tr>\n",
              "    <tr>\n",
              "      <th>Banana</th>\n",
              "      <td>6584967</td>\n",
              "      <td>6723590</td>\n",
              "      <td>6812708</td>\n",
              "      <td>6723590.0</td>\n",
              "      <td>94066.763165</td>\n",
              "      <td>7.011171e+12</td>\n",
              "    </tr>\n",
              "    <tr>\n",
              "      <th>Cacau</th>\n",
              "      <td>235809</td>\n",
              "      <td>239318</td>\n",
              "      <td>259425</td>\n",
              "      <td>239318.0</td>\n",
              "      <td>10766.168136</td>\n",
              "      <td>8.733532e+09</td>\n",
              "    </tr>\n",
              "    <tr>\n",
              "      <th>Laranja</th>\n",
              "      <td>17492882</td>\n",
              "      <td>16841549</td>\n",
              "      <td>17073593</td>\n",
              "      <td>17073593.0</td>\n",
              "      <td>271343.884490</td>\n",
              "      <td>4.546671e+13</td>\n",
              "    </tr>\n",
              "    <tr>\n",
              "      <th>Maçã</th>\n",
              "      <td>1307642</td>\n",
              "      <td>1203007</td>\n",
              "      <td>1222970</td>\n",
              "      <td>1222970.0</td>\n",
              "      <td>46622.795865</td>\n",
              "      <td>2.288425e+11</td>\n",
              "    </tr>\n",
              "    <tr>\n",
              "      <th>Mamão</th>\n",
              "      <td>1058487</td>\n",
              "      <td>1065421</td>\n",
              "      <td>1161808</td>\n",
              "      <td>1065421.0</td>\n",
              "      <td>49457.302537</td>\n",
              "      <td>1.739673e+11</td>\n",
              "    </tr>\n",
              "    <tr>\n",
              "      <th>Manga</th>\n",
              "      <td>1089882</td>\n",
              "      <td>1320458</td>\n",
              "      <td>1414338</td>\n",
              "      <td>1320458.0</td>\n",
              "      <td>138211.549291</td>\n",
              "      <td>2.223527e+11</td>\n",
              "    </tr>\n",
              "    <tr>\n",
              "      <th>total</th>\n",
              "      <td>29317582</td>\n",
              "      <td>28930992</td>\n",
              "      <td>29586102</td>\n",
              "      <td>29317582.0</td>\n",
              "      <td>269610.637324</td>\n",
              "      <td>1.347749e+14</td>\n",
              "    </tr>\n",
              "  </tbody>\n",
              "</table>\n",
              "</div>"
            ],
            "text/plain": [
              "             2017      2018      2019       Média      Média Std     Variancia\n",
              "Abacate    212873    236177    242932    236177.0   13168.638132  7.768778e+09\n",
              "Açaí      1335040   1301472   1398328   1335040.0   40461.347679  2.722185e+11\n",
              "Banana    6584967   6723590   6812708   6723590.0   94066.763165  7.011171e+12\n",
              "Cacau      235809    239318    259425    239318.0   10766.168136  8.733532e+09\n",
              "Laranja  17492882  16841549  17073593  17073593.0  271343.884490  4.546671e+13\n",
              "Maçã      1307642   1203007   1222970   1222970.0   46622.795865  2.288425e+11\n",
              "Mamão     1058487   1065421   1161808   1065421.0   49457.302537  1.739673e+11\n",
              "Manga     1089882   1320458   1414338   1320458.0  138211.549291  2.223527e+11\n",
              "total    29317582  28930992  29586102  29317582.0  269610.637324  1.347749e+14"
            ]
          },
          "metadata": {},
          "execution_count": 11
        }
      ]
    },
    {
      "cell_type": "markdown",
      "metadata": {
        "id": "9zLGygrjTv2L"
      },
      "source": [
        "# Exercício 3"
      ]
    },
    {
      "cell_type": "markdown",
      "metadata": {
        "id": "TeLwQHwWifzV"
      },
      "source": [
        "Calcule e imprima na tela:\n",
        "\n",
        "a) média das vendas diárias;\n",
        "\n",
        "b) desvio padrão;\n",
        "\n",
        "c) variância;\n",
        "\n",
        "d) moda;\n",
        "\n",
        "e) quantidade total vendida no período;\n",
        "\n",
        "f) valor máximo de vendas e o dia respectivo;\n",
        "\n",
        "g) valor mínimo de vendas e o dia rescpetivo."
      ]
    },
    {
      "cell_type": "code",
      "metadata": {
        "colab": {
          "base_uri": "https://localhost:8080/",
          "height": 363
        },
        "id": "BMhGOYd7l0PC",
        "outputId": "66139773-9b86-414c-fd81-d4d2991670de"
      },
      "source": [
        "#criando o dataset\n",
        "datalista = pd.date_range(start ='12-1-2020', end ='12-10-2020')\n",
        "vendas = [10, 38, 47, 9, 11, 9, 21, 49, 17, 29]\n",
        "dataset = pd.DataFrame(index = datalista, data = vendas)\n",
        "dataset.rename({0: 'Venda Diaria'}, axis = 1, inplace = True)\n",
        "dataset"
      ],
      "execution_count": null,
      "outputs": [
        {
          "output_type": "execute_result",
          "data": {
            "text/html": [
              "<div>\n",
              "<style scoped>\n",
              "    .dataframe tbody tr th:only-of-type {\n",
              "        vertical-align: middle;\n",
              "    }\n",
              "\n",
              "    .dataframe tbody tr th {\n",
              "        vertical-align: top;\n",
              "    }\n",
              "\n",
              "    .dataframe thead th {\n",
              "        text-align: right;\n",
              "    }\n",
              "</style>\n",
              "<table border=\"1\" class=\"dataframe\">\n",
              "  <thead>\n",
              "    <tr style=\"text-align: right;\">\n",
              "      <th></th>\n",
              "      <th>Venda Diaria</th>\n",
              "    </tr>\n",
              "  </thead>\n",
              "  <tbody>\n",
              "    <tr>\n",
              "      <th>2020-12-01</th>\n",
              "      <td>10</td>\n",
              "    </tr>\n",
              "    <tr>\n",
              "      <th>2020-12-02</th>\n",
              "      <td>38</td>\n",
              "    </tr>\n",
              "    <tr>\n",
              "      <th>2020-12-03</th>\n",
              "      <td>47</td>\n",
              "    </tr>\n",
              "    <tr>\n",
              "      <th>2020-12-04</th>\n",
              "      <td>9</td>\n",
              "    </tr>\n",
              "    <tr>\n",
              "      <th>2020-12-05</th>\n",
              "      <td>11</td>\n",
              "    </tr>\n",
              "    <tr>\n",
              "      <th>2020-12-06</th>\n",
              "      <td>9</td>\n",
              "    </tr>\n",
              "    <tr>\n",
              "      <th>2020-12-07</th>\n",
              "      <td>21</td>\n",
              "    </tr>\n",
              "    <tr>\n",
              "      <th>2020-12-08</th>\n",
              "      <td>49</td>\n",
              "    </tr>\n",
              "    <tr>\n",
              "      <th>2020-12-09</th>\n",
              "      <td>17</td>\n",
              "    </tr>\n",
              "    <tr>\n",
              "      <th>2020-12-10</th>\n",
              "      <td>29</td>\n",
              "    </tr>\n",
              "  </tbody>\n",
              "</table>\n",
              "</div>"
            ],
            "text/plain": [
              "            Venda Diaria\n",
              "2020-12-01            10\n",
              "2020-12-02            38\n",
              "2020-12-03            47\n",
              "2020-12-04             9\n",
              "2020-12-05            11\n",
              "2020-12-06             9\n",
              "2020-12-07            21\n",
              "2020-12-08            49\n",
              "2020-12-09            17\n",
              "2020-12-10            29"
            ]
          },
          "metadata": {},
          "execution_count": 12
        }
      ]
    },
    {
      "cell_type": "code",
      "metadata": {
        "colab": {
          "base_uri": "https://localhost:8080/",
          "height": 300
        },
        "id": "eiPxZdGgm8vq",
        "outputId": "f5ab7394-0750-4bfa-f725-47b70cd58293"
      },
      "source": [
        "#a, b\n",
        "dataset.describe()"
      ],
      "execution_count": null,
      "outputs": [
        {
          "output_type": "execute_result",
          "data": {
            "text/html": [
              "<div>\n",
              "<style scoped>\n",
              "    .dataframe tbody tr th:only-of-type {\n",
              "        vertical-align: middle;\n",
              "    }\n",
              "\n",
              "    .dataframe tbody tr th {\n",
              "        vertical-align: top;\n",
              "    }\n",
              "\n",
              "    .dataframe thead th {\n",
              "        text-align: right;\n",
              "    }\n",
              "</style>\n",
              "<table border=\"1\" class=\"dataframe\">\n",
              "  <thead>\n",
              "    <tr style=\"text-align: right;\">\n",
              "      <th></th>\n",
              "      <th>Venda Diaria</th>\n",
              "    </tr>\n",
              "  </thead>\n",
              "  <tbody>\n",
              "    <tr>\n",
              "      <th>count</th>\n",
              "      <td>10.000000</td>\n",
              "    </tr>\n",
              "    <tr>\n",
              "      <th>mean</th>\n",
              "      <td>24.000000</td>\n",
              "    </tr>\n",
              "    <tr>\n",
              "      <th>std</th>\n",
              "      <td>15.804359</td>\n",
              "    </tr>\n",
              "    <tr>\n",
              "      <th>min</th>\n",
              "      <td>9.000000</td>\n",
              "    </tr>\n",
              "    <tr>\n",
              "      <th>25%</th>\n",
              "      <td>10.250000</td>\n",
              "    </tr>\n",
              "    <tr>\n",
              "      <th>50%</th>\n",
              "      <td>19.000000</td>\n",
              "    </tr>\n",
              "    <tr>\n",
              "      <th>75%</th>\n",
              "      <td>35.750000</td>\n",
              "    </tr>\n",
              "    <tr>\n",
              "      <th>max</th>\n",
              "      <td>49.000000</td>\n",
              "    </tr>\n",
              "  </tbody>\n",
              "</table>\n",
              "</div>"
            ],
            "text/plain": [
              "       Venda Diaria\n",
              "count     10.000000\n",
              "mean      24.000000\n",
              "std       15.804359\n",
              "min        9.000000\n",
              "25%       10.250000\n",
              "50%       19.000000\n",
              "75%       35.750000\n",
              "max       49.000000"
            ]
          },
          "metadata": {},
          "execution_count": 13
        }
      ]
    },
    {
      "cell_type": "code",
      "metadata": {
        "colab": {
          "base_uri": "https://localhost:8080/"
        },
        "id": "w7H7LzGOpthn",
        "outputId": "6efb16c6-4d08-4843-969c-8645eb1e6023"
      },
      "source": [
        "dataset.var()"
      ],
      "execution_count": null,
      "outputs": [
        {
          "output_type": "execute_result",
          "data": {
            "text/plain": [
              "Venda Diaria    249.777778\n",
              "dtype: float64"
            ]
          },
          "metadata": {},
          "execution_count": 14
        }
      ]
    },
    {
      "cell_type": "code",
      "metadata": {
        "colab": {
          "base_uri": "https://localhost:8080/",
          "height": 81
        },
        "id": "UfpyJW8Pp0_x",
        "outputId": "8af4c776-1474-44e0-f423-4a1989988790"
      },
      "source": [
        "dataset.mode()"
      ],
      "execution_count": null,
      "outputs": [
        {
          "output_type": "execute_result",
          "data": {
            "text/html": [
              "<div>\n",
              "<style scoped>\n",
              "    .dataframe tbody tr th:only-of-type {\n",
              "        vertical-align: middle;\n",
              "    }\n",
              "\n",
              "    .dataframe tbody tr th {\n",
              "        vertical-align: top;\n",
              "    }\n",
              "\n",
              "    .dataframe thead th {\n",
              "        text-align: right;\n",
              "    }\n",
              "</style>\n",
              "<table border=\"1\" class=\"dataframe\">\n",
              "  <thead>\n",
              "    <tr style=\"text-align: right;\">\n",
              "      <th></th>\n",
              "      <th>Venda Diaria</th>\n",
              "    </tr>\n",
              "  </thead>\n",
              "  <tbody>\n",
              "    <tr>\n",
              "      <th>0</th>\n",
              "      <td>9</td>\n",
              "    </tr>\n",
              "  </tbody>\n",
              "</table>\n",
              "</div>"
            ],
            "text/plain": [
              "   Venda Diaria\n",
              "0             9"
            ]
          },
          "metadata": {},
          "execution_count": 15
        }
      ]
    },
    {
      "cell_type": "code",
      "metadata": {
        "colab": {
          "base_uri": "https://localhost:8080/"
        },
        "id": "NeyIZzJkqtsG",
        "outputId": "e8890f0c-10d4-4e5f-c65f-762644fd49b0"
      },
      "source": [
        "dataset.max()"
      ],
      "execution_count": null,
      "outputs": [
        {
          "output_type": "execute_result",
          "data": {
            "text/plain": [
              "Venda Diaria    49\n",
              "dtype: int64"
            ]
          },
          "metadata": {},
          "execution_count": 16
        }
      ]
    },
    {
      "cell_type": "code",
      "metadata": {
        "colab": {
          "base_uri": "https://localhost:8080/"
        },
        "id": "5pd4Tg-Nqwag",
        "outputId": "8c5e4647-afc6-4e97-cb18-a48ac55aedae"
      },
      "source": [
        "dataset.min()"
      ],
      "execution_count": null,
      "outputs": [
        {
          "output_type": "execute_result",
          "data": {
            "text/plain": [
              "Venda Diaria    9\n",
              "dtype: int64"
            ]
          },
          "metadata": {},
          "execution_count": 17
        }
      ]
    },
    {
      "cell_type": "code",
      "metadata": {
        "colab": {
          "base_uri": "https://localhost:8080/"
        },
        "id": "cfiDK_LUsL72",
        "outputId": "8a999673-bd99-4cc4-cbde-d51085684904"
      },
      "source": [
        "dataset.loc[dataset['Venda Diaria'].idxmax()]\n",
        "#ou\n",
        "#dataset[dataset['Venda Diaria']==dataset['Venda Diaria'].max()]"
      ],
      "execution_count": null,
      "outputs": [
        {
          "output_type": "execute_result",
          "data": {
            "text/plain": [
              "Venda Diaria    49\n",
              "Name: 2020-12-08 00:00:00, dtype: int64"
            ]
          },
          "metadata": {},
          "execution_count": 18
        }
      ]
    },
    {
      "cell_type": "code",
      "metadata": {
        "colab": {
          "base_uri": "https://localhost:8080/"
        },
        "id": "wwbWdoBhxlbt",
        "outputId": "a17d7595-833c-4395-b011-71d0c76ac037"
      },
      "source": [
        "dataset.loc[dataset['Venda Diaria'].idxmin()]\n",
        "#ou\n",
        "#dataset[dataset['Venda Diaria']==dataset['Venda Diaria'].min()]"
      ],
      "execution_count": null,
      "outputs": [
        {
          "output_type": "execute_result",
          "data": {
            "text/plain": [
              "Venda Diaria    9\n",
              "Name: 2020-12-04 00:00:00, dtype: int64"
            ]
          },
          "metadata": {},
          "execution_count": 19
        }
      ]
    },
    {
      "cell_type": "markdown",
      "metadata": {
        "id": "WGX_70diSoOv"
      },
      "source": [
        "Resposta do curso\n",
        "\n",
        "print('Estatísticas descritivas das vendas diárias'.center(100, ' '))\n",
        "\n",
        "print(f'\\tMédia das vendas diárias: {df.mean()[0]}')\n",
        "\n",
        "print(f'\\tDesvio padrão das vendas: {df.std()[0].round(2)}')\n",
        "\n",
        "print(f'\\tVariância das vendas: {df.var()[0].round(2)}')\n",
        "\n",
        "print(f'\\tValor modal: {df.mode().iloc[0][0]}')\n",
        "\n",
        "print(f'\\tQuantidade vendida no período: {df.sum()[0]}')\n",
        "\n",
        "print(f'\\tValor máximo: {df.max()[0]}')\n",
        "\n",
        "print(f\"\\t\\tDia: {data_valor_max.strftime('%d/%m/%Y')}\")\n",
        "\n",
        "print(f'\\tValor mínimo: {df.min()[0]}')\n",
        "\n",
        "print(f\"\\t\\tDia: {data_valor_min.strftime('%d/%m/%Y')}\")\n"
      ]
    },
    {
      "cell_type": "markdown",
      "metadata": {
        "id": "Ul_2RRrvT2vL"
      },
      "source": [
        "# Exercício 4"
      ]
    },
    {
      "cell_type": "markdown",
      "metadata": {
        "id": "QTJ9JdDb3knx"
      },
      "source": [
        "O objetivo deste exercício é identificar o perfil de cada consumidor de esteira da empresa CardioGoodFitness.\n",
        "\n",
        "Significado das colunas:\n",
        "\n",
        "Product: produtos adquiridos;\n",
        "Age: idade dos clientes, em anos;\n",
        "\n",
        "Gender: gênero;\n",
        "\n",
        "Education: educação em anos;\n",
        "\n",
        "MaritalStatus: status civil;\n",
        "\n",
        "Usage: número médio de vezes que o cliente planeja usar a esteira por semana;\n",
        "\n",
        "Fitness: índice de autoavaliação fitness, em uma escala de 1 a 5, sendo 1 denotando má forma e 5 excelente forma;\n",
        "\n",
        "Income: renda familiar anual;\n",
        "\n",
        "Miles: número médio de milhas que cada cliente espera andar/correr por semana.\n",
        "\n",
        "Com base nestas informações:\n",
        "\n",
        "Leia o dataset e armazene em uma variável;\n",
        "\n",
        "Mostre as 3 primeiras linhas do dataset;\n",
        "\n",
        "Mostre as duas últimas linhas do dataset;\n",
        "\n",
        "Mostre o shape do dataset;\n",
        "\n",
        "Obtenha informações das colunas com o método info();\n",
        "\n",
        "Mostre estatísticas descritivas das colunas numéricas;\n",
        "\n",
        "Mostre o tipo de dado de cada coluna;\n",
        "\n",
        "Converta o dtype da coluna Income para float."
      ]
    },
    {
      "cell_type": "code",
      "metadata": {
        "id": "NUo7RyQ83oUZ",
        "colab": {
          "base_uri": "https://localhost:8080/"
        },
        "outputId": "e28b4e7c-9c90-4838-f8fa-0ee9d30f5f40"
      },
      "source": [
        "%cd ..\n",
        "from google.colab import drive\n",
        "drive.mount('/content/gdrive')"
      ],
      "execution_count": null,
      "outputs": [
        {
          "output_type": "stream",
          "name": "stdout",
          "text": [
            "/\n",
            "Mounted at /content/gdrive\n"
          ]
        }
      ]
    },
    {
      "cell_type": "code",
      "metadata": {
        "colab": {
          "base_uri": "https://localhost:8080/"
        },
        "id": "BoymUjXgFyWP",
        "outputId": "3b5cfc04-92b5-402c-99df-997732f910e8"
      },
      "source": [
        "!ln -s /content/gdrive/My\\ Drive/ /mydrive\n",
        "!ls /mydrive"
      ],
      "execution_count": null,
      "outputs": [
        {
          "output_type": "stream",
          "name": "stdout",
          "text": [
            "ln: failed to create symbolic link '/mydrive/My Drive': File exists\n",
            "'Bakcup de fotos'\t\t\t\t       kaggle_titanic\n",
            "'Colab Notebooks'\t\t\t\t      'Material estudo'\n",
            "'Conteúdo profissional'\t\t\t\t      'Minhas fotos'\n",
            "'Copy of Aula de Machine Learning_Kmeans_IGTI.ipynb'  'My Drive'\n",
            " Currículo.gdoc\t\t\t\t\t      'Rascunho Curriculo.gdoc'\n",
            "'Ds160 wesley.pdf'\n"
          ]
        }
      ]
    },
    {
      "cell_type": "code",
      "metadata": {
        "colab": {
          "base_uri": "https://localhost:8080/"
        },
        "id": "8-3LWJ11F37O",
        "outputId": "cb541bad-d8fa-4f8f-e138-c57380063305"
      },
      "source": [
        "!ls /mydrive/kaggle_titanic/dataset/"
      ],
      "execution_count": null,
      "outputs": [
        {
          "output_type": "stream",
          "name": "stdout",
          "text": [
            "CardioGoodFitness.csv  gender_submission.csv  test.csv\ttrain.csv\n"
          ]
        }
      ]
    },
    {
      "cell_type": "code",
      "metadata": {
        "id": "4EPJ8V8lHCC5"
      },
      "source": [
        "dt = pd.read_csv(\"/mydrive/kaggle_titanic/dataset/CardioGoodFitness.csv\")"
      ],
      "execution_count": null,
      "outputs": []
    },
    {
      "cell_type": "code",
      "metadata": {
        "colab": {
          "base_uri": "https://localhost:8080/",
          "height": 143
        },
        "id": "n6FdiCdRHQ60",
        "outputId": "3fbbbc03-f399-4920-e6bc-58e700afc36f"
      },
      "source": [
        "dt.head(3)"
      ],
      "execution_count": null,
      "outputs": [
        {
          "output_type": "execute_result",
          "data": {
            "text/html": [
              "<div>\n",
              "<style scoped>\n",
              "    .dataframe tbody tr th:only-of-type {\n",
              "        vertical-align: middle;\n",
              "    }\n",
              "\n",
              "    .dataframe tbody tr th {\n",
              "        vertical-align: top;\n",
              "    }\n",
              "\n",
              "    .dataframe thead th {\n",
              "        text-align: right;\n",
              "    }\n",
              "</style>\n",
              "<table border=\"1\" class=\"dataframe\">\n",
              "  <thead>\n",
              "    <tr style=\"text-align: right;\">\n",
              "      <th></th>\n",
              "      <th>Product</th>\n",
              "      <th>Age</th>\n",
              "      <th>Gender</th>\n",
              "      <th>Education</th>\n",
              "      <th>MaritalStatus</th>\n",
              "      <th>Usage</th>\n",
              "      <th>Fitness</th>\n",
              "      <th>Income</th>\n",
              "      <th>Miles</th>\n",
              "    </tr>\n",
              "  </thead>\n",
              "  <tbody>\n",
              "    <tr>\n",
              "      <th>0</th>\n",
              "      <td>TM195</td>\n",
              "      <td>18</td>\n",
              "      <td>Male</td>\n",
              "      <td>14</td>\n",
              "      <td>Single</td>\n",
              "      <td>3</td>\n",
              "      <td>4</td>\n",
              "      <td>29562</td>\n",
              "      <td>112</td>\n",
              "    </tr>\n",
              "    <tr>\n",
              "      <th>1</th>\n",
              "      <td>TM195</td>\n",
              "      <td>19</td>\n",
              "      <td>Male</td>\n",
              "      <td>15</td>\n",
              "      <td>Single</td>\n",
              "      <td>2</td>\n",
              "      <td>3</td>\n",
              "      <td>31836</td>\n",
              "      <td>75</td>\n",
              "    </tr>\n",
              "    <tr>\n",
              "      <th>2</th>\n",
              "      <td>TM195</td>\n",
              "      <td>19</td>\n",
              "      <td>Female</td>\n",
              "      <td>14</td>\n",
              "      <td>Partnered</td>\n",
              "      <td>4</td>\n",
              "      <td>3</td>\n",
              "      <td>30699</td>\n",
              "      <td>66</td>\n",
              "    </tr>\n",
              "  </tbody>\n",
              "</table>\n",
              "</div>"
            ],
            "text/plain": [
              "  Product  Age  Gender  Education MaritalStatus  Usage  Fitness  Income  Miles\n",
              "0   TM195   18    Male         14        Single      3        4   29562    112\n",
              "1   TM195   19    Male         15        Single      2        3   31836     75\n",
              "2   TM195   19  Female         14     Partnered      4        3   30699     66"
            ]
          },
          "metadata": {},
          "execution_count": 24
        }
      ]
    },
    {
      "cell_type": "code",
      "metadata": {
        "colab": {
          "base_uri": "https://localhost:8080/",
          "height": 112
        },
        "id": "IIIH1vaGHarA",
        "outputId": "80e913f2-d502-4cb6-ae49-4218865ed215"
      },
      "source": [
        "dt.tail(2)"
      ],
      "execution_count": null,
      "outputs": [
        {
          "output_type": "execute_result",
          "data": {
            "text/html": [
              "<div>\n",
              "<style scoped>\n",
              "    .dataframe tbody tr th:only-of-type {\n",
              "        vertical-align: middle;\n",
              "    }\n",
              "\n",
              "    .dataframe tbody tr th {\n",
              "        vertical-align: top;\n",
              "    }\n",
              "\n",
              "    .dataframe thead th {\n",
              "        text-align: right;\n",
              "    }\n",
              "</style>\n",
              "<table border=\"1\" class=\"dataframe\">\n",
              "  <thead>\n",
              "    <tr style=\"text-align: right;\">\n",
              "      <th></th>\n",
              "      <th>Product</th>\n",
              "      <th>Age</th>\n",
              "      <th>Gender</th>\n",
              "      <th>Education</th>\n",
              "      <th>MaritalStatus</th>\n",
              "      <th>Usage</th>\n",
              "      <th>Fitness</th>\n",
              "      <th>Income</th>\n",
              "      <th>Miles</th>\n",
              "    </tr>\n",
              "  </thead>\n",
              "  <tbody>\n",
              "    <tr>\n",
              "      <th>178</th>\n",
              "      <td>TM798</td>\n",
              "      <td>47</td>\n",
              "      <td>Male</td>\n",
              "      <td>18</td>\n",
              "      <td>Partnered</td>\n",
              "      <td>4</td>\n",
              "      <td>5</td>\n",
              "      <td>104581</td>\n",
              "      <td>120</td>\n",
              "    </tr>\n",
              "    <tr>\n",
              "      <th>179</th>\n",
              "      <td>TM798</td>\n",
              "      <td>48</td>\n",
              "      <td>Male</td>\n",
              "      <td>18</td>\n",
              "      <td>Partnered</td>\n",
              "      <td>4</td>\n",
              "      <td>5</td>\n",
              "      <td>95508</td>\n",
              "      <td>180</td>\n",
              "    </tr>\n",
              "  </tbody>\n",
              "</table>\n",
              "</div>"
            ],
            "text/plain": [
              "    Product  Age Gender  Education MaritalStatus  Usage  Fitness  Income  Miles\n",
              "178   TM798   47   Male         18     Partnered      4        5  104581    120\n",
              "179   TM798   48   Male         18     Partnered      4        5   95508    180"
            ]
          },
          "metadata": {},
          "execution_count": 25
        }
      ]
    },
    {
      "cell_type": "code",
      "metadata": {
        "colab": {
          "base_uri": "https://localhost:8080/"
        },
        "id": "ZPWmXjZ7KFBP",
        "outputId": "29d621f6-9849-40d4-e702-d029d44fa44b"
      },
      "source": [
        "dt.shape"
      ],
      "execution_count": null,
      "outputs": [
        {
          "output_type": "execute_result",
          "data": {
            "text/plain": [
              "(180, 9)"
            ]
          },
          "metadata": {},
          "execution_count": 26
        }
      ]
    },
    {
      "cell_type": "code",
      "metadata": {
        "colab": {
          "base_uri": "https://localhost:8080/"
        },
        "id": "Y88f4y-KKK-z",
        "outputId": "bbced210-5295-455a-e8d7-9049379b4781"
      },
      "source": [
        "dt.info()"
      ],
      "execution_count": null,
      "outputs": [
        {
          "output_type": "stream",
          "name": "stdout",
          "text": [
            "<class 'pandas.core.frame.DataFrame'>\n",
            "RangeIndex: 180 entries, 0 to 179\n",
            "Data columns (total 9 columns):\n",
            " #   Column         Non-Null Count  Dtype \n",
            "---  ------         --------------  ----- \n",
            " 0   Product        180 non-null    object\n",
            " 1   Age            180 non-null    int64 \n",
            " 2   Gender         180 non-null    object\n",
            " 3   Education      180 non-null    int64 \n",
            " 4   MaritalStatus  180 non-null    object\n",
            " 5   Usage          180 non-null    int64 \n",
            " 6   Fitness        180 non-null    int64 \n",
            " 7   Income         180 non-null    int64 \n",
            " 8   Miles          180 non-null    int64 \n",
            "dtypes: int64(6), object(3)\n",
            "memory usage: 12.8+ KB\n"
          ]
        }
      ]
    },
    {
      "cell_type": "code",
      "metadata": {
        "colab": {
          "base_uri": "https://localhost:8080/",
          "height": 300
        },
        "id": "EOr51MBKKQ8w",
        "outputId": "009733c9-6909-4c2e-be3a-1ae472df5abf"
      },
      "source": [
        "dt.describe().round(2)"
      ],
      "execution_count": null,
      "outputs": [
        {
          "output_type": "execute_result",
          "data": {
            "text/html": [
              "<div>\n",
              "<style scoped>\n",
              "    .dataframe tbody tr th:only-of-type {\n",
              "        vertical-align: middle;\n",
              "    }\n",
              "\n",
              "    .dataframe tbody tr th {\n",
              "        vertical-align: top;\n",
              "    }\n",
              "\n",
              "    .dataframe thead th {\n",
              "        text-align: right;\n",
              "    }\n",
              "</style>\n",
              "<table border=\"1\" class=\"dataframe\">\n",
              "  <thead>\n",
              "    <tr style=\"text-align: right;\">\n",
              "      <th></th>\n",
              "      <th>Age</th>\n",
              "      <th>Education</th>\n",
              "      <th>Usage</th>\n",
              "      <th>Fitness</th>\n",
              "      <th>Income</th>\n",
              "      <th>Miles</th>\n",
              "    </tr>\n",
              "  </thead>\n",
              "  <tbody>\n",
              "    <tr>\n",
              "      <th>count</th>\n",
              "      <td>180.00</td>\n",
              "      <td>180.00</td>\n",
              "      <td>180.00</td>\n",
              "      <td>180.00</td>\n",
              "      <td>180.00</td>\n",
              "      <td>180.00</td>\n",
              "    </tr>\n",
              "    <tr>\n",
              "      <th>mean</th>\n",
              "      <td>28.79</td>\n",
              "      <td>15.57</td>\n",
              "      <td>3.46</td>\n",
              "      <td>3.31</td>\n",
              "      <td>53719.58</td>\n",
              "      <td>103.19</td>\n",
              "    </tr>\n",
              "    <tr>\n",
              "      <th>std</th>\n",
              "      <td>6.94</td>\n",
              "      <td>1.62</td>\n",
              "      <td>1.08</td>\n",
              "      <td>0.96</td>\n",
              "      <td>16506.68</td>\n",
              "      <td>51.86</td>\n",
              "    </tr>\n",
              "    <tr>\n",
              "      <th>min</th>\n",
              "      <td>18.00</td>\n",
              "      <td>12.00</td>\n",
              "      <td>2.00</td>\n",
              "      <td>1.00</td>\n",
              "      <td>29562.00</td>\n",
              "      <td>21.00</td>\n",
              "    </tr>\n",
              "    <tr>\n",
              "      <th>25%</th>\n",
              "      <td>24.00</td>\n",
              "      <td>14.00</td>\n",
              "      <td>3.00</td>\n",
              "      <td>3.00</td>\n",
              "      <td>44058.75</td>\n",
              "      <td>66.00</td>\n",
              "    </tr>\n",
              "    <tr>\n",
              "      <th>50%</th>\n",
              "      <td>26.00</td>\n",
              "      <td>16.00</td>\n",
              "      <td>3.00</td>\n",
              "      <td>3.00</td>\n",
              "      <td>50596.50</td>\n",
              "      <td>94.00</td>\n",
              "    </tr>\n",
              "    <tr>\n",
              "      <th>75%</th>\n",
              "      <td>33.00</td>\n",
              "      <td>16.00</td>\n",
              "      <td>4.00</td>\n",
              "      <td>4.00</td>\n",
              "      <td>58668.00</td>\n",
              "      <td>114.75</td>\n",
              "    </tr>\n",
              "    <tr>\n",
              "      <th>max</th>\n",
              "      <td>50.00</td>\n",
              "      <td>21.00</td>\n",
              "      <td>7.00</td>\n",
              "      <td>5.00</td>\n",
              "      <td>104581.00</td>\n",
              "      <td>360.00</td>\n",
              "    </tr>\n",
              "  </tbody>\n",
              "</table>\n",
              "</div>"
            ],
            "text/plain": [
              "          Age  Education   Usage  Fitness     Income   Miles\n",
              "count  180.00     180.00  180.00   180.00     180.00  180.00\n",
              "mean    28.79      15.57    3.46     3.31   53719.58  103.19\n",
              "std      6.94       1.62    1.08     0.96   16506.68   51.86\n",
              "min     18.00      12.00    2.00     1.00   29562.00   21.00\n",
              "25%     24.00      14.00    3.00     3.00   44058.75   66.00\n",
              "50%     26.00      16.00    3.00     3.00   50596.50   94.00\n",
              "75%     33.00      16.00    4.00     4.00   58668.00  114.75\n",
              "max     50.00      21.00    7.00     5.00  104581.00  360.00"
            ]
          },
          "metadata": {},
          "execution_count": 28
        }
      ]
    },
    {
      "cell_type": "code",
      "metadata": {
        "id": "er_xE0lDPvY0"
      },
      "source": [
        "dt['Income'] = pd.to_numeric(dt['Income'], downcast='float')\n",
        "#ou\n",
        "#dt['Income'] = dt['Income'].astype(float)\n",
        "#df = dt.astype(int)"
      ],
      "execution_count": null,
      "outputs": []
    },
    {
      "cell_type": "code",
      "metadata": {
        "colab": {
          "base_uri": "https://localhost:8080/"
        },
        "id": "OORLM3oVP--3",
        "outputId": "ea0d4853-9829-44a5-aa7a-99e6e291f03c"
      },
      "source": [
        "dt.dtypes"
      ],
      "execution_count": null,
      "outputs": [
        {
          "output_type": "execute_result",
          "data": {
            "text/plain": [
              "Product           object\n",
              "Age                int64\n",
              "Gender            object\n",
              "Education          int64\n",
              "MaritalStatus     object\n",
              "Usage              int64\n",
              "Fitness            int64\n",
              "Income           float32\n",
              "Miles              int64\n",
              "dtype: object"
            ]
          },
          "metadata": {},
          "execution_count": 30
        }
      ]
    },
    {
      "cell_type": "markdown",
      "metadata": {
        "id": "P2Dx6_rlUHaC"
      },
      "source": [
        "# Exercício 5"
      ]
    },
    {
      "cell_type": "markdown",
      "metadata": {
        "id": "LCukA3myQ558"
      },
      "source": [
        "Verifique se há missing data no dataset do exercício anterior."
      ]
    },
    {
      "cell_type": "code",
      "metadata": {
        "colab": {
          "base_uri": "https://localhost:8080/"
        },
        "id": "T3f2pIVZTYm-",
        "outputId": "f330585c-bb66-4df2-917e-94507f76360c"
      },
      "source": [
        "dt.notna().sum()\n",
        "#valores não nulos"
      ],
      "execution_count": null,
      "outputs": [
        {
          "output_type": "execute_result",
          "data": {
            "text/plain": [
              "Product          180\n",
              "Age              180\n",
              "Gender           180\n",
              "Education        180\n",
              "MaritalStatus    180\n",
              "Usage            180\n",
              "Fitness          180\n",
              "Income           180\n",
              "Miles            180\n",
              "dtype: int64"
            ]
          },
          "metadata": {},
          "execution_count": 31
        }
      ]
    },
    {
      "cell_type": "code",
      "metadata": {
        "colab": {
          "base_uri": "https://localhost:8080/"
        },
        "id": "aqaw_IxvVVVE",
        "outputId": "b3545211-6627-4640-b545-b1d31c70bee1"
      },
      "source": [
        "dt.notnull().sum()\n",
        "#valores não nulos"
      ],
      "execution_count": null,
      "outputs": [
        {
          "output_type": "execute_result",
          "data": {
            "text/plain": [
              "Product          180\n",
              "Age              180\n",
              "Gender           180\n",
              "Education        180\n",
              "MaritalStatus    180\n",
              "Usage            180\n",
              "Fitness          180\n",
              "Income           180\n",
              "Miles            180\n",
              "dtype: int64"
            ]
          },
          "metadata": {},
          "execution_count": 32
        }
      ]
    },
    {
      "cell_type": "code",
      "metadata": {
        "colab": {
          "base_uri": "https://localhost:8080/"
        },
        "id": "89qCy498X9n1",
        "outputId": "b4353c04-4f0e-45b6-ab29-4a8ade34a00a"
      },
      "source": [
        "dt.isna().sum()\n",
        "#valores nulos"
      ],
      "execution_count": null,
      "outputs": [
        {
          "output_type": "execute_result",
          "data": {
            "text/plain": [
              "Product          0\n",
              "Age              0\n",
              "Gender           0\n",
              "Education        0\n",
              "MaritalStatus    0\n",
              "Usage            0\n",
              "Fitness          0\n",
              "Income           0\n",
              "Miles            0\n",
              "dtype: int64"
            ]
          },
          "metadata": {},
          "execution_count": 33
        }
      ]
    },
    {
      "cell_type": "markdown",
      "metadata": {
        "id": "R4x0dT4EYUuw"
      },
      "source": [
        "# Exercício 6\n"
      ]
    },
    {
      "cell_type": "markdown",
      "metadata": {
        "id": "fxak8926YUBk"
      },
      "source": [
        "Exercício 6\n",
        "\n",
        "Ainda com base no dataset do exercício 4 responda:\n",
        "Estatísticas descritivas\n",
        "\n",
        "Qual a distribuição ordenada idade dos clientes (use a função value_counts())?\n",
        "\n",
        "Qual a média e o desvio padrão da idade por gênero?\n",
        "\n",
        "Qual a proporção de homens e mulheres?\n",
        "\n",
        "Qual a distribuição do estado civil entre homens e mulheres?\n",
        "\n",
        "Qual o nível de educação por gênero?"
      ]
    },
    {
      "cell_type": "code",
      "metadata": {
        "colab": {
          "base_uri": "https://localhost:8080/"
        },
        "id": "NPMFry6DYfB3",
        "outputId": "a2a002ad-8078-4eeb-8d2b-c52f3a4a7bc7"
      },
      "source": [
        "#a\n",
        "dt['Age'].value_counts().sort_index()\n",
        "#.value_counts"
      ],
      "execution_count": null,
      "outputs": [
        {
          "output_type": "execute_result",
          "data": {
            "text/plain": [
              "18     1\n",
              "19     4\n",
              "20     5\n",
              "21     7\n",
              "22     7\n",
              "23    18\n",
              "24    12\n",
              "25    25\n",
              "26    12\n",
              "27     7\n",
              "28     9\n",
              "29     6\n",
              "30     7\n",
              "31     6\n",
              "32     4\n",
              "33     8\n",
              "34     6\n",
              "35     8\n",
              "36     1\n",
              "37     2\n",
              "38     7\n",
              "39     1\n",
              "40     5\n",
              "41     1\n",
              "42     1\n",
              "43     1\n",
              "44     1\n",
              "45     2\n",
              "46     1\n",
              "47     2\n",
              "48     2\n",
              "50     1\n",
              "Name: Age, dtype: int64"
            ]
          },
          "metadata": {},
          "execution_count": 269
        }
      ]
    },
    {
      "cell_type": "code",
      "metadata": {
        "colab": {
          "base_uri": "https://localhost:8080/"
        },
        "id": "BpmXbqsKsvjD",
        "outputId": "78d29bb9-3039-49ca-fd4d-c67f0ac42d38"
      },
      "source": [
        "#b\n",
        "print(f'\\A média é: {dt.mean()[0]}')\n"
      ],
      "execution_count": null,
      "outputs": [
        {
          "output_type": "stream",
          "name": "stdout",
          "text": [
            "\\A média é: 28.788888888888888\n"
          ]
        }
      ]
    },
    {
      "cell_type": "code",
      "metadata": {
        "colab": {
          "base_uri": "https://localhost:8080/"
        },
        "id": "fyT8kAQ6xNlQ",
        "outputId": "ade36a19-861c-4c4f-cccb-82630a4335a4"
      },
      "source": [
        "#b\n",
        "male = dt[dt['Gender'] == 'Male']\n",
        "female = dt[dt['Gender'] == 'Female']\n",
        "print(f'A média de Idade para as Mulheres é: {female.mean()[0].round(2)}, e desvio padrão: {female.std()[0].round(2)}')\n",
        "print(f'A média de Idade para os Homens é: {male.mean()[0].round(2)}, e desvio padrão: {male.std()[0].round(2)}')"
      ],
      "execution_count": null,
      "outputs": [
        {
          "output_type": "stream",
          "name": "stdout",
          "text": [
            "A média de Idade para as Mulheres é: 28.57, e desvio padrão: 6.34\n",
            "A média de Idade para os Homens é: 28.95, e desvio padrão: 7.38\n"
          ]
        }
      ]
    },
    {
      "cell_type": "code",
      "metadata": {
        "colab": {
          "base_uri": "https://localhost:8080/"
        },
        "id": "HXSic17rxUji",
        "outputId": "85a127f5-10fb-444d-f8e3-a13fa4bd4d79"
      },
      "source": [
        "#c\n",
        "dt['Gender'].value_counts(normalize = True).round(3)"
      ],
      "execution_count": null,
      "outputs": [
        {
          "output_type": "execute_result",
          "data": {
            "text/plain": [
              "Male      0.578\n",
              "Female    0.422\n",
              "Name: Gender, dtype: float64"
            ]
          },
          "metadata": {},
          "execution_count": 103
        }
      ]
    },
    {
      "cell_type": "code",
      "metadata": {
        "colab": {
          "base_uri": "https://localhost:8080/"
        },
        "id": "N1Gakhfm5JXo",
        "outputId": "232a3f32-b3df-450e-bb5b-e97c4c443324"
      },
      "source": [
        "#d\n",
        "malesingle = dt[(dt['Gender'] == 'Male') & (dt['MaritalStatus'] == 'Single')]\n",
        "femalesingle = dt[(dt['Gender'] == 'Female') & (dt['MaritalStatus'] == 'Single')]\n",
        "malemarried = dt[(dt['Gender'] == 'Male') & (dt['MaritalStatus'] == 'Partnered')]\n",
        "femalemarried = dt[(dt['Gender'] == 'Female') & (dt['MaritalStatus'] == 'Partnered')]\n",
        "print(f'A quantidade de Mulheres solteiras é: {len(femalesingle)}, e casadas: {len(femalemarried)}')\n",
        "print(f'A quantidade de Homens solteiros é: {len(malesingle)}, e casados: {len(malemarried)}')"
      ],
      "execution_count": null,
      "outputs": [
        {
          "output_type": "stream",
          "name": "stdout",
          "text": [
            "A quantidade de Mulheres solteiras é: 30, e casadas: 46\n",
            "A quantidade de Homens solteiros é: 43, e casados: 61\n"
          ]
        }
      ]
    },
    {
      "cell_type": "code",
      "metadata": {
        "colab": {
          "base_uri": "https://localhost:8080/"
        },
        "id": "B-OkKJxE7C1I",
        "outputId": "52b89c63-1c69-4bab-fd20-b8b4ebfafa42"
      },
      "source": [
        "#e\n",
        "male['Education'].mean()\n",
        "female['Education'].mean()\n",
        "print(f'A média de educação dos homens é: {male.mean()[1].round(2)}')\n",
        "print(f'A média de educação dos mulheres é: {female.mean()[1].round(2)}')"
      ],
      "execution_count": null,
      "outputs": [
        {
          "output_type": "stream",
          "name": "stdout",
          "text": [
            "A média de educação dos homens é: 15.7\n",
            "A média de educação dos mulheres é: 15.39\n"
          ]
        }
      ]
    },
    {
      "cell_type": "markdown",
      "metadata": {
        "id": "scDKEqsZ_lfA"
      },
      "source": [
        "# Exercício 7"
      ]
    },
    {
      "cell_type": "markdown",
      "metadata": {
        "id": "0JFB6N9aGxXR"
      },
      "source": [
        "Exercício 7\n",
        "\n",
        "Ainda com base no dataset do exercício 4 responda:\n",
        "Relações entre as variáveis\n",
        "\n",
        "Calcule a matriz de covariância;\n",
        "\n",
        "Calcule a matriz de correlação."
      ]
    },
    {
      "cell_type": "code",
      "metadata": {
        "id": "R6BJTK-SFy6O"
      },
      "source": [
        "dt.info()"
      ],
      "execution_count": null,
      "outputs": []
    },
    {
      "cell_type": "code",
      "metadata": {
        "colab": {
          "base_uri": "https://localhost:8080/",
          "height": 238
        },
        "id": "TKcFJY1O_pfD",
        "outputId": "79184b7e-f46c-47b0-a30c-970830661add"
      },
      "source": [
        "dt.cov().round(2)"
      ],
      "execution_count": null,
      "outputs": [
        {
          "output_type": "execute_result",
          "data": {
            "text/html": [
              "<div>\n",
              "<style scoped>\n",
              "    .dataframe tbody tr th:only-of-type {\n",
              "        vertical-align: middle;\n",
              "    }\n",
              "\n",
              "    .dataframe tbody tr th {\n",
              "        vertical-align: top;\n",
              "    }\n",
              "\n",
              "    .dataframe thead th {\n",
              "        text-align: right;\n",
              "    }\n",
              "</style>\n",
              "<table border=\"1\" class=\"dataframe\">\n",
              "  <thead>\n",
              "    <tr style=\"text-align: right;\">\n",
              "      <th></th>\n",
              "      <th>Age</th>\n",
              "      <th>Education</th>\n",
              "      <th>Usage</th>\n",
              "      <th>Fitness</th>\n",
              "      <th>Income</th>\n",
              "      <th>Miles</th>\n",
              "    </tr>\n",
              "  </thead>\n",
              "  <tbody>\n",
              "    <tr>\n",
              "      <th>Age</th>\n",
              "      <td>48.21</td>\n",
              "      <td>3.15</td>\n",
              "      <td>0.11</td>\n",
              "      <td>0.41</td>\n",
              "      <td>5.884446e+04</td>\n",
              "      <td>13.19</td>\n",
              "    </tr>\n",
              "    <tr>\n",
              "      <th>Education</th>\n",
              "      <td>3.15</td>\n",
              "      <td>2.61</td>\n",
              "      <td>0.69</td>\n",
              "      <td>0.64</td>\n",
              "      <td>1.670472e+04</td>\n",
              "      <td>25.77</td>\n",
              "    </tr>\n",
              "    <tr>\n",
              "      <th>Usage</th>\n",
              "      <td>0.11</td>\n",
              "      <td>0.69</td>\n",
              "      <td>1.18</td>\n",
              "      <td>0.70</td>\n",
              "      <td>9.303040e+03</td>\n",
              "      <td>42.71</td>\n",
              "    </tr>\n",
              "    <tr>\n",
              "      <th>Fitness</th>\n",
              "      <td>0.41</td>\n",
              "      <td>0.64</td>\n",
              "      <td>0.70</td>\n",
              "      <td>0.92</td>\n",
              "      <td>8.467930e+03</td>\n",
              "      <td>39.07</td>\n",
              "    </tr>\n",
              "    <tr>\n",
              "      <th>Income</th>\n",
              "      <td>58844.46</td>\n",
              "      <td>16704.72</td>\n",
              "      <td>9303.04</td>\n",
              "      <td>8467.93</td>\n",
              "      <td>2.724706e+08</td>\n",
              "      <td>465265.36</td>\n",
              "    </tr>\n",
              "    <tr>\n",
              "      <th>Miles</th>\n",
              "      <td>13.19</td>\n",
              "      <td>25.77</td>\n",
              "      <td>42.71</td>\n",
              "      <td>39.07</td>\n",
              "      <td>4.652654e+05</td>\n",
              "      <td>2689.83</td>\n",
              "    </tr>\n",
              "  </tbody>\n",
              "</table>\n",
              "</div>"
            ],
            "text/plain": [
              "                Age  Education    Usage  Fitness        Income      Miles\n",
              "Age           48.21       3.15     0.11     0.41  5.884446e+04      13.19\n",
              "Education      3.15       2.61     0.69     0.64  1.670472e+04      25.77\n",
              "Usage          0.11       0.69     1.18     0.70  9.303040e+03      42.71\n",
              "Fitness        0.41       0.64     0.70     0.92  8.467930e+03      39.07\n",
              "Income     58844.46   16704.72  9303.04  8467.93  2.724706e+08  465265.36\n",
              "Miles         13.19      25.77    42.71    39.07  4.652654e+05    2689.83"
            ]
          },
          "metadata": {},
          "execution_count": 131
        }
      ]
    },
    {
      "cell_type": "code",
      "metadata": {
        "colab": {
          "base_uri": "https://localhost:8080/",
          "height": 238
        },
        "id": "mzou5MzZFU9S",
        "outputId": "e465b1c0-4be2-4643-fd9c-b3a5c4bc7494"
      },
      "source": [
        "dt.corr().round(2)"
      ],
      "execution_count": null,
      "outputs": [
        {
          "output_type": "execute_result",
          "data": {
            "text/html": [
              "<div>\n",
              "<style scoped>\n",
              "    .dataframe tbody tr th:only-of-type {\n",
              "        vertical-align: middle;\n",
              "    }\n",
              "\n",
              "    .dataframe tbody tr th {\n",
              "        vertical-align: top;\n",
              "    }\n",
              "\n",
              "    .dataframe thead th {\n",
              "        text-align: right;\n",
              "    }\n",
              "</style>\n",
              "<table border=\"1\" class=\"dataframe\">\n",
              "  <thead>\n",
              "    <tr style=\"text-align: right;\">\n",
              "      <th></th>\n",
              "      <th>Age</th>\n",
              "      <th>Education</th>\n",
              "      <th>Usage</th>\n",
              "      <th>Fitness</th>\n",
              "      <th>Income</th>\n",
              "      <th>Miles</th>\n",
              "    </tr>\n",
              "  </thead>\n",
              "  <tbody>\n",
              "    <tr>\n",
              "      <th>Age</th>\n",
              "      <td>1.00</td>\n",
              "      <td>0.28</td>\n",
              "      <td>0.02</td>\n",
              "      <td>0.06</td>\n",
              "      <td>0.51</td>\n",
              "      <td>0.04</td>\n",
              "    </tr>\n",
              "    <tr>\n",
              "      <th>Education</th>\n",
              "      <td>0.28</td>\n",
              "      <td>1.00</td>\n",
              "      <td>0.40</td>\n",
              "      <td>0.41</td>\n",
              "      <td>0.63</td>\n",
              "      <td>0.31</td>\n",
              "    </tr>\n",
              "    <tr>\n",
              "      <th>Usage</th>\n",
              "      <td>0.02</td>\n",
              "      <td>0.40</td>\n",
              "      <td>1.00</td>\n",
              "      <td>0.67</td>\n",
              "      <td>0.52</td>\n",
              "      <td>0.76</td>\n",
              "    </tr>\n",
              "    <tr>\n",
              "      <th>Fitness</th>\n",
              "      <td>0.06</td>\n",
              "      <td>0.41</td>\n",
              "      <td>0.67</td>\n",
              "      <td>1.00</td>\n",
              "      <td>0.54</td>\n",
              "      <td>0.79</td>\n",
              "    </tr>\n",
              "    <tr>\n",
              "      <th>Income</th>\n",
              "      <td>0.51</td>\n",
              "      <td>0.63</td>\n",
              "      <td>0.52</td>\n",
              "      <td>0.54</td>\n",
              "      <td>1.00</td>\n",
              "      <td>0.54</td>\n",
              "    </tr>\n",
              "    <tr>\n",
              "      <th>Miles</th>\n",
              "      <td>0.04</td>\n",
              "      <td>0.31</td>\n",
              "      <td>0.76</td>\n",
              "      <td>0.79</td>\n",
              "      <td>0.54</td>\n",
              "      <td>1.00</td>\n",
              "    </tr>\n",
              "  </tbody>\n",
              "</table>\n",
              "</div>"
            ],
            "text/plain": [
              "            Age  Education  Usage  Fitness  Income  Miles\n",
              "Age        1.00       0.28   0.02     0.06    0.51   0.04\n",
              "Education  0.28       1.00   0.40     0.41    0.63   0.31\n",
              "Usage      0.02       0.40   1.00     0.67    0.52   0.76\n",
              "Fitness    0.06       0.41   0.67     1.00    0.54   0.79\n",
              "Income     0.51       0.63   0.52     0.54    1.00   0.54\n",
              "Miles      0.04       0.31   0.76     0.79    0.54   1.00"
            ]
          },
          "metadata": {},
          "execution_count": 132
        }
      ]
    },
    {
      "cell_type": "markdown",
      "metadata": {
        "id": "GYeKDGxIH6Ti"
      },
      "source": [
        "# Exercício 8"
      ]
    },
    {
      "cell_type": "code",
      "metadata": {
        "colab": {
          "base_uri": "https://localhost:8080/",
          "height": 350
        },
        "id": "bfXD2SrjGf4C",
        "outputId": "4a4c111c-38d5-4430-aa49-f84f1ff129da"
      },
      "source": [
        "plt.figure(figsize = (15, 5))\n",
        "plt.hist(dt['Age'], bins = 30)\n",
        "#dt['Age'].plot(kind = 'hist', bins = 30)\n",
        "plt.title('Histograma de Idade')\n",
        "plt.xticks(range(18, 51, 2)) #determinando os valores do eixo x\n",
        "plt.xlabel('Idade')\n",
        "plt.ylabel('Quantidade')\n",
        "plt.show()"
      ],
      "execution_count": null,
      "outputs": [
        {
          "output_type": "display_data",
          "data": {
            "image/png": "[encoded data removed]",
            "text/plain": [
              "<Figure size 1080x360 with 1 Axes>"
            ]
          },
          "metadata": {
            "needs_background": "light"
          }
        }
      ]
    },
    {
      "cell_type": "code",
      "metadata": {
        "colab": {
          "base_uri": "https://localhost:8080/",
          "height": 350
        },
        "id": "PKMEI1h6RbCr",
        "outputId": "38b404ce-79eb-4a2f-ad56-a395d7106303"
      },
      "source": [
        "plt.figure(figsize = (15, 5))\n",
        "plt.hist(dt['Education'], bins = 6)\n",
        "plt.title('Histograma de Educação')\n",
        "plt.xlabel('Anos')\n",
        "plt.ylabel('Quantidade')\n",
        "plt.show()"
      ],
      "execution_count": null,
      "outputs": [
        {
          "output_type": "display_data",
          "data": {
            "image/png": "[encoded data removed]",
            "text/plain": [
              "<Figure size 1080x360 with 1 Axes>"
            ]
          },
          "metadata": {
            "needs_background": "light"
          }
        }
      ]
    },
    {
      "cell_type": "code",
      "metadata": {
        "colab": {
          "base_uri": "https://localhost:8080/",
          "height": 295
        },
        "id": "hB8LswhER1pl",
        "outputId": "42d460b3-cbeb-42ae-fa89-28da4c00f86e"
      },
      "source": [
        "plt.hist(dt['Usage'], bins = 7)\n",
        "plt.title('Histograma de Horas de Uso')\n",
        "plt.xlabel('Horas de Uso')\n",
        "plt.ylabel('Quantidade')\n",
        "plt.show()"
      ],
      "execution_count": null,
      "outputs": [
        {
          "output_type": "display_data",
          "data": {
            "image/png": "[encoded data removed]",
            "text/plain": [
              "<Figure size 432x288 with 1 Axes>"
            ]
          },
          "metadata": {
            "needs_background": "light"
          }
        }
      ]
    },
    {
      "cell_type": "code",
      "metadata": {
        "colab": {
          "base_uri": "https://localhost:8080/",
          "height": 350
        },
        "id": "kmwLXqI1R1uG",
        "outputId": "a07d903b-db33-46aa-8d1c-cf0d1934f11a"
      },
      "source": [
        "plt.figure(figsize = (8, 5))\n",
        "plt.hist(dt['Fitness'], bins = 5)\n",
        "plt.title('Histograma de Avaliação de Uso da Academia')\n",
        "plt.xticks(range(1, 6))\n",
        "plt.xlabel('Escala de Nível')\n",
        "plt.ylabel('Quantidade')\n",
        "plt.show()"
      ],
      "execution_count": null,
      "outputs": [
        {
          "output_type": "display_data",
          "data": {
            "image/png": "[encoded data removed]",
            "text/plain": [
              "<Figure size 576x360 with 1 Axes>"
            ]
          },
          "metadata": {
            "needs_background": "light"
          }
        }
      ]
    },
    {
      "cell_type": "code",
      "metadata": {
        "colab": {
          "base_uri": "https://localhost:8080/",
          "height": 350
        },
        "id": "OfMaXm8xR1zA",
        "outputId": "f59e2cfa-6ce4-4ecb-faf7-190cbbb6faca"
      },
      "source": [
        "plt.figure(figsize = (15, 5))\n",
        "plt.hist(dt['Income'])\n",
        "plt.title('Histograma de Renda Familiar Anual')\n",
        "plt.xlabel('Faixa de Renda')\n",
        "plt.ylabel('Quantidade')\n",
        "plt.show()"
      ],
      "execution_count": null,
      "outputs": [
        {
          "output_type": "display_data",
          "data": {
            "image/png": "[encoded data removed]",
            "text/plain": [
              "<Figure size 1080x360 with 1 Axes>"
            ]
          },
          "metadata": {
            "needs_background": "light"
          }
        }
      ]
    },
    {
      "cell_type": "code",
      "metadata": {
        "colab": {
          "base_uri": "https://localhost:8080/",
          "height": 295
        },
        "id": "BaFvv2oKaBJJ",
        "outputId": "2a564b3e-b8f6-47e1-da2d-81cc8fb9385a"
      },
      "source": [
        "plt.hist(dt['MaritalStatus'], bins = 2)\n",
        "plt.title('Histograma de Estado Civil')\n",
        "plt.xlabel('Estado Civil')\n",
        "plt.ylabel('Quantidade')\n",
        "plt.show()"
      ],
      "execution_count": null,
      "outputs": [
        {
          "output_type": "display_data",
          "data": {
            "image/png": "[encoded data removed]",
            "text/plain": [
              "<Figure size 432x288 with 1 Axes>"
            ]
          },
          "metadata": {
            "needs_background": "light"
          }
        }
      ]
    },
    {
      "cell_type": "code",
      "metadata": {
        "colab": {
          "base_uri": "https://localhost:8080/",
          "height": 295
        },
        "id": "NwIi6RJFa50C",
        "outputId": "b5036e1c-e447-4a3a-aea9-ae80beafe232"
      },
      "source": [
        "plt.hist(dt['Miles'])\n",
        "plt.title('Histograma Milhas a Percorrer')\n",
        "plt.xlabel('Milhas a percorrer')\n",
        "plt.ylabel('Quantidade')\n",
        "plt.show()"
      ],
      "execution_count": null,
      "outputs": [
        {
          "output_type": "display_data",
          "data": {
            "image/png": "[encoded data removed]",
            "text/plain": [
              "<Figure size 432x288 with 1 Axes>"
            ]
          },
          "metadata": {
            "needs_background": "light"
          }
        }
      ]
    },
    {
      "cell_type": "code",
      "metadata": {
        "colab": {
          "base_uri": "https://localhost:8080/",
          "height": 295
        },
        "id": "_9aLg80KbYhz",
        "outputId": "8bd47174-8d8d-418d-f822-27e7dd425a00"
      },
      "source": [
        "plt.hist(dt['Gender'], bins = 2)\n",
        "plt.title('Histograma de ')\n",
        "plt.xlabel('Estado Civil')\n",
        "plt.ylabel('Quantidade')\n",
        "plt.show()"
      ],
      "execution_count": null,
      "outputs": [
        {
          "output_type": "display_data",
          "data": {
            "image/png": "[encoded data removed]",
            "text/plain": [
              "<Figure size 432x288 with 1 Axes>"
            ]
          },
          "metadata": {
            "needs_background": "light"
          }
        }
      ]
    },
    {
      "cell_type": "code",
      "metadata": {
        "colab": {
          "base_uri": "https://localhost:8080/",
          "height": 295
        },
        "id": "q1aNIxWfcVdt",
        "outputId": "d0b9988d-8e86-41e8-c91c-2b1bd6fcff83"
      },
      "source": [
        "plt.hist(dt['Product'], bins = 3)\n",
        "plt.title('Histograma de Estado Civil')\n",
        "plt.xlabel('Estado Civil')\n",
        "plt.ylabel('Quantidade')\n",
        "plt.show()"
      ],
      "execution_count": null,
      "outputs": [
        {
          "output_type": "display_data",
          "data": {
            "image/png": "[encoded data removed]",
            "text/plain": [
              "<Figure size 432x288 with 1 Axes>"
            ]
          },
          "metadata": {
            "needs_background": "light"
          }
        }
      ]
    },
    {
      "cell_type": "code",
      "metadata": {
        "id": "3YM-Y8OSh3j9"
      },
      "source": [
        "#resposta do exercicio\n",
        "dt.hist(figsize = (12, 10))"
      ],
      "execution_count": null,
      "outputs": []
    },
    {
      "cell_type": "code",
      "metadata": {
        "id": "OTL3woVodVBX"
      },
      "source": [
        "genero = dt['Gender'].value_counts()"
      ],
      "execution_count": null,
      "outputs": []
    },
    {
      "cell_type": "code",
      "metadata": {
        "colab": {
          "base_uri": "https://localhost:8080/",
          "height": 248
        },
        "id": "9OrGvf8EeXGU",
        "outputId": "37179885-fbd3-434f-e657-8f4cfc5ebcc8"
      },
      "source": [
        "plt.pie(genero, explode = (0.0, 0.1), labels = ['Homem', 'Mulher'], autopct='%1.1f%%')\n",
        "plt.show()"
      ],
      "execution_count": null,
      "outputs": [
        {
          "output_type": "display_data",
          "data": {
            "image/png": "[encoded data removed]",
            "text/plain": [
              "<Figure size 432x288 with 1 Axes>"
            ]
          },
          "metadata": {}
        }
      ]
    },
    {
      "cell_type": "code",
      "metadata": {
        "id": "RSmp9JchiGH6"
      },
      "source": [
        "#resposta do exercicio\n",
        "df['Gender'].value_counts().plot(kind = 'pie');"
      ],
      "execution_count": null,
      "outputs": []
    },
    {
      "cell_type": "markdown",
      "metadata": {
        "id": "st4DxvgEfcjc"
      },
      "source": [
        "# Exercício 9"
      ]
    },
    {
      "cell_type": "markdown",
      "metadata": {
        "id": "NuBKiNg4kO2T"
      },
      "source": [
        "Informações gerais do data set\n",
        "\n",
        "Leia o dataset anexado nesta aula e armazene em uma variável;\n",
        "\n",
        "Mostre as 3 primeiras linhas do dataset;\n",
        "\n",
        "Mostre as duas últimas linhas do dataset;\n",
        "\n",
        "Mostre o shape do dataset;\n",
        "\n",
        "Obtenha informações das colunas com o método info();\n",
        "\n",
        "Mostre estatísticas descritivas do dataset;\n",
        "\n",
        "Mostre o tipo de dado de cada coluna;\n",
        "\n",
        "Mostre a existência ou não de missing data."
      ]
    },
    {
      "cell_type": "code",
      "metadata": {
        "colab": {
          "base_uri": "https://localhost:8080/"
        },
        "id": "Writrjaxmiwx",
        "outputId": "33ec164d-a616-4477-8f8f-60ddfc2245fe"
      },
      "source": [
        "%cd ..\n",
        "from google.colab import drive\n",
        "drive.mount('/content/gdrive')"
      ],
      "execution_count": null,
      "outputs": [
        {
          "output_type": "stream",
          "name": "stdout",
          "text": [
            "/\n",
            "Mounted at /content/gdrive\n"
          ]
        }
      ]
    },
    {
      "cell_type": "code",
      "metadata": {
        "colab": {
          "base_uri": "https://localhost:8080/"
        },
        "id": "3G-aINCBmcD8",
        "outputId": "d989891f-1373-4f69-8afe-6a4537e35a58"
      },
      "source": [
        "!ln -s /content/gdrive/My\\ Drive/ /mydrive\n",
        "!ls /mydrive"
      ],
      "execution_count": null,
      "outputs": [
        {
          "output_type": "stream",
          "name": "stdout",
          "text": [
            "ln: failed to create symbolic link '/mydrive/My Drive': File exists\n",
            "'Bakcup de fotos'\t\t\t\t       kaggle_titanic\n",
            "'Colab Notebooks'\t\t\t\t      'Material estudo'\n",
            "'Conteúdo profissional'\t\t\t\t      'Minhas fotos'\n",
            "'Copy of Aula de Machine Learning_Kmeans_IGTI.ipynb'  'My Drive'\n",
            " Currículo.gdoc\t\t\t\t\t      'Rascunho Curriculo.gdoc'\n",
            "'Ds160 wesley.pdf'\n"
          ]
        }
      ]
    },
    {
      "cell_type": "code",
      "metadata": {
        "colab": {
          "base_uri": "https://localhost:8080/"
        },
        "id": "02XGyR-nkOew",
        "outputId": "c504c981-12a3-4dd7-e45c-f5d8dc5c0776"
      },
      "source": [
        "!ls /mydrive/kaggle_titanic/dataset/"
      ],
      "execution_count": null,
      "outputs": [
        {
          "output_type": "stream",
          "name": "stdout",
          "text": [
            "CardioGoodFitness.csv  dataset.csv  gender_submission.csv  test.csv  train.csv\n"
          ]
        }
      ]
    },
    {
      "cell_type": "code",
      "metadata": {
        "id": "PQFID3S1nJyN"
      },
      "source": [
        "dt2 = pd.read_csv(\"/mydrive/kaggle_titanic/dataset/dataset.csv\")"
      ],
      "execution_count": null,
      "outputs": []
    },
    {
      "cell_type": "code",
      "metadata": {
        "colab": {
          "base_uri": "https://localhost:8080/",
          "height": 206
        },
        "id": "lict6yH5nPKj",
        "outputId": "f26c61b0-07de-4232-c4ca-cee6090a81cc"
      },
      "source": [
        "dt2.head(5)"
      ],
      "execution_count": null,
      "outputs": [
        {
          "output_type": "execute_result",
          "data": {
            "text/html": [
              "<div>\n",
              "<style scoped>\n",
              "    .dataframe tbody tr th:only-of-type {\n",
              "        vertical-align: middle;\n",
              "    }\n",
              "\n",
              "    .dataframe tbody tr th {\n",
              "        vertical-align: top;\n",
              "    }\n",
              "\n",
              "    .dataframe thead th {\n",
              "        text-align: right;\n",
              "    }\n",
              "</style>\n",
              "<table border=\"1\" class=\"dataframe\">\n",
              "  <thead>\n",
              "    <tr style=\"text-align: right;\">\n",
              "      <th></th>\n",
              "      <th>Nome</th>\n",
              "      <th>Idade</th>\n",
              "      <th>Rating</th>\n",
              "      <th>Renda</th>\n",
              "    </tr>\n",
              "  </thead>\n",
              "  <tbody>\n",
              "    <tr>\n",
              "      <th>0</th>\n",
              "      <td>Sato</td>\n",
              "      <td>18</td>\n",
              "      <td>3.66</td>\n",
              "      <td>D</td>\n",
              "    </tr>\n",
              "    <tr>\n",
              "      <th>1</th>\n",
              "      <td>Suzuki</td>\n",
              "      <td>20</td>\n",
              "      <td>3.51</td>\n",
              "      <td>D</td>\n",
              "    </tr>\n",
              "    <tr>\n",
              "      <th>2</th>\n",
              "      <td>Takahashi</td>\n",
              "      <td>26</td>\n",
              "      <td>9.73</td>\n",
              "      <td>A</td>\n",
              "    </tr>\n",
              "    <tr>\n",
              "      <th>3</th>\n",
              "      <td>Tanaka</td>\n",
              "      <td>25</td>\n",
              "      <td>2.47</td>\n",
              "      <td>D</td>\n",
              "    </tr>\n",
              "    <tr>\n",
              "      <th>4</th>\n",
              "      <td>Watanabe</td>\n",
              "      <td>26</td>\n",
              "      <td>8.07</td>\n",
              "      <td>A</td>\n",
              "    </tr>\n",
              "  </tbody>\n",
              "</table>\n",
              "</div>"
            ],
            "text/plain": [
              "        Nome  Idade  Rating Renda\n",
              "0       Sato     18    3.66     D\n",
              "1     Suzuki     20    3.51     D\n",
              "2  Takahashi     26    9.73     A\n",
              "3     Tanaka     25    2.47     D\n",
              "4   Watanabe     26    8.07     A"
            ]
          },
          "metadata": {},
          "execution_count": 280
        }
      ]
    },
    {
      "cell_type": "code",
      "metadata": {
        "colab": {
          "base_uri": "https://localhost:8080/",
          "height": 206
        },
        "id": "XrKwu4xunpRk",
        "outputId": "456dddc5-e2f1-4a94-8672-407bec1cabf4"
      },
      "source": [
        "dt2.tail()"
      ],
      "execution_count": null,
      "outputs": [
        {
          "output_type": "execute_result",
          "data": {
            "text/html": [
              "<div>\n",
              "<style scoped>\n",
              "    .dataframe tbody tr th:only-of-type {\n",
              "        vertical-align: middle;\n",
              "    }\n",
              "\n",
              "    .dataframe tbody tr th {\n",
              "        vertical-align: top;\n",
              "    }\n",
              "\n",
              "    .dataframe thead th {\n",
              "        text-align: right;\n",
              "    }\n",
              "</style>\n",
              "<table border=\"1\" class=\"dataframe\">\n",
              "  <thead>\n",
              "    <tr style=\"text-align: right;\">\n",
              "      <th></th>\n",
              "      <th>Nome</th>\n",
              "      <th>Idade</th>\n",
              "      <th>Rating</th>\n",
              "      <th>Renda</th>\n",
              "    </tr>\n",
              "  </thead>\n",
              "  <tbody>\n",
              "    <tr>\n",
              "      <th>95</th>\n",
              "      <td>Matsuo</td>\n",
              "      <td>21</td>\n",
              "      <td>6.42</td>\n",
              "      <td>B</td>\n",
              "    </tr>\n",
              "    <tr>\n",
              "      <th>96</th>\n",
              "      <td>Kikuchi</td>\n",
              "      <td>18</td>\n",
              "      <td>7.91</td>\n",
              "      <td>A</td>\n",
              "    </tr>\n",
              "    <tr>\n",
              "      <th>97</th>\n",
              "      <td>Nomura</td>\n",
              "      <td>28</td>\n",
              "      <td>2.86</td>\n",
              "      <td>D</td>\n",
              "    </tr>\n",
              "    <tr>\n",
              "      <th>98</th>\n",
              "      <td>Arai</td>\n",
              "      <td>28</td>\n",
              "      <td>8.98</td>\n",
              "      <td>A</td>\n",
              "    </tr>\n",
              "    <tr>\n",
              "      <th>99</th>\n",
              "      <td>Watanabe</td>\n",
              "      <td>29</td>\n",
              "      <td>4.81</td>\n",
              "      <td>B</td>\n",
              "    </tr>\n",
              "  </tbody>\n",
              "</table>\n",
              "</div>"
            ],
            "text/plain": [
              "        Nome  Idade  Rating Renda\n",
              "95    Matsuo     21    6.42     B\n",
              "96   Kikuchi     18    7.91     A\n",
              "97    Nomura     28    2.86     D\n",
              "98      Arai     28    8.98     A\n",
              "99  Watanabe     29    4.81     B"
            ]
          },
          "metadata": {},
          "execution_count": 281
        }
      ]
    },
    {
      "cell_type": "code",
      "metadata": {
        "colab": {
          "base_uri": "https://localhost:8080/"
        },
        "id": "x_uXxgNqnpXG",
        "outputId": "254c39f1-c334-4c6e-b7ca-33e2d4c44003"
      },
      "source": [
        "dt2.shape"
      ],
      "execution_count": null,
      "outputs": [
        {
          "output_type": "execute_result",
          "data": {
            "text/plain": [
              "(100, 4)"
            ]
          },
          "metadata": {},
          "execution_count": 283
        }
      ]
    },
    {
      "cell_type": "code",
      "metadata": {
        "colab": {
          "base_uri": "https://localhost:8080/"
        },
        "id": "PgEiZkcsnpdj",
        "outputId": "53ac0090-55df-4086-e3d9-e08459ab8473"
      },
      "source": [
        "dt2.info()"
      ],
      "execution_count": null,
      "outputs": [
        {
          "output_type": "stream",
          "name": "stdout",
          "text": [
            "<class 'pandas.core.frame.DataFrame'>\n",
            "RangeIndex: 100 entries, 0 to 99\n",
            "Data columns (total 4 columns):\n",
            " #   Column  Non-Null Count  Dtype  \n",
            "---  ------  --------------  -----  \n",
            " 0   Nome    100 non-null    object \n",
            " 1   Idade   100 non-null    int64  \n",
            " 2   Rating  100 non-null    float64\n",
            " 3   Renda   100 non-null    object \n",
            "dtypes: float64(1), int64(1), object(2)\n",
            "memory usage: 3.2+ KB\n"
          ]
        }
      ]
    },
    {
      "cell_type": "code",
      "metadata": {
        "colab": {
          "base_uri": "https://localhost:8080/",
          "height": 300
        },
        "id": "nDwz3IYGnpir",
        "outputId": "7bb7dd31-2411-4679-dc23-aab924f5d5a1"
      },
      "source": [
        "dt2.describe()"
      ],
      "execution_count": null,
      "outputs": [
        {
          "output_type": "execute_result",
          "data": {
            "text/html": [
              "<div>\n",
              "<style scoped>\n",
              "    .dataframe tbody tr th:only-of-type {\n",
              "        vertical-align: middle;\n",
              "    }\n",
              "\n",
              "    .dataframe tbody tr th {\n",
              "        vertical-align: top;\n",
              "    }\n",
              "\n",
              "    .dataframe thead th {\n",
              "        text-align: right;\n",
              "    }\n",
              "</style>\n",
              "<table border=\"1\" class=\"dataframe\">\n",
              "  <thead>\n",
              "    <tr style=\"text-align: right;\">\n",
              "      <th></th>\n",
              "      <th>Idade</th>\n",
              "      <th>Rating</th>\n",
              "    </tr>\n",
              "  </thead>\n",
              "  <tbody>\n",
              "    <tr>\n",
              "      <th>count</th>\n",
              "      <td>100.000000</td>\n",
              "      <td>100.000000</td>\n",
              "    </tr>\n",
              "    <tr>\n",
              "      <th>mean</th>\n",
              "      <td>23.400000</td>\n",
              "      <td>5.625700</td>\n",
              "    </tr>\n",
              "    <tr>\n",
              "      <th>std</th>\n",
              "      <td>4.042701</td>\n",
              "      <td>2.601318</td>\n",
              "    </tr>\n",
              "    <tr>\n",
              "      <th>min</th>\n",
              "      <td>17.000000</td>\n",
              "      <td>1.150000</td>\n",
              "    </tr>\n",
              "    <tr>\n",
              "      <th>25%</th>\n",
              "      <td>20.000000</td>\n",
              "      <td>3.487500</td>\n",
              "    </tr>\n",
              "    <tr>\n",
              "      <th>50%</th>\n",
              "      <td>24.000000</td>\n",
              "      <td>5.890000</td>\n",
              "    </tr>\n",
              "    <tr>\n",
              "      <th>75%</th>\n",
              "      <td>27.250000</td>\n",
              "      <td>7.837500</td>\n",
              "    </tr>\n",
              "    <tr>\n",
              "      <th>max</th>\n",
              "      <td>29.000000</td>\n",
              "      <td>9.990000</td>\n",
              "    </tr>\n",
              "  </tbody>\n",
              "</table>\n",
              "</div>"
            ],
            "text/plain": [
              "            Idade      Rating\n",
              "count  100.000000  100.000000\n",
              "mean    23.400000    5.625700\n",
              "std      4.042701    2.601318\n",
              "min     17.000000    1.150000\n",
              "25%     20.000000    3.487500\n",
              "50%     24.000000    5.890000\n",
              "75%     27.250000    7.837500\n",
              "max     29.000000    9.990000"
            ]
          },
          "metadata": {},
          "execution_count": 285
        }
      ]
    },
    {
      "cell_type": "code",
      "metadata": {
        "colab": {
          "base_uri": "https://localhost:8080/"
        },
        "id": "9eoPt-dcnppC",
        "outputId": "f5bc4418-b96c-47a2-c243-dcb8486e4a1a"
      },
      "source": [
        "dt2.dtypes"
      ],
      "execution_count": null,
      "outputs": [
        {
          "output_type": "execute_result",
          "data": {
            "text/plain": [
              "Nome       object\n",
              "Idade       int64\n",
              "Rating    float64\n",
              "Renda      object\n",
              "dtype: object"
            ]
          },
          "metadata": {},
          "execution_count": 287
        }
      ]
    },
    {
      "cell_type": "code",
      "metadata": {
        "colab": {
          "base_uri": "https://localhost:8080/"
        },
        "id": "4Fs9jWhznpvf",
        "outputId": "c14c945c-308a-4857-8ae1-49ad4121d2e8"
      },
      "source": [
        "dt2.isna().sum()"
      ],
      "execution_count": null,
      "outputs": [
        {
          "output_type": "execute_result",
          "data": {
            "text/plain": [
              "Nome      0\n",
              "Idade     0\n",
              "Rating    0\n",
              "Renda     0\n",
              "dtype: int64"
            ]
          },
          "metadata": {},
          "execution_count": 294
        }
      ]
    },
    {
      "cell_type": "markdown",
      "metadata": {
        "id": "lugRE28Iom5t"
      },
      "source": [
        "# Exercício 10"
      ]
    },
    {
      "cell_type": "code",
      "metadata": {
        "id": "c_DybLqknp1R"
      },
      "source": [
        ""
      ],
      "execution_count": null,
      "outputs": []
    },
    {
      "cell_type": "code",
      "metadata": {
        "id": "vo6xI-GNnp8N"
      },
      "source": [
        ""
      ],
      "execution_count": null,
      "outputs": []
    }
  ]
}