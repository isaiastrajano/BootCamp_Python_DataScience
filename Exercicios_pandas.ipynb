{
  "nbformat": 4,
  "nbformat_minor": 0,
  "metadata": {
    "colab": {
      "name": "Exercicios_pandas.ipynb",
      "provenance": [],
      "collapsed_sections": [],
      "authorship_tag": "ABX9TyPqc3c/UiFC8CLBIp0DRlqY",
      "include_colab_link": true
    },
    "kernelspec": {
      "name": "python3",
      "display_name": "Python 3"
    },
    "language_info": {
      "name": "python"
    }
  },
  "cells": [
    {
      "cell_type": "markdown",
      "metadata": {
        "id": "view-in-github",
        "colab_type": "text"
      },
      "source": [
        "<a href=\"https://colab.research.google.com/github/isaiastrajano/BootCamp_Python_DataScience/blob/main/Exercicios_pandas.ipynb\" target=\"_parent\"><img src=\"https://colab.research.google.com/assets/colab-badge.svg\" alt=\"Open In Colab\"/></a>"
      ]
    },
    {
      "cell_type": "markdown",
      "metadata": {
        "id": "JMF-FhlDD8Xd"
      },
      "source": [
        "Pandas - Essencial"
      ]
    },
    {
      "cell_type": "markdown",
      "metadata": {
        "id": "cAAb0IxpmTxw"
      },
      "source": [
        "Exercício 1"
      ]
    },
    {
      "cell_type": "code",
      "metadata": {
        "id": "fDEIalhghCwB"
      },
      "source": [
        "import pandas as pd\n",
        "import numpy as np\n",
        "import matplotlib.pyplot as plt"
      ],
      "execution_count": null,
      "outputs": []
    },
    {
      "cell_type": "code",
      "metadata": {
        "colab": {
          "base_uri": "https://localhost:8080/"
        },
        "id": "YpguU3FxhSXq",
        "outputId": "b9670d04-a952-4f79-de99-d62fe5b3b856"
      },
      "source": [
        "\n",
        "#a\n",
        "lista = ['a', 'b', 'c', 'd']\n",
        "serie1 = pd.Series(lista)\n",
        "serie1"
      ],
      "execution_count": null,
      "outputs": [
        {
          "output_type": "execute_result",
          "data": {
            "text/plain": [
              "0    a\n",
              "1    b\n",
              "2    c\n",
              "3    d\n",
              "dtype: object"
            ]
          },
          "metadata": {},
          "execution_count": 2
        }
      ]
    },
    {
      "cell_type": "code",
      "metadata": {
        "colab": {
          "base_uri": "https://localhost:8080/"
        },
        "id": "GZlClSnMi0ZA",
        "outputId": "d880af81-b0cb-484a-c1e2-2b6cd90e5286"
      },
      "source": [
        "\n",
        "#b\n",
        "lista = ['a', 'b', 'c', 'd']\n",
        "serie2 = pd.Series(lista, index = [10, 11, 13, 13])\n",
        "serie2"
      ],
      "execution_count": null,
      "outputs": [
        {
          "output_type": "execute_result",
          "data": {
            "text/plain": [
              "10    a\n",
              "11    b\n",
              "13    c\n",
              "13    d\n",
              "dtype: object"
            ]
          },
          "metadata": {},
          "execution_count": 3
        }
      ]
    },
    {
      "cell_type": "code",
      "metadata": {
        "colab": {
          "base_uri": "https://localhost:8080/"
        },
        "id": "3V-9QkSrlpAD",
        "outputId": "6b95a28f-c010-42c4-e214-ccde91dd1099"
      },
      "source": [
        "#c\n",
        "num = 10\n",
        "serie3 = pd.Series(num, index = range(0, 4))\n",
        "serie3"
      ],
      "execution_count": null,
      "outputs": [
        {
          "output_type": "execute_result",
          "data": {
            "text/plain": [
              "0    10\n",
              "1    10\n",
              "2    10\n",
              "3    10\n",
              "dtype: int64"
            ]
          },
          "metadata": {},
          "execution_count": 4
        }
      ]
    },
    {
      "cell_type": "code",
      "metadata": {
        "colab": {
          "base_uri": "https://localhost:8080/"
        },
        "id": "55-AG8lchSh0",
        "outputId": "01fca292-d7bf-4eeb-a694-44d237d65573"
      },
      "source": [
        "\n",
        "#d\n",
        "array = np.arange(10,20, 2)\n",
        "d = pd.Series(array, index = range(1, 6), dtype = float)\n",
        "d"
      ],
      "execution_count": null,
      "outputs": [
        {
          "output_type": "execute_result",
          "data": {
            "text/plain": [
              "1    10.0\n",
              "2    12.0\n",
              "3    14.0\n",
              "4    16.0\n",
              "5    18.0\n",
              "dtype: float64"
            ]
          },
          "metadata": {},
          "execution_count": 5
        }
      ]
    },
    {
      "cell_type": "markdown",
      "metadata": {
        "id": "GIBzlJc1odbF"
      },
      "source": [
        "Exercícios 2"
      ]
    },
    {
      "cell_type": "code",
      "metadata": {
        "colab": {
          "base_uri": "https://localhost:8080/"
        },
        "id": "9P1vLb01mnPb",
        "outputId": "654799d2-bca7-487e-b62e-476751fa90e3"
      },
      "source": [
        "#a\n",
        "data = ['k', 'w', 'z', 'y']\n",
        "serie5 = pd.Series(data = data, index = range(0,4))\n",
        "serie5"
      ],
      "execution_count": null,
      "outputs": [
        {
          "output_type": "execute_result",
          "data": {
            "text/plain": [
              "0    k\n",
              "1    w\n",
              "2    z\n",
              "3    y\n",
              "dtype: object"
            ]
          },
          "metadata": {},
          "execution_count": 6
        }
      ]
    },
    {
      "cell_type": "code",
      "metadata": {
        "colab": {
          "base_uri": "https://localhost:8080/"
        },
        "id": "L8ntx4Zoo8br",
        "outputId": "a11911d3-cb56-4c3c-f39e-bb0937e7b237"
      },
      "source": [
        "\n",
        "#b\n",
        "dic = {'a':10, 'b':30, 'c':15, 'd':12}\n",
        "serie6 = pd.Series(dic)\n",
        "serie6"
      ],
      "execution_count": null,
      "outputs": [
        {
          "output_type": "execute_result",
          "data": {
            "text/plain": [
              "a    10\n",
              "b    30\n",
              "c    15\n",
              "d    12\n",
              "dtype: int64"
            ]
          },
          "metadata": {},
          "execution_count": 7
        }
      ]
    },
    {
      "cell_type": "code",
      "metadata": {
        "colab": {
          "base_uri": "https://localhost:8080/"
        },
        "id": "YcU8i-F9pcOW",
        "outputId": "45da4848-560b-43af-eeb8-5f70606dc3e5"
      },
      "source": [
        "#c\n",
        "lista1 = serie5.to_list()\n",
        "lista2 = serie6.to_list()\n",
        "print(lista1)\n",
        "print(lista2)"
      ],
      "execution_count": null,
      "outputs": [
        {
          "output_type": "stream",
          "name": "stdout",
          "text": [
            "['k', 'w', 'z', 'y']\n",
            "[10, 30, 15, 12]\n"
          ]
        }
      ]
    },
    {
      "cell_type": "code",
      "metadata": {
        "colab": {
          "base_uri": "https://localhost:8080/",
          "height": 166
        },
        "id": "VpwU-3Un8sn-",
        "outputId": "9721ea54-571e-42fb-f9d0-28dcaddc6395"
      },
      "source": [
        "#d\n",
        "tabela = pd.DataFrame(data)\n",
        "tabela = tabela.rename({0 :'letras'}, axis = 1)\n",
        "tabela"
      ],
      "execution_count": null,
      "outputs": [
        {
          "output_type": "execute_result",
          "data": {
            "text/html": [
              "<div>\n",
              "<style scoped>\n",
              "    .dataframe tbody tr th:only-of-type {\n",
              "        vertical-align: middle;\n",
              "    }\n",
              "\n",
              "    .dataframe tbody tr th {\n",
              "        vertical-align: top;\n",
              "    }\n",
              "\n",
              "    .dataframe thead th {\n",
              "        text-align: right;\n",
              "    }\n",
              "</style>\n",
              "<table border=\"1\" class=\"dataframe\">\n",
              "  <thead>\n",
              "    <tr style=\"text-align: right;\">\n",
              "      <th></th>\n",
              "      <th>letras</th>\n",
              "    </tr>\n",
              "  </thead>\n",
              "  <tbody>\n",
              "    <tr>\n",
              "      <th>0</th>\n",
              "      <td>k</td>\n",
              "    </tr>\n",
              "    <tr>\n",
              "      <th>1</th>\n",
              "      <td>w</td>\n",
              "    </tr>\n",
              "    <tr>\n",
              "      <th>2</th>\n",
              "      <td>z</td>\n",
              "    </tr>\n",
              "    <tr>\n",
              "      <th>3</th>\n",
              "      <td>y</td>\n",
              "    </tr>\n",
              "  </tbody>\n",
              "</table>\n",
              "</div>"
            ],
            "text/plain": [
              "  letras\n",
              "0      k\n",
              "1      w\n",
              "2      z\n",
              "3      y"
            ]
          },
          "metadata": {},
          "execution_count": 9
        }
      ]
    },
    {
      "cell_type": "code",
      "metadata": {
        "colab": {
          "base_uri": "https://localhost:8080/",
          "height": 166
        },
        "id": "DBK4NOU88sxU",
        "outputId": "24840b68-0705-4f24-c003-1f10543bcd5d"
      },
      "source": [
        "\n",
        "#d\n",
        "tab = pd.DataFrame(serie6, columns = ['valores'])\n",
        "tab"
      ],
      "execution_count": null,
      "outputs": [
        {
          "output_type": "execute_result",
          "data": {
            "text/html": [
              "<div>\n",
              "<style scoped>\n",
              "    .dataframe tbody tr th:only-of-type {\n",
              "        vertical-align: middle;\n",
              "    }\n",
              "\n",
              "    .dataframe tbody tr th {\n",
              "        vertical-align: top;\n",
              "    }\n",
              "\n",
              "    .dataframe thead th {\n",
              "        text-align: right;\n",
              "    }\n",
              "</style>\n",
              "<table border=\"1\" class=\"dataframe\">\n",
              "  <thead>\n",
              "    <tr style=\"text-align: right;\">\n",
              "      <th></th>\n",
              "      <th>valores</th>\n",
              "    </tr>\n",
              "  </thead>\n",
              "  <tbody>\n",
              "    <tr>\n",
              "      <th>a</th>\n",
              "      <td>10</td>\n",
              "    </tr>\n",
              "    <tr>\n",
              "      <th>b</th>\n",
              "      <td>30</td>\n",
              "    </tr>\n",
              "    <tr>\n",
              "      <th>c</th>\n",
              "      <td>15</td>\n",
              "    </tr>\n",
              "    <tr>\n",
              "      <th>d</th>\n",
              "      <td>12</td>\n",
              "    </tr>\n",
              "  </tbody>\n",
              "</table>\n",
              "</div>"
            ],
            "text/plain": [
              "   valores\n",
              "a       10\n",
              "b       30\n",
              "c       15\n",
              "d       12"
            ]
          },
          "metadata": {},
          "execution_count": 10
        }
      ]
    },
    {
      "cell_type": "markdown",
      "metadata": {
        "id": "MDBxbyOJDQYq"
      },
      "source": [
        "Exercício 3"
      ]
    },
    {
      "cell_type": "code",
      "metadata": {
        "colab": {
          "base_uri": "https://localhost:8080/"
        },
        "id": "crDG8TbNDR6G",
        "outputId": "9dde438e-ad04-43ab-f159-1d65fba497dd"
      },
      "source": [
        "#a\n",
        "#valor = range(1, 50, 2)\n",
        "serie = pd.Series(data = range(1, 50, 2), index = range(25, 50), dtype= float, name = 'serie')\n",
        "serie"
      ],
      "execution_count": null,
      "outputs": [
        {
          "output_type": "execute_result",
          "data": {
            "text/plain": [
              "25     1.0\n",
              "26     3.0\n",
              "27     5.0\n",
              "28     7.0\n",
              "29     9.0\n",
              "30    11.0\n",
              "31    13.0\n",
              "32    15.0\n",
              "33    17.0\n",
              "34    19.0\n",
              "35    21.0\n",
              "36    23.0\n",
              "37    25.0\n",
              "38    27.0\n",
              "39    29.0\n",
              "40    31.0\n",
              "41    33.0\n",
              "42    35.0\n",
              "43    37.0\n",
              "44    39.0\n",
              "45    41.0\n",
              "46    43.0\n",
              "47    45.0\n",
              "48    47.0\n",
              "49    49.0\n",
              "Name: serie, dtype: float64"
            ]
          },
          "metadata": {},
          "execution_count": 11
        }
      ]
    },
    {
      "cell_type": "markdown",
      "metadata": {
        "id": "kuWOO7GvrTu5"
      },
      "source": [
        "Exercício 4"
      ]
    },
    {
      "cell_type": "code",
      "metadata": {
        "id": "moqV-XUbDSER"
      },
      "source": [
        "dt = ['ITUB4', 'BBDC4', 'BBAS3', 'BPAC11', 'SANB11']"
      ],
      "execution_count": null,
      "outputs": []
    },
    {
      "cell_type": "code",
      "metadata": {
        "colab": {
          "base_uri": "https://localhost:8080/"
        },
        "id": "U2hUF-aYrsmu",
        "outputId": "59ed6f19-fd92-4f3d-9936-093f03b29b21"
      },
      "source": [
        "data = pd.Series(data = dt,index = range(1,6), name = 'price')\n",
        "data"
      ],
      "execution_count": null,
      "outputs": [
        {
          "output_type": "execute_result",
          "data": {
            "text/plain": [
              "1     ITUB4\n",
              "2     BBDC4\n",
              "3     BBAS3\n",
              "4    BPAC11\n",
              "5    SANB11\n",
              "Name: price, dtype: object"
            ]
          },
          "metadata": {},
          "execution_count": 13
        }
      ]
    },
    {
      "cell_type": "code",
      "metadata": {
        "colab": {
          "base_uri": "https://localhost:8080/"
        },
        "id": "7dnJvZTosm0Y",
        "outputId": "c0779331-e151-4bdb-c11e-dd2d677a0ceb"
      },
      "source": [
        "#a\n",
        "dicti = data.to_dict()\n",
        "dicti"
      ],
      "execution_count": null,
      "outputs": [
        {
          "output_type": "execute_result",
          "data": {
            "text/plain": [
              "{1: 'ITUB4', 2: 'BBDC4', 3: 'BBAS3', 4: 'BPAC11', 5: 'SANB11'}"
            ]
          },
          "metadata": {},
          "execution_count": 14
        }
      ]
    },
    {
      "cell_type": "code",
      "metadata": {
        "colab": {
          "base_uri": "https://localhost:8080/"
        },
        "id": "N0b07JiWtF1f",
        "outputId": "f76ca1fe-bd6e-44be-de9e-af68ae62e002"
      },
      "source": [
        "#b\n",
        "dlist = data.to_list()\n",
        "dlist"
      ],
      "execution_count": null,
      "outputs": [
        {
          "output_type": "execute_result",
          "data": {
            "text/plain": [
              "['ITUB4', 'BBDC4', 'BBAS3', 'BPAC11', 'SANB11']"
            ]
          },
          "metadata": {},
          "execution_count": 15
        }
      ]
    },
    {
      "cell_type": "code",
      "metadata": {
        "colab": {
          "base_uri": "https://localhost:8080/"
        },
        "id": "Oo-ZGRYAtS16",
        "outputId": "2bd720d0-6a6f-494c-8fd4-81215f14cb54"
      },
      "source": [
        "#c\n",
        "nparray = np.array(data)\n",
        "#nparray = data.to_numpy()\n",
        "nparray"
      ],
      "execution_count": null,
      "outputs": [
        {
          "output_type": "execute_result",
          "data": {
            "text/plain": [
              "array(['ITUB4', 'BBDC4', 'BBAS3', 'BPAC11', 'SANB11'], dtype=object)"
            ]
          },
          "metadata": {},
          "execution_count": 16
        }
      ]
    },
    {
      "cell_type": "markdown",
      "metadata": {
        "id": "sFtPDxwqvhBb"
      },
      "source": [
        "Exercício 5"
      ]
    },
    {
      "cell_type": "code",
      "metadata": {
        "colab": {
          "base_uri": "https://localhost:8080/"
        },
        "id": "CH_BcmFauW6b",
        "outputId": "25e876e4-848e-4abe-861d-013d49a56e61"
      },
      "source": [
        "dados = {'ABEV3' : 12.85, 'AZUL4' : 22.85, 'BTOW3' : 115.08, 'JBSS3' : 24.41}\n",
        "dados"
      ],
      "execution_count": null,
      "outputs": [
        {
          "output_type": "execute_result",
          "data": {
            "text/plain": [
              "{'ABEV3': 12.85, 'AZUL4': 22.85, 'BTOW3': 115.08, 'JBSS3': 24.41}"
            ]
          },
          "metadata": {},
          "execution_count": 17
        }
      ]
    },
    {
      "cell_type": "code",
      "metadata": {
        "colab": {
          "base_uri": "https://localhost:8080/"
        },
        "id": "U7md0g8jwR9T",
        "outputId": "1f887409-01c5-4970-9a28-7cd9c0c005cf"
      },
      "source": [
        "#a\n",
        "teste = pd.Series(data = dados)\n",
        "dlist = teste.to_list()\n",
        "dlist"
      ],
      "execution_count": null,
      "outputs": [
        {
          "output_type": "execute_result",
          "data": {
            "text/plain": [
              "[12.85, 22.85, 115.08, 24.41]"
            ]
          },
          "metadata": {},
          "execution_count": 18
        }
      ]
    },
    {
      "cell_type": "code",
      "metadata": {
        "colab": {
          "base_uri": "https://localhost:8080/"
        },
        "id": "-PwY4OQMzGA6",
        "outputId": "05fb94b1-349c-4e16-cae5-ac2003d8158d"
      },
      "source": [
        "teste"
      ],
      "execution_count": null,
      "outputs": [
        {
          "output_type": "execute_result",
          "data": {
            "text/plain": [
              "ABEV3     12.85\n",
              "AZUL4     22.85\n",
              "BTOW3    115.08\n",
              "JBSS3     24.41\n",
              "dtype: float64"
            ]
          },
          "metadata": {},
          "execution_count": 19
        }
      ]
    },
    {
      "cell_type": "code",
      "metadata": {
        "colab": {
          "base_uri": "https://localhost:8080/",
          "height": 166
        },
        "id": "Tssr2isCxhXw",
        "outputId": "488196e8-0fdf-46c6-9ae2-6b3969b8017f"
      },
      "source": [
        "tabe = pd.DataFrame(teste, columns=['preços'])\n",
        "tabe"
      ],
      "execution_count": null,
      "outputs": [
        {
          "output_type": "execute_result",
          "data": {
            "text/html": [
              "<div>\n",
              "<style scoped>\n",
              "    .dataframe tbody tr th:only-of-type {\n",
              "        vertical-align: middle;\n",
              "    }\n",
              "\n",
              "    .dataframe tbody tr th {\n",
              "        vertical-align: top;\n",
              "    }\n",
              "\n",
              "    .dataframe thead th {\n",
              "        text-align: right;\n",
              "    }\n",
              "</style>\n",
              "<table border=\"1\" class=\"dataframe\">\n",
              "  <thead>\n",
              "    <tr style=\"text-align: right;\">\n",
              "      <th></th>\n",
              "      <th>preços</th>\n",
              "    </tr>\n",
              "  </thead>\n",
              "  <tbody>\n",
              "    <tr>\n",
              "      <th>ABEV3</th>\n",
              "      <td>12.85</td>\n",
              "    </tr>\n",
              "    <tr>\n",
              "      <th>AZUL4</th>\n",
              "      <td>22.85</td>\n",
              "    </tr>\n",
              "    <tr>\n",
              "      <th>BTOW3</th>\n",
              "      <td>115.08</td>\n",
              "    </tr>\n",
              "    <tr>\n",
              "      <th>JBSS3</th>\n",
              "      <td>24.41</td>\n",
              "    </tr>\n",
              "  </tbody>\n",
              "</table>\n",
              "</div>"
            ],
            "text/plain": [
              "       preços\n",
              "ABEV3   12.85\n",
              "AZUL4   22.85\n",
              "BTOW3  115.08\n",
              "JBSS3   24.41"
            ]
          },
          "metadata": {},
          "execution_count": 20
        }
      ]
    },
    {
      "cell_type": "code",
      "metadata": {
        "id": "WzhkXq1R7b1C",
        "colab": {
          "base_uri": "https://localhost:8080/"
        },
        "outputId": "01733965-4211-4451-ae4b-b918982bade8"
      },
      "source": [
        "#b\n",
        "teste['JBSS3'] = 21.48\n",
        "teste['SUZB3'] = 48.19\n",
        "teste['RAIL3'] = 18.93\n",
        "teste"
      ],
      "execution_count": null,
      "outputs": [
        {
          "output_type": "execute_result",
          "data": {
            "text/plain": [
              "ABEV3     12.85\n",
              "AZUL4     22.85\n",
              "BTOW3    115.08\n",
              "JBSS3     21.48\n",
              "SUZB3     48.19\n",
              "RAIL3     18.93\n",
              "dtype: float64"
            ]
          },
          "metadata": {},
          "execution_count": 21
        }
      ]
    },
    {
      "cell_type": "markdown",
      "metadata": {
        "id": "KMpNHtLu8Gis"
      },
      "source": [
        "Exercício 6"
      ]
    },
    {
      "cell_type": "code",
      "metadata": {
        "id": "hf2jUZPA8LLB"
      },
      "source": [
        ""
      ],
      "execution_count": null,
      "outputs": []
    },
    {
      "cell_type": "markdown",
      "metadata": {
        "id": "iXuR_wgI8jq-"
      },
      "source": [
        "Exercício 7"
      ]
    },
    {
      "cell_type": "code",
      "metadata": {
        "id": "wlLxs7Xs8tvc",
        "colab": {
          "base_uri": "https://localhost:8080/"
        },
        "outputId": "8760cea6-a1ac-48e3-84e0-fc7671526b86"
      },
      "source": [
        "\n",
        "#a\n",
        "lista = ['a', 'b', 'c', 'd', 'e', 'f', 'g', 'h', 'i', 'j']\n",
        "val = range (1, 21, 2)\n",
        "a = pd.Series(index = lista, data = val)\n",
        "a"
      ],
      "execution_count": null,
      "outputs": [
        {
          "output_type": "execute_result",
          "data": {
            "text/plain": [
              "a     1\n",
              "b     3\n",
              "c     5\n",
              "d     7\n",
              "e     9\n",
              "f    11\n",
              "g    13\n",
              "h    15\n",
              "i    17\n",
              "j    19\n",
              "dtype: int64"
            ]
          },
          "metadata": {},
          "execution_count": 22
        }
      ]
    },
    {
      "cell_type": "markdown",
      "metadata": {
        "id": "GheAhadv_e9_"
      },
      "source": [
        "Exercício 8"
      ]
    },
    {
      "cell_type": "code",
      "metadata": {
        "id": "zEt-G2mQ_gi7",
        "colab": {
          "base_uri": "https://localhost:8080/",
          "height": 231
        },
        "outputId": "18bbe775-2861-460c-8984-c701259bdabb"
      },
      "source": [
        "\n",
        "val = [2197, 1728, 1331, 1000, 729, 512, 343, 216, 125, 64, 27, 8, 1]\n",
        "anos = [2020, 2010, 2000, 1990, 1980, 1970, 1960, 1950, 1940, 1930, 1920, 1910, 1900]\n",
        "\n",
        "plt.plot(anos, val)\n",
        "plt.title('TESTE')\n",
        "plt.xlabel('eixo x')\n",
        "plt.ylabel('eixo y')\n",
        "plt.show()"
      ],
      "execution_count": null,
      "outputs": [
        {
          "output_type": "display_data",
          "data": {
            "image/png": "[encoded data removed]",
            "text/plain": [
              "<Figure size 432x288 with 1 Axes>"
            ]
          },
          "metadata": {
            "needs_background": "light"
          }
        }
      ]
    },
    {
      "cell_type": "code",
      "metadata": {
        "colab": {
          "base_uri": "https://localhost:8080/"
        },
        "id": "NBggXMndZ_r5",
        "outputId": "2e3f24fc-e573-4774-bcfe-e504757ec38f"
      },
      "source": [
        "table = pd.DataFrame(val, anos)\n",
        "type(table)"
      ],
      "execution_count": null,
      "outputs": [
        {
          "output_type": "execute_result",
          "data": {
            "text/plain": [
              "pandas.core.frame.DataFrame"
            ]
          },
          "metadata": {},
          "execution_count": 24
        }
      ]
    },
    {
      "cell_type": "code",
      "metadata": {
        "colab": {
          "base_uri": "https://localhost:8080/",
          "height": 316
        },
        "id": "hl_-MH-saWty",
        "outputId": "99cab31c-d779-4a4e-b1b9-e694c49d2602"
      },
      "source": [
        "plt.plot(table)\n",
        "plt.title('teste')"
      ],
      "execution_count": null,
      "outputs": [
        {
          "output_type": "execute_result",
          "data": {
            "text/plain": [
              "Text(0.5, 1.0, 'teste')"
            ]
          },
          "metadata": {},
          "execution_count": 25
        },
        {
          "output_type": "display_data",
          "data": {
            "image/png": "[encoded data removed]",
            "text/plain": [
              "<Figure size 432x288 with 1 Axes>"
            ]
          },
          "metadata": {
            "needs_background": "light"
          }
        }
      ]
    },
    {
      "cell_type": "markdown",
      "metadata": {
        "id": "b9K2ZPt0836c"
      },
      "source": [
        "Exercício 9"
      ]
    },
    {
      "cell_type": "code",
      "metadata": {
        "id": "5iG1TvlL83uY"
      },
      "source": [
        "s = pd.Series([1,2,3,4,5,6], index = ['a', 'b', 'c', 'd', 'e', 'f'])"
      ],
      "execution_count": null,
      "outputs": []
    },
    {
      "cell_type": "code",
      "metadata": {
        "colab": {
          "base_uri": "https://localhost:8080/"
        },
        "id": "ETNasF599tNz",
        "outputId": "5105ac36-fc66-41ee-b60e-096eed5d4542"
      },
      "source": [
        "#a\n",
        "s[0]"
      ],
      "execution_count": null,
      "outputs": [
        {
          "output_type": "execute_result",
          "data": {
            "text/plain": [
              "1"
            ]
          },
          "metadata": {},
          "execution_count": 31
        }
      ]
    },
    {
      "cell_type": "code",
      "metadata": {
        "colab": {
          "base_uri": "https://localhost:8080/"
        },
        "id": "kq_z8MEn94K4",
        "outputId": "c7fc986c-06e1-4b07-f69a-e528ea478099"
      },
      "source": [
        "#b\n",
        "s[2]"
      ],
      "execution_count": null,
      "outputs": [
        {
          "output_type": "execute_result",
          "data": {
            "text/plain": [
              "3"
            ]
          },
          "metadata": {},
          "execution_count": 32
        }
      ]
    },
    {
      "cell_type": "code",
      "metadata": {
        "colab": {
          "base_uri": "https://localhost:8080/"
        },
        "id": "PZOwmElq94X5",
        "outputId": "66d047b7-3946-436b-9d62-d612285efa5d"
      },
      "source": [
        "#c\n",
        "s[:3]"
      ],
      "execution_count": null,
      "outputs": [
        {
          "output_type": "execute_result",
          "data": {
            "text/plain": [
              "a    1\n",
              "b    2\n",
              "c    3\n",
              "dtype: int64"
            ]
          },
          "metadata": {},
          "execution_count": 34
        }
      ]
    },
    {
      "cell_type": "code",
      "metadata": {
        "colab": {
          "base_uri": "https://localhost:8080/"
        },
        "id": "j4yKvjew94ex",
        "outputId": "91a6f210-86d9-4910-f52d-e8723f66a85c"
      },
      "source": [
        "#d\n",
        "s[-3:]"
      ],
      "execution_count": null,
      "outputs": [
        {
          "output_type": "execute_result",
          "data": {
            "text/plain": [
              "d    4\n",
              "e    5\n",
              "f    6\n",
              "dtype: int64"
            ]
          },
          "metadata": {},
          "execution_count": 38
        }
      ]
    },
    {
      "cell_type": "code",
      "metadata": {
        "colab": {
          "base_uri": "https://localhost:8080/"
        },
        "id": "mqA3X5ACEY5u",
        "outputId": "edf56303-36d5-4a04-b06b-1ad82a4c8171"
      },
      "source": [
        "#e\n",
        "s[-1]"
      ],
      "execution_count": null,
      "outputs": [
        {
          "output_type": "execute_result",
          "data": {
            "text/plain": [
              "6"
            ]
          },
          "metadata": {},
          "execution_count": 39
        }
      ]
    },
    {
      "cell_type": "markdown",
      "metadata": {
        "id": "RPiTAqA4WQqQ"
      },
      "source": [
        "Exercicio 10"
      ]
    },
    {
      "cell_type": "code",
      "metadata": {
        "id": "3psB228YWUdI"
      },
      "source": [
        "s = pd.Series([1,2,3,4,5,6], index = ['a', 'b', 'c', 'd', 'e', 'f'])"
      ],
      "execution_count": null,
      "outputs": []
    },
    {
      "cell_type": "code",
      "metadata": {
        "colab": {
          "base_uri": "https://localhost:8080/"
        },
        "id": "ODBqocXBXK_H",
        "outputId": "34d8290b-a39a-4ecf-b174-a53d1d65eb7c"
      },
      "source": [
        "pd.Series(s).axes"
      ],
      "execution_count": null,
      "outputs": [
        {
          "output_type": "execute_result",
          "data": {
            "text/plain": [
              "1"
            ]
          },
          "metadata": {},
          "execution_count": 14
        }
      ]
    },
    {
      "cell_type": "code",
      "metadata": {
        "colab": {
          "base_uri": "https://localhost:8080/"
        },
        "id": "T_XadFw0XTUW",
        "outputId": "e7b73ff9-f593-42de-9bf9-602c070dd0e5"
      },
      "source": [
        "pd.Series(s).empty"
      ],
      "execution_count": null,
      "outputs": [
        {
          "output_type": "execute_result",
          "data": {
            "text/plain": [
              "False"
            ]
          },
          "metadata": {},
          "execution_count": 16
        }
      ]
    },
    {
      "cell_type": "code",
      "metadata": {
        "colab": {
          "base_uri": "https://localhost:8080/"
        },
        "id": "hfyLAG4IXTls",
        "outputId": "e5f7c714-e8c6-4004-9d06-ddfa86a120b1"
      },
      "source": [
        "pd.Series(s).ndim"
      ],
      "execution_count": null,
      "outputs": [
        {
          "output_type": "execute_result",
          "data": {
            "text/plain": [
              "1"
            ]
          },
          "metadata": {},
          "execution_count": 17
        }
      ]
    },
    {
      "cell_type": "code",
      "metadata": {
        "colab": {
          "base_uri": "https://localhost:8080/"
        },
        "id": "1F_4PX1DXTw-",
        "outputId": "ef945640-731d-4201-b300-99cb3ffb093d"
      },
      "source": [
        "pd.Series(s).size"
      ],
      "execution_count": null,
      "outputs": [
        {
          "output_type": "execute_result",
          "data": {
            "text/plain": [
              "6"
            ]
          },
          "metadata": {},
          "execution_count": 18
        }
      ]
    },
    {
      "cell_type": "code",
      "metadata": {
        "colab": {
          "base_uri": "https://localhost:8080/"
        },
        "id": "WrfarI5TXiuY",
        "outputId": "b8b436bc-81ed-4425-8647-32aa8f33fdb6"
      },
      "source": [
        "pd.Series(s).values"
      ],
      "execution_count": null,
      "outputs": [
        {
          "output_type": "execute_result",
          "data": {
            "text/plain": [
              "array([1, 2, 3, 4, 5, 6])"
            ]
          },
          "metadata": {},
          "execution_count": 19
        }
      ]
    },
    {
      "cell_type": "markdown",
      "metadata": {
        "id": "l1f1sSpOXp8-"
      },
      "source": [
        "Exercício 11"
      ]
    },
    {
      "cell_type": "code",
      "metadata": {
        "colab": {
          "base_uri": "https://localhost:8080/",
          "height": 344
        },
        "id": "cWLe1gzlXr3v",
        "outputId": "3e56ae8f-0936-49a0-ef48-83ebe3d44002"
      },
      "source": [
        "\n",
        "a = [10, 22, 3, 11, 17, 22, 9, 4, 29, 31]\n",
        "index = list(range(0, 10))\n",
        "s = pd.DataFrame(data = a, index = index, columns = ['A'])\n",
        "s"
      ],
      "execution_count": null,
      "outputs": [
        {
          "output_type": "execute_result",
          "data": {
            "text/html": [
              "<div>\n",
              "<style scoped>\n",
              "    .dataframe tbody tr th:only-of-type {\n",
              "        vertical-align: middle;\n",
              "    }\n",
              "\n",
              "    .dataframe tbody tr th {\n",
              "        vertical-align: top;\n",
              "    }\n",
              "\n",
              "    .dataframe thead th {\n",
              "        text-align: right;\n",
              "    }\n",
              "</style>\n",
              "<table border=\"1\" class=\"dataframe\">\n",
              "  <thead>\n",
              "    <tr style=\"text-align: right;\">\n",
              "      <th></th>\n",
              "      <th>A</th>\n",
              "    </tr>\n",
              "  </thead>\n",
              "  <tbody>\n",
              "    <tr>\n",
              "      <th>0</th>\n",
              "      <td>10</td>\n",
              "    </tr>\n",
              "    <tr>\n",
              "      <th>1</th>\n",
              "      <td>22</td>\n",
              "    </tr>\n",
              "    <tr>\n",
              "      <th>2</th>\n",
              "      <td>3</td>\n",
              "    </tr>\n",
              "    <tr>\n",
              "      <th>3</th>\n",
              "      <td>11</td>\n",
              "    </tr>\n",
              "    <tr>\n",
              "      <th>4</th>\n",
              "      <td>17</td>\n",
              "    </tr>\n",
              "    <tr>\n",
              "      <th>5</th>\n",
              "      <td>22</td>\n",
              "    </tr>\n",
              "    <tr>\n",
              "      <th>6</th>\n",
              "      <td>9</td>\n",
              "    </tr>\n",
              "    <tr>\n",
              "      <th>7</th>\n",
              "      <td>4</td>\n",
              "    </tr>\n",
              "    <tr>\n",
              "      <th>8</th>\n",
              "      <td>29</td>\n",
              "    </tr>\n",
              "    <tr>\n",
              "      <th>9</th>\n",
              "      <td>31</td>\n",
              "    </tr>\n",
              "  </tbody>\n",
              "</table>\n",
              "</div>"
            ],
            "text/plain": [
              "    A\n",
              "0  10\n",
              "1  22\n",
              "2   3\n",
              "3  11\n",
              "4  17\n",
              "5  22\n",
              "6   9\n",
              "7   4\n",
              "8  29\n",
              "9  31"
            ]
          },
          "metadata": {},
          "execution_count": 44
        }
      ]
    },
    {
      "cell_type": "markdown",
      "metadata": {
        "id": "9xBoLyLVcAUB"
      },
      "source": [
        "Exercício 12"
      ]
    },
    {
      "cell_type": "code",
      "metadata": {
        "colab": {
          "base_uri": "https://localhost:8080/",
          "height": 255
        },
        "id": "Ku0D64nVcCHM",
        "outputId": "2faa7dc9-cfea-49d9-a9da-866225951256"
      },
      "source": [
        "dic = {\n",
        "'b' :[11, 17, 22, 95, 44, 29, 31],\n",
        "'c' :[13, 26, 34, 48, 56, 63, 76],\n",
        "'e' :[130, 144, 111, 104, 199, 186, 156]\n",
        "}\n",
        "\n",
        "tab = pd.DataFrame(dic)\n",
        "tab"
      ],
      "execution_count": null,
      "outputs": [
        {
          "output_type": "execute_result",
          "data": {
            "text/html": [
              "<div>\n",
              "<style scoped>\n",
              "    .dataframe tbody tr th:only-of-type {\n",
              "        vertical-align: middle;\n",
              "    }\n",
              "\n",
              "    .dataframe tbody tr th {\n",
              "        vertical-align: top;\n",
              "    }\n",
              "\n",
              "    .dataframe thead th {\n",
              "        text-align: right;\n",
              "    }\n",
              "</style>\n",
              "<table border=\"1\" class=\"dataframe\">\n",
              "  <thead>\n",
              "    <tr style=\"text-align: right;\">\n",
              "      <th></th>\n",
              "      <th>b</th>\n",
              "      <th>c</th>\n",
              "      <th>e</th>\n",
              "    </tr>\n",
              "  </thead>\n",
              "  <tbody>\n",
              "    <tr>\n",
              "      <th>0</th>\n",
              "      <td>11</td>\n",
              "      <td>13</td>\n",
              "      <td>130</td>\n",
              "    </tr>\n",
              "    <tr>\n",
              "      <th>1</th>\n",
              "      <td>17</td>\n",
              "      <td>26</td>\n",
              "      <td>144</td>\n",
              "    </tr>\n",
              "    <tr>\n",
              "      <th>2</th>\n",
              "      <td>22</td>\n",
              "      <td>34</td>\n",
              "      <td>111</td>\n",
              "    </tr>\n",
              "    <tr>\n",
              "      <th>3</th>\n",
              "      <td>95</td>\n",
              "      <td>48</td>\n",
              "      <td>104</td>\n",
              "    </tr>\n",
              "    <tr>\n",
              "      <th>4</th>\n",
              "      <td>44</td>\n",
              "      <td>56</td>\n",
              "      <td>199</td>\n",
              "    </tr>\n",
              "    <tr>\n",
              "      <th>5</th>\n",
              "      <td>29</td>\n",
              "      <td>63</td>\n",
              "      <td>186</td>\n",
              "    </tr>\n",
              "    <tr>\n",
              "      <th>6</th>\n",
              "      <td>31</td>\n",
              "      <td>76</td>\n",
              "      <td>156</td>\n",
              "    </tr>\n",
              "  </tbody>\n",
              "</table>\n",
              "</div>"
            ],
            "text/plain": [
              "    b   c    e\n",
              "0  11  13  130\n",
              "1  17  26  144\n",
              "2  22  34  111\n",
              "3  95  48  104\n",
              "4  44  56  199\n",
              "5  29  63  186\n",
              "6  31  76  156"
            ]
          },
          "metadata": {},
          "execution_count": 61
        }
      ]
    },
    {
      "cell_type": "markdown",
      "metadata": {
        "id": "SF-oasmdEAya"
      },
      "source": [
        "Pandas - estatística descritiva"
      ]
    },
    {
      "cell_type": "code",
      "metadata": {
        "id": "8IQusVXCEEtf"
      },
      "source": [
        ""
      ],
      "execution_count": null,
      "outputs": []
    }
  ]
}